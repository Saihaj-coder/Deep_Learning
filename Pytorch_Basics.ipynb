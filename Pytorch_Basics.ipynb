{
  "nbformat": 4,
  "nbformat_minor": 0,
  "metadata": {
    "colab": {
      "provenance": [],
      "authorship_tag": "ABX9TyNL9i3I8ISOkiYdKjJELQfc"
    },
    "kernelspec": {
      "name": "python3",
      "display_name": "Python 3"
    },
    "language_info": {
      "name": "python"
    }
  },
  "cells": [
    {
      "cell_type": "code",
      "execution_count": 1,
      "metadata": {
        "id": "A1ltOCyZhQog"
      },
      "outputs": [],
      "source": [
        "import torch\n",
        "import numpy as np"
      ]
    },
    {
      "cell_type": "code",
      "source": [
        "a = np.array(1)\n",
        "print(a, type(a))"
      ],
      "metadata": {
        "colab": {
          "base_uri": "https://localhost:8080/"
        },
        "id": "-Ib-RFzthldn",
        "outputId": "6952d102-b51c-4112-9c70-53df9f31ab4b"
      },
      "execution_count": 2,
      "outputs": [
        {
          "output_type": "stream",
          "name": "stdout",
          "text": [
            "1 <class 'numpy.ndarray'>\n"
          ]
        }
      ]
    },
    {
      "cell_type": "code",
      "source": [
        "b = torch.tensor(1)\n",
        "print(b, type(b))"
      ],
      "metadata": {
        "colab": {
          "base_uri": "https://localhost:8080/"
        },
        "id": "-GiBmGuTiAnA",
        "outputId": "cd256abf-d5f1-429f-e672-1eb40aac2187"
      },
      "execution_count": 3,
      "outputs": [
        {
          "output_type": "stream",
          "name": "stdout",
          "text": [
            "tensor(1) <class 'torch.Tensor'>\n"
          ]
        }
      ]
    },
    {
      "cell_type": "code",
      "source": [
        "b = np.array(2)"
      ],
      "metadata": {
        "id": "2qtjzkXhiSqT"
      },
      "execution_count": 4,
      "outputs": []
    },
    {
      "cell_type": "code",
      "source": [
        "print(a+b, a-b, a*b, a/b)"
      ],
      "metadata": {
        "colab": {
          "base_uri": "https://localhost:8080/"
        },
        "id": "OFpK9mtUioz-",
        "outputId": "3f1114e1-81bb-4c22-b47a-977393585eed"
      },
      "execution_count": 5,
      "outputs": [
        {
          "output_type": "stream",
          "name": "stdout",
          "text": [
            "3 -1 2 0.5\n"
          ]
        }
      ]
    },
    {
      "cell_type": "code",
      "source": [
        "a = torch.tensor(1)\n",
        "b = torch.tensor(2)\n",
        "print(a+b, a-b, a*b, a/b)"
      ],
      "metadata": {
        "colab": {
          "base_uri": "https://localhost:8080/"
        },
        "id": "vsGAdy42ivnV",
        "outputId": "54ff6324-d46d-4641-f251-0da4767d654e"
      },
      "execution_count": 6,
      "outputs": [
        {
          "output_type": "stream",
          "name": "stdout",
          "text": [
            "tensor(3) tensor(-1) tensor(2) tensor(0.5000)\n"
          ]
        }
      ]
    },
    {
      "cell_type": "code",
      "source": [
        "zero = np.zeros((3, 3))\n",
        "print(zero, zero.shape)"
      ],
      "metadata": {
        "colab": {
          "base_uri": "https://localhost:8080/"
        },
        "id": "5ZhciAsFjCSu",
        "outputId": "9a6db929-a0d3-4929-c49f-893d2ed88e31"
      },
      "execution_count": 7,
      "outputs": [
        {
          "output_type": "stream",
          "name": "stdout",
          "text": [
            "[[0. 0. 0.]\n",
            " [0. 0. 0.]\n",
            " [0. 0. 0.]] (3, 3)\n"
          ]
        }
      ]
    },
    {
      "cell_type": "code",
      "source": [
        "zero = torch.zeros((3, 3))\n",
        "print(zero, zero.shape)"
      ],
      "metadata": {
        "colab": {
          "base_uri": "https://localhost:8080/"
        },
        "id": "iUa5LnyejXX6",
        "outputId": "197578e9-01df-4839-a33d-905895ee2e2e"
      },
      "execution_count": 8,
      "outputs": [
        {
          "output_type": "stream",
          "name": "stdout",
          "text": [
            "tensor([[0., 0., 0.],\n",
            "        [0., 0., 0.],\n",
            "        [0., 0., 0.]]) torch.Size([3, 3])\n"
          ]
        }
      ]
    },
    {
      "cell_type": "code",
      "source": [
        "np.random.seed(5)\n",
        "a = np.random.randn(3, 3)\n",
        "b = np.random.randn(3, 3)\n",
        "print(a)\n",
        "print(b)"
      ],
      "metadata": {
        "colab": {
          "base_uri": "https://localhost:8080/"
        },
        "id": "DtNSFv3Nkzv-",
        "outputId": "7814c7cd-5233-4e30-b0b5-4e084f05d51a"
      },
      "execution_count": 13,
      "outputs": [
        {
          "output_type": "stream",
          "name": "stdout",
          "text": [
            "[[ 0.44122749 -0.33087015  2.43077119]\n",
            " [-0.25209213  0.10960984  1.58248112]\n",
            " [-0.9092324  -0.59163666  0.18760323]]\n",
            "[[-0.32986996 -1.19276461 -0.20487651]\n",
            " [-0.35882895  0.6034716  -1.66478853]\n",
            " [-0.70017904  1.15139101  1.85733101]]\n"
          ]
        }
      ]
    },
    {
      "cell_type": "code",
      "source": [
        "print(np.add(a, b), np.subtract(a, b), a@b, np.divide(a, b), np.transpose(a))"
      ],
      "metadata": {
        "colab": {
          "base_uri": "https://localhost:8080/"
        },
        "id": "ZJG5oxgQmheY",
        "outputId": "c6f7b753-716a-4cfa-9ca5-d9155a5ed4a8"
      },
      "execution_count": 14,
      "outputs": [
        {
          "output_type": "stream",
          "name": "stdout",
          "text": [
            "[[ 0.11135753 -1.52363476  2.22589468]\n",
            " [-0.61092108  0.71308144 -0.08230741]\n",
            " [-1.60941144  0.55975435  2.04493423]] [[ 0.77109744  0.86189446  2.6356477 ]\n",
            " [ 0.10673682 -0.49386176  3.24726965]\n",
            " [-0.20905337 -1.74302767 -1.66972778]] [[-1.72879693  2.07281682  4.97517838]\n",
            " [-1.06419367  2.18888753  2.8083618 ]\n",
            " [ 0.38086897  0.94346898  1.51967157]] [[ -1.33758009   0.27739769 -11.86456749]\n",
            " [  0.70254123   0.18163214  -0.95055984]\n",
            " [  1.2985713   -0.51384513   0.10100689]] [[ 0.44122749 -0.25209213 -0.9092324 ]\n",
            " [-0.33087015  0.10960984 -0.59163666]\n",
            " [ 2.43077119  1.58248112  0.18760323]]\n"
          ]
        }
      ]
    },
    {
      "cell_type": "code",
      "source": [
        "torch.manual_seed(5)\n",
        "a = torch.randn(3, 3)\n",
        "b = torch.randn(3, 3)\n",
        "print(a)\n",
        "print(b)"
      ],
      "metadata": {
        "colab": {
          "base_uri": "https://localhost:8080/"
        },
        "id": "y73ilrgmlHBH",
        "outputId": "29ec2966-bd08-40e1-e495-52e706139a6a"
      },
      "execution_count": 15,
      "outputs": [
        {
          "output_type": "stream",
          "name": "stdout",
          "text": [
            "tensor([[-0.4868, -0.6038, -0.5581],\n",
            "        [ 0.6675, -0.1974,  1.9428],\n",
            "        [-1.4017, -0.7626,  0.6312]])\n",
            "tensor([[-0.8991, -0.5578,  0.6907],\n",
            "        [ 0.2225, -0.6662,  0.6846],\n",
            "        [ 0.5740, -0.5829,  0.7679]])\n"
          ]
        }
      ]
    },
    {
      "cell_type": "code",
      "source": [
        "print(torch.add(a, b), torch.subtract(a, b), torch.matmul(a, b), torch.div(a, b), torch.t(a))"
      ],
      "metadata": {
        "colab": {
          "base_uri": "https://localhost:8080/"
        },
        "id": "DG2tH5qBlZMh",
        "outputId": "bfea1478-cdc7-4b78-bc44-e7af564d7a5c"
      },
      "execution_count": 16,
      "outputs": [
        {
          "output_type": "stream",
          "name": "stdout",
          "text": [
            "tensor([[-1.3859, -1.1616,  0.1326],\n",
            "        [ 0.8900, -0.8636,  2.6274],\n",
            "        [-0.8277, -1.3454,  1.3992]]) tensor([[ 0.4124, -0.0460, -1.2488],\n",
            "        [ 0.4451,  0.4688,  1.2581],\n",
            "        [-1.9757, -0.1797, -0.1367]]) tensor([[-0.0170,  0.9991, -1.1782],\n",
            "        [ 0.4710, -1.3732,  1.8179],\n",
            "        [ 1.4530,  0.9220, -1.0055]]) tensor([[ 0.5414,  1.0825, -0.8080],\n",
            "        [ 3.0007,  0.2963,  2.8377],\n",
            "        [-2.4420,  1.3083,  0.8220]]) tensor([[-0.4868,  0.6675, -1.4017],\n",
            "        [-0.6038, -0.1974, -0.7626],\n",
            "        [-0.5581,  1.9428,  0.6312]])\n"
          ]
        }
      ]
    },
    {
      "cell_type": "code",
      "source": [
        "a = torch.tensor([[1, 2], [3, 4]])\n",
        "b = torch.tensor([[5, 6], [7, 8]])"
      ],
      "metadata": {
        "id": "uF3sMxeboZv4"
      },
      "execution_count": 24,
      "outputs": []
    },
    {
      "cell_type": "code",
      "source": [
        "print(a, b, a.shape, b.shape)"
      ],
      "metadata": {
        "colab": {
          "base_uri": "https://localhost:8080/"
        },
        "id": "YdUjxNFBpGxc",
        "outputId": "bf23b1d2-47d4-42d2-aa3d-e3c44b22db73"
      },
      "execution_count": 22,
      "outputs": [
        {
          "output_type": "stream",
          "name": "stdout",
          "text": [
            "tensor([[1, 2],\n",
            "        [3, 4]]) tensor([[5, 6],\n",
            "        [7, 8]]) torch.Size([2, 2]) torch.Size([2, 2])\n"
          ]
        }
      ]
    },
    {
      "cell_type": "code",
      "source": [
        "a = torch.cat((a, b), dim = 1)\n",
        "print(a, a.shape)"
      ],
      "metadata": {
        "colab": {
          "base_uri": "https://localhost:8080/"
        },
        "id": "b8p-6QnWpM-S",
        "outputId": "3b8f44c8-310f-40a2-87aa-5dfeb37d6b0f"
      },
      "execution_count": 23,
      "outputs": [
        {
          "output_type": "stream",
          "name": "stdout",
          "text": [
            "tensor([[1, 2, 5, 6],\n",
            "        [3, 4, 7, 8]]) torch.Size([2, 4])\n"
          ]
        }
      ]
    },
    {
      "cell_type": "code",
      "source": [
        "a = torch.cat((a, b), dim = 0)\n",
        "print(a, a.shape)"
      ],
      "metadata": {
        "colab": {
          "base_uri": "https://localhost:8080/"
        },
        "id": "IzxOyJS-pks2",
        "outputId": "78e4f47a-49a4-4a2d-b484-34b02ebe13ef"
      },
      "execution_count": 25,
      "outputs": [
        {
          "output_type": "stream",
          "name": "stdout",
          "text": [
            "tensor([[1, 2],\n",
            "        [3, 4],\n",
            "        [5, 6],\n",
            "        [7, 8]]) torch.Size([4, 2])\n"
          ]
        }
      ]
    },
    {
      "cell_type": "code",
      "source": [
        "a = a.reshape(1, 8)\n",
        "print(a, a.shape)"
      ],
      "metadata": {
        "colab": {
          "base_uri": "https://localhost:8080/"
        },
        "id": "PfzJDTrpqaD1",
        "outputId": "c2e8a081-2b99-4d8b-8f2e-a5d7ae33676b"
      },
      "execution_count": 26,
      "outputs": [
        {
          "output_type": "stream",
          "name": "stdout",
          "text": [
            "tensor([[1, 2, 3, 4, 5, 6, 7, 8]]) torch.Size([1, 8])\n"
          ]
        }
      ]
    },
    {
      "cell_type": "code",
      "source": [
        "a = np.array([[1, 2], [3, 4]])\n",
        "print(a)\n",
        "a = torch.from_numpy(a)\n",
        "print(a)"
      ],
      "metadata": {
        "colab": {
          "base_uri": "https://localhost:8080/"
        },
        "id": "iyZWhwSKq1Ao",
        "outputId": "3c1371eb-c53b-4b75-99c6-f47340a94be0"
      },
      "execution_count": 27,
      "outputs": [
        {
          "output_type": "stream",
          "name": "stdout",
          "text": [
            "[[1 2]\n",
            " [3 4]]\n",
            "tensor([[1, 2],\n",
            "        [3, 4]])\n"
          ]
        }
      ]
    },
    {
      "cell_type": "code",
      "source": [
        "a = torch.ones((2, 2), requires_grad=False)\n",
        "aa = torch.ones((2, 2), requires_grad=True)"
      ],
      "metadata": {
        "id": "hfHYtrqgrkct"
      },
      "execution_count": 34,
      "outputs": []
    },
    {
      "cell_type": "code",
      "source": [
        "a"
      ],
      "metadata": {
        "colab": {
          "base_uri": "https://localhost:8080/"
        },
        "id": "khcfx_YgsF8l",
        "outputId": "1425a7c5-2bd9-4ff8-97d1-e3a13ccd4dd3"
      },
      "execution_count": 35,
      "outputs": [
        {
          "output_type": "execute_result",
          "data": {
            "text/plain": [
              "tensor([[1., 1.],\n",
              "        [1., 1.]])"
            ]
          },
          "metadata": {},
          "execution_count": 35
        }
      ]
    },
    {
      "cell_type": "code",
      "source": [
        "b = a + aa\n",
        "print(b)"
      ],
      "metadata": {
        "colab": {
          "base_uri": "https://localhost:8080/"
        },
        "id": "xynow3V1sGri",
        "outputId": "242c75a3-49f5-4f7a-fccb-83cfeda4c6f3"
      },
      "execution_count": 36,
      "outputs": [
        {
          "output_type": "stream",
          "name": "stdout",
          "text": [
            "tensor([[2., 2.],\n",
            "        [2., 2.]], grad_fn=<AddBackward0>)\n"
          ]
        }
      ]
    },
    {
      "cell_type": "code",
      "source": [
        "c = b.mean()\n",
        "print(c)"
      ],
      "metadata": {
        "colab": {
          "base_uri": "https://localhost:8080/"
        },
        "id": "4sHFuCAOsTIZ",
        "outputId": "261e3994-5af5-4b6b-d641-57d4d94a9407"
      },
      "execution_count": 37,
      "outputs": [
        {
          "output_type": "stream",
          "name": "stdout",
          "text": [
            "tensor(2., grad_fn=<MeanBackward0>)\n"
          ]
        }
      ]
    },
    {
      "cell_type": "code",
      "source": [
        "c.backward()"
      ],
      "metadata": {
        "id": "xETus1Ghsq-p"
      },
      "execution_count": 38,
      "outputs": []
    },
    {
      "cell_type": "code",
      "source": [
        "print(aa.grad)"
      ],
      "metadata": {
        "colab": {
          "base_uri": "https://localhost:8080/"
        },
        "id": "ez8XAm9gtM42",
        "outputId": "04a057e8-ed2c-4f8b-b043-54cd3081c361"
      },
      "execution_count": 39,
      "outputs": [
        {
          "output_type": "stream",
          "name": "stdout",
          "text": [
            "tensor([[0.2500, 0.2500],\n",
            "        [0.2500, 0.2500]])\n"
          ]
        }
      ]
    },
    {
      "cell_type": "code",
      "source": [],
      "metadata": {
        "id": "REQrocPWtTrr"
      },
      "execution_count": null,
      "outputs": []
    }
  ]
}