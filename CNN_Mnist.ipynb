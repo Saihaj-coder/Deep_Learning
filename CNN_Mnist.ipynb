{
  "nbformat": 4,
  "nbformat_minor": 0,
  "metadata": {
    "colab": {
      "provenance": [],
      "authorship_tag": "ABX9TyNpwSvaRA0CMOF/nUezq2c8"
    },
    "kernelspec": {
      "name": "python3",
      "display_name": "Python 3"
    },
    "language_info": {
      "name": "python"
    }
  },
  "cells": [
    {
      "cell_type": "code",
      "execution_count": 1,
      "metadata": {
        "id": "HwEVTdW9OeoM"
      },
      "outputs": [],
      "source": [
        "import tensorflow as tf\n",
        "import numpy as np\n",
        "from tensorflow import keras\n",
        "from keras import layers\n",
        "import matplotlib.pyplot as plt"
      ]
    },
    {
      "cell_type": "code",
      "source": [
        "num_classes = 10\n",
        "(train_set_x, train_set_y), (test_set_x, test_set_y) = keras.datasets.mnist.load_data()"
      ],
      "metadata": {
        "id": "3yjEvU2mOmJq"
      },
      "execution_count": 2,
      "outputs": []
    },
    {
      "cell_type": "code",
      "source": [
        "print(train_set_x.shape, train_set_y.shape, test_set_x.shape, test_set_y.shape)"
      ],
      "metadata": {
        "colab": {
          "base_uri": "https://localhost:8080/"
        },
        "id": "7DhGngZfOy-M",
        "outputId": "946d85fc-99db-4b0f-dc57-0d5516fcbdb6"
      },
      "execution_count": 3,
      "outputs": [
        {
          "output_type": "stream",
          "name": "stdout",
          "text": [
            "(60000, 28, 28) (60000,) (10000, 28, 28) (10000,)\n"
          ]
        }
      ]
    },
    {
      "cell_type": "code",
      "source": [
        "test_img = train_set_x[200]\n",
        "print(test_img.shape)"
      ],
      "metadata": {
        "colab": {
          "base_uri": "https://localhost:8080/"
        },
        "id": "rWiCtalcO4Ju",
        "outputId": "a8396df6-1922-41f6-f9ad-6391e1d13f81"
      },
      "execution_count": 4,
      "outputs": [
        {
          "output_type": "stream",
          "name": "stdout",
          "text": [
            "(28, 28)\n"
          ]
        }
      ]
    },
    {
      "cell_type": "code",
      "source": [
        "plt.imshow(test_img, cmap='gray')\n",
        "plt.show()\n",
        "print(train_set_y[200])"
      ],
      "metadata": {
        "colab": {
          "base_uri": "https://localhost:8080/",
          "height": 447
        },
        "id": "96-0S3DpPBpC",
        "outputId": "7135429a-aac3-4c3b-bbfa-36e5f8e4da38"
      },
      "execution_count": 5,
      "outputs": [
        {
          "output_type": "display_data",
          "data": {
            "text/plain": [
              "<Figure size 640x480 with 1 Axes>"
            ],
            "image/png": "[encoded data removed]"
          },
          "metadata": {}
        },
        {
          "output_type": "stream",
          "name": "stdout",
          "text": [
            "1\n"
          ]
        }
      ]
    },
    {
      "cell_type": "code",
      "source": [
        "test_img.max()"
      ],
      "metadata": {
        "colab": {
          "base_uri": "https://localhost:8080/"
        },
        "id": "eEZJwKfEPGst",
        "outputId": "38e9a7ec-785a-4b9c-9a94-1b73afc7234d"
      },
      "execution_count": 6,
      "outputs": [
        {
          "output_type": "execute_result",
          "data": {
            "text/plain": [
              "255"
            ]
          },
          "metadata": {},
          "execution_count": 6
        }
      ]
    },
    {
      "cell_type": "code",
      "source": [
        "train_set_x = train_set_x.astype('float32')/255\n",
        "test_set_x = test_set_x.astype('float32')/255"
      ],
      "metadata": {
        "id": "9wKvcwNNPNYX"
      },
      "execution_count": 7,
      "outputs": []
    },
    {
      "cell_type": "code",
      "source": [
        "plt.imshow(train_set_x[200], cmap='gray')"
      ],
      "metadata": {
        "colab": {
          "base_uri": "https://localhost:8080/",
          "height": 447
        },
        "id": "1xDXd4PrPRbc",
        "outputId": "4a08fe8f-273e-4a21-bffb-c22347a83c01"
      },
      "execution_count": 8,
      "outputs": [
        {
          "output_type": "execute_result",
          "data": {
            "text/plain": [
              "<matplotlib.image.AxesImage at 0x789a8e562e00>"
            ]
          },
          "metadata": {},
          "execution_count": 8
        },
        {
          "output_type": "display_data",
          "data": {
            "text/plain": [
              "<Figure size 640x480 with 1 Axes>"
            ],
            "image/png": "[encoded data removed]"
          },
          "metadata": {}
        }
      ]
    },
    {
      "cell_type": "code",
      "source": [
        "train_set_x = np.expand_dims(train_set_x, -1)\n",
        "test_set_x = np.expand_dims(test_set_x, -1)"
      ],
      "metadata": {
        "id": "-J9LBWOcPV6a"
      },
      "execution_count": 9,
      "outputs": []
    },
    {
      "cell_type": "code",
      "source": [
        "print(train_set_x.shape, test_set_x.shape)"
      ],
      "metadata": {
        "colab": {
          "base_uri": "https://localhost:8080/"
        },
        "id": "VfnuN-bZPcjy",
        "outputId": "79ea89e0-bff1-4f6c-8f11-28e9ac667c28"
      },
      "execution_count": 10,
      "outputs": [
        {
          "output_type": "stream",
          "name": "stdout",
          "text": [
            "(60000, 28, 28, 1) (10000, 28, 28, 1)\n"
          ]
        }
      ]
    },
    {
      "cell_type": "code",
      "source": [
        "train_set_y[30]"
      ],
      "metadata": {
        "colab": {
          "base_uri": "https://localhost:8080/"
        },
        "id": "ecj3uC96Pgma",
        "outputId": "b4b33ba3-a7be-4b2d-af2a-fbc3eb85fe6f"
      },
      "execution_count": 11,
      "outputs": [
        {
          "output_type": "execute_result",
          "data": {
            "text/plain": [
              "3"
            ]
          },
          "metadata": {},
          "execution_count": 11
        }
      ]
    },
    {
      "cell_type": "code",
      "source": [
        "train_set_y = keras.utils.to_categorical(train_set_y, num_classes)\n",
        "test_set_y = keras.utils.to_categorical(test_set_y, num_classes)"
      ],
      "metadata": {
        "id": "Ggp_GiqzPmV9"
      },
      "execution_count": 12,
      "outputs": []
    },
    {
      "cell_type": "code",
      "source": [
        "train_set_y[30]"
      ],
      "metadata": {
        "colab": {
          "base_uri": "https://localhost:8080/"
        },
        "id": "kSdmVkEuPszx",
        "outputId": "e404728a-5302-4020-b41a-b2280e5dd15a"
      },
      "execution_count": 13,
      "outputs": [
        {
          "output_type": "execute_result",
          "data": {
            "text/plain": [
              "array([0., 0., 0., 1., 0., 0., 0., 0., 0., 0.], dtype=float32)"
            ]
          },
          "metadata": {},
          "execution_count": 13
        }
      ]
    },
    {
      "cell_type": "code",
      "source": [
        "input_shape =  (28, 28, 1)"
      ],
      "metadata": {
        "id": "P5C1UK07PxFp"
      },
      "execution_count": 14,
      "outputs": []
    },
    {
      "cell_type": "code",
      "source": [
        "model = keras.Sequential(\n",
        "    [\n",
        "    keras.Input(shape = input_shape),\n",
        "    layers.Conv2D(32, kernel_size = (3, 3), activation = 'relu'),\n",
        "    layers.MaxPool2D(pool_size = (2, 2), strides=(1, 1)),\n",
        "    layers.Conv2D(64, kernel_size = (3, 3), activation = 'relu'),\n",
        "    layers.MaxPool2D(pool_size = (2, 2)),\n",
        "    layers.Flatten(),\n",
        "    layers.Dense(500, activation = 'relu'),\n",
        "    layers.Dense(num_classes, activation = 'softmax')\n",
        "    ]\n",
        ")"
      ],
      "metadata": {
        "id": "myPUjuS_P2EC"
      },
      "execution_count": 15,
      "outputs": []
    },
    {
      "cell_type": "code",
      "source": [
        "model.summary()"
      ],
      "metadata": {
        "colab": {
          "base_uri": "https://localhost:8080/"
        },
        "id": "knEqcmV7P5tS",
        "outputId": "b8ab35eb-5c9a-4736-a30e-92aa97e16db2"
      },
      "execution_count": 16,
      "outputs": [
        {
          "output_type": "stream",
          "name": "stdout",
          "text": [
            "Model: \"sequential\"\n",
            "_________________________________________________________________\n",
            " Layer (type)                Output Shape              Param #   \n",
            "=================================================================\n",
            " conv2d (Conv2D)             (None, 26, 26, 32)        320       \n",
            "                                                                 \n",
            " max_pooling2d (MaxPooling2D  (None, 25, 25, 32)       0         \n",
            " )                                                               \n",
            "                                                                 \n",
            " conv2d_1 (Conv2D)           (None, 23, 23, 64)        18496     \n",
            "                                                                 \n",
            " max_pooling2d_1 (MaxPooling  (None, 11, 11, 64)       0         \n",
            " 2D)                                                             \n",
            "                                                                 \n",
            " flatten (Flatten)           (None, 7744)              0         \n",
            "                                                                 \n",
            " dense (Dense)               (None, 500)               3872500   \n",
            "                                                                 \n",
            " dense_1 (Dense)             (None, 10)                5010      \n",
            "                                                                 \n",
            "=================================================================\n",
            "Total params: 3,896,326\n",
            "Trainable params: 3,896,326\n",
            "Non-trainable params: 0\n",
            "_________________________________________________________________\n"
          ]
        }
      ]
    },
    {
      "cell_type": "code",
      "source": [
        "batch = 512\n",
        "epoch = 5"
      ],
      "metadata": {
        "id": "YsjzOmV7P_NB"
      },
      "execution_count": 17,
      "outputs": []
    },
    {
      "cell_type": "code",
      "source": [
        "model.compile(optimizer = 'Adam', loss=\"categorical_crossentropy\", metrics = ['accuracy'])"
      ],
      "metadata": {
        "id": "MParyZKkQLoO"
      },
      "execution_count": 18,
      "outputs": []
    },
    {
      "cell_type": "code",
      "source": [
        "hist = model.fit(train_set_x, train_set_y, epochs=epoch, batch_size=batch, validation_split=0.1)"
      ],
      "metadata": {
        "colab": {
          "base_uri": "https://localhost:8080/"
        },
        "id": "KiJQcaCiQuvs",
        "outputId": "0aa3ef48-b34b-4e46-d3d3-1b8398ec6d12"
      },
      "execution_count": 19,
      "outputs": [
        {
          "output_type": "stream",
          "name": "stdout",
          "text": [
            "Epoch 1/5\n",
            "106/106 [==============================] - 259s 2s/step - loss: 0.2720 - accuracy: 0.9172 - val_loss: 0.0615 - val_accuracy: 0.9837\n",
            "Epoch 2/5\n",
            "106/106 [==============================] - 255s 2s/step - loss: 0.0588 - accuracy: 0.9826 - val_loss: 0.0444 - val_accuracy: 0.9872\n",
            "Epoch 3/5\n",
            "106/106 [==============================] - 183s 2s/step - loss: 0.0388 - accuracy: 0.9884 - val_loss: 0.0442 - val_accuracy: 0.9880\n",
            "Epoch 4/5\n",
            "106/106 [==============================] - 257s 2s/step - loss: 0.0262 - accuracy: 0.9917 - val_loss: 0.0388 - val_accuracy: 0.9892\n",
            "Epoch 5/5\n",
            "106/106 [==============================] - 262s 2s/step - loss: 0.0199 - accuracy: 0.9939 - val_loss: 0.0404 - val_accuracy: 0.9892\n"
          ]
        }
      ]
    },
    {
      "cell_type": "code",
      "source": [
        "!pip install ann_visualizer"
      ],
      "metadata": {
        "colab": {
          "base_uri": "https://localhost:8080/"
        },
        "id": "frrc3SXVQzjk",
        "outputId": "32333682-b223-4cee-be50-d65099c75bec"
      },
      "execution_count": 21,
      "outputs": [
        {
          "output_type": "stream",
          "name": "stdout",
          "text": [
            "Collecting ann_visualizer\n",
            "  Downloading ann_visualizer-2.5.tar.gz (4.7 kB)\n",
            "  Preparing metadata (setup.py) ... \u001b[?25l\u001b[?25hdone\n",
            "Building wheels for collected packages: ann_visualizer\n",
            "  Building wheel for ann_visualizer (setup.py) ... \u001b[?25l\u001b[?25hdone\n",
            "  Created wheel for ann_visualizer: filename=ann_visualizer-2.5-py3-none-any.whl size=4167 sha256=b63e6b29f9567b346a8480d5e46b97bac364127ec7868a929f4480d1fceb4f0f\n",
            "  Stored in directory: /root/.cache/pip/wheels/6e/0f/ae/f5dba91db71b1b32bf03d0ad18c32e86126093aba5ec6b6488\n",
            "Successfully built ann_visualizer\n",
            "Installing collected packages: ann_visualizer\n",
            "Successfully installed ann_visualizer-2.5\n"
          ]
        }
      ]
    },
    {
      "cell_type": "code",
      "source": [
        "from ann_visualizer.visualize import ann_viz"
      ],
      "metadata": {
        "id": "FAu0FRNuXY0r"
      },
      "execution_count": 22,
      "outputs": []
    },
    {
      "cell_type": "code",
      "source": [
        "ann_viz(model, filename='fileyfile.gv')"
      ],
      "metadata": {
        "id": "92Y4kVG6XqGR"
      },
      "execution_count": 23,
      "outputs": []
    },
    {
      "cell_type": "code",
      "source": [
        "import graphviz"
      ],
      "metadata": {
        "id": "StkvPqP0XziU"
      },
      "execution_count": 24,
      "outputs": []
    },
    {
      "cell_type": "code",
      "source": [
        "viz = graphviz.Source.from_file('fileyfile.gv')"
      ],
      "metadata": {
        "id": "6w0ZALQ-X3XF"
      },
      "execution_count": 25,
      "outputs": []
    },
    {
      "cell_type": "code",
      "source": [
        "viz"
      ],
      "metadata": {
        "colab": {
          "base_uri": "https://localhost:8080/",
          "height": 1000
        },
        "id": "wlFF7pz4X-Kn",
        "outputId": "bb82ea1e-fa23-43ec-f507-80e4307c1bac"
      },
      "execution_count": 26,
      "outputs": [
        {
          "output_type": "execute_result",
          "data": {
            "image/svg+xml": "<?xml version=\"1.0\" encoding=\"UTF-8\" standalone=\"no\"?>\n<!DOCTYPE svg PUBLIC \"-//W3C//DTD SVG 1.1//EN\"\n \"http://www.w3.org/Graphics/SVG/1.1/DTD/svg11.dtd\">\n<!-- Generated by graphviz version 2.43.0 (0)\n -->\n<!-- Title: g Pages: 1 -->\n<svg width=\"1077pt\" height=\"2216pt\"\n viewBox=\"0.00 0.00 1077.00 2216.47\" xmlns=\"http://www.w3.org/2000/svg\" xmlns:xlink=\"http://www.w3.org/1999/xlink\">\n<g id=\"graph0\" class=\"graph\" transform=\"scale(1 1) rotate(0) translate(4 2212.47)\">\n<title>g</title>\n<polygon fill=\"white\" stroke=\"transparent\" points=\"-4,4 -4,-2212.47 1073,-2212.47 1073,4 -4,4\"/>\n<g id=\"clust1\" class=\"cluster\">\n<title>cluster_input</title>\n<polygon fill=\"none\" stroke=\"white\" points=\"470,-2000.47 470,-2200.47 598,-2200.47 598,-2000.47 470,-2000.47\"/>\n<text text-anchor=\"middle\" x=\"534\" y=\"-2185.27\" font-family=\"Times,serif\" font-size=\"14.00\">My Neural Network</text>\n<text text-anchor=\"middle\" x=\"534\" y=\"-2122.27\" font-family=\"Times,serif\" font-size=\"14.00\">Input Layer</text>\n</g>\n<g id=\"clust2\" class=\"cluster\">\n<title>cluster_1</title>\n<polygon fill=\"#5faad0\" stroke=\"#5faad0\" points=\"461,-1491.47 461,-1872.47 607,-1872.47 607,-1491.47 461,-1491.47\"/>\n</g>\n<g id=\"clust3\" class=\"cluster\">\n<title>cluster_2</title>\n<polygon fill=\"none\" stroke=\"white\" points=\"458,-1293.73 458,-1363.47 610,-1363.47 610,-1293.73 458,-1293.73\"/>\n</g>\n<g id=\"clust4\" class=\"cluster\">\n<title>cluster_3</title>\n<polygon fill=\"#5faad0\" stroke=\"#5faad0\" points=\"461,-784.73 461,-1165.73 607,-1165.73 607,-784.73 461,-784.73\"/>\n</g>\n<g id=\"clust5\" class=\"cluster\">\n<title>cluster_4</title>\n<polygon fill=\"none\" stroke=\"white\" points=\"458,-586.99 458,-656.73 610,-656.73 610,-586.99 458,-586.99\"/>\n</g>\n<g id=\"clust6\" class=\"cluster\">\n<title>cluster_5</title>\n<polygon fill=\"none\" stroke=\"white\" points=\"434,-396.99 434,-458.99 634,-458.99 634,-396.99 434,-396.99\"/>\n</g>\n<g id=\"clust7\" class=\"cluster\">\n<title>cluster_6</title>\n<polygon fill=\"none\" stroke=\"white\" points=\"14,-191 14,-268.99 1057,-268.99 1057,-191 14,-191\"/>\n<text text-anchor=\"middle\" x=\"1028\" y=\"-198.8\" font-family=\"Times,serif\" font-size=\"14.00\"> (+490)</text>\n</g>\n<g id=\"clust8\" class=\"cluster\">\n<title>cluster_output</title>\n<polygon fill=\"none\" stroke=\"white\" points=\"8,-8 8,-86 1061,-86 1061,-8 8,-8\"/>\n<text text-anchor=\"middle\" x=\"534.5\" y=\"-15.8\" font-family=\"Times,serif\" font-size=\"14.00\">Output Layer</text>\n</g>\n<!-- 1 -->\n<g id=\"node1\" class=\"node\">\n<title>1</title>\n<defs>\n<linearGradient id=\"l_0\" gradientUnits=\"userSpaceOnUse\" x1=\"485\" y1=\"-2057.47\" x2=\"583\" y2=\"-2057.47\" >\n<stop offset=\"0\" style=\"stop-color:black;stop-opacity:1.;\"/>\n<stop offset=\"1\" style=\"stop-color:white;stop-opacity:1.;\"/>\n</linearGradient>\n</defs>\n<polygon fill=\"url(#l_0)\" stroke=\"black\" points=\"583,-2106.47 485,-2106.47 485,-2008.47 583,-2008.47 583,-2106.47\"/>\n<text text-anchor=\"middle\" x=\"534\" y=\"-2068.77\" font-family=\"Times,serif\" font-size=\"14.00\" fill=\"white\">Image</text>\n<text text-anchor=\"middle\" x=\"534\" y=\"-2053.77\" font-family=\"Times,serif\" font-size=\"14.00\" fill=\"white\"> 28 x 28 pixels</text>\n<text text-anchor=\"middle\" x=\"534\" y=\"-2038.77\" font-family=\"Times,serif\" font-size=\"14.00\" fill=\"white\">Grayscale</text>\n</g>\n<!-- conv_2 -->\n<g id=\"node2\" class=\"node\">\n<title>conv_2</title>\n<polygon fill=\"none\" stroke=\"black\" points=\"598.5,-1864.47 469.5,-1864.47 469.5,-1735.47 598.5,-1735.47 598.5,-1864.47\"/>\n<text text-anchor=\"middle\" x=\"534\" y=\"-1811.27\" font-family=\"Times,serif\" font-size=\"14.00\">Convolutional Layer</text>\n<text text-anchor=\"middle\" x=\"534\" y=\"-1796.27\" font-family=\"Times,serif\" font-size=\"14.00\">Kernel Size: 3x3</text>\n<text text-anchor=\"middle\" x=\"534\" y=\"-1781.27\" font-family=\"Times,serif\" font-size=\"14.00\">Filters: 32</text>\n</g>\n<!-- 1&#45;&gt;conv_2 -->\n<g id=\"edge2\" class=\"edge\">\n<title>1&#45;&gt;conv_2</title>\n<path fill=\"none\" stroke=\"#707070\" d=\"M534,-2008.42C534,-1967.8 534,-1909.28 534,-1864.74\"/>\n</g>\n<!-- 2 -->\n<g id=\"node3\" class=\"node\">\n<title>2</title>\n<polygon fill=\"none\" stroke=\"black\" points=\"580,-1591.47 488,-1591.47 488,-1499.47 580,-1499.47 580,-1591.47\"/>\n<text text-anchor=\"middle\" x=\"534\" y=\"-1549.27\" font-family=\"Times,serif\" font-size=\"14.00\">32</text>\n<text text-anchor=\"middle\" x=\"534\" y=\"-1534.27\" font-family=\"Times,serif\" font-size=\"14.00\">Feature Maps</text>\n</g>\n<!-- conv_2&#45;&gt;2 -->\n<g id=\"edge1\" class=\"edge\">\n<title>conv_2&#45;&gt;2</title>\n<path fill=\"none\" stroke=\"#707070\" d=\"M534,-1735.26C534,-1690.55 534,-1631.85 534,-1591.85\"/>\n</g>\n<!-- 3 -->\n<g id=\"node4\" class=\"node\">\n<title>3</title>\n<ellipse fill=\"#8e44ad\" stroke=\"black\" cx=\"534\" cy=\"-1328.6\" rx=\"67.76\" ry=\"26.74\"/>\n<text text-anchor=\"middle\" x=\"534\" y=\"-1332.4\" font-family=\"Times,serif\" font-size=\"14.00\" fill=\"white\">Max Pooling</text>\n<text text-anchor=\"middle\" x=\"534\" y=\"-1317.4\" font-family=\"Times,serif\" font-size=\"14.00\" fill=\"white\">Pool Size: 2x2</text>\n</g>\n<!-- 2&#45;&gt;3 -->\n<g id=\"edge3\" class=\"edge\">\n<title>2&#45;&gt;3</title>\n<path fill=\"none\" stroke=\"#707070\" d=\"M534,-1499.43C534,-1455.87 534,-1391.36 534,-1355.69\"/>\n</g>\n<!-- conv_4 -->\n<g id=\"node5\" class=\"node\">\n<title>conv_4</title>\n<polygon fill=\"none\" stroke=\"black\" points=\"598.5,-1157.73 469.5,-1157.73 469.5,-1028.73 598.5,-1028.73 598.5,-1157.73\"/>\n<text text-anchor=\"middle\" x=\"534\" y=\"-1104.53\" font-family=\"Times,serif\" font-size=\"14.00\">Convolutional Layer</text>\n<text text-anchor=\"middle\" x=\"534\" y=\"-1089.53\" font-family=\"Times,serif\" font-size=\"14.00\">Kernel Size: 3x3</text>\n<text text-anchor=\"middle\" x=\"534\" y=\"-1074.53\" font-family=\"Times,serif\" font-size=\"14.00\">Filters: 64</text>\n</g>\n<!-- 3&#45;&gt;conv_4 -->\n<g id=\"edge5\" class=\"edge\">\n<title>3&#45;&gt;conv_4</title>\n<path fill=\"none\" stroke=\"#707070\" d=\"M534,-1301.29C534,-1266.72 534,-1204.88 534,-1157.76\"/>\n</g>\n<!-- 4 -->\n<g id=\"node6\" class=\"node\">\n<title>4</title>\n<polygon fill=\"none\" stroke=\"black\" points=\"580,-884.73 488,-884.73 488,-792.73 580,-792.73 580,-884.73\"/>\n<text text-anchor=\"middle\" x=\"534\" y=\"-842.53\" font-family=\"Times,serif\" font-size=\"14.00\">64</text>\n<text text-anchor=\"middle\" x=\"534\" y=\"-827.53\" font-family=\"Times,serif\" font-size=\"14.00\">Feature Maps</text>\n</g>\n<!-- conv_4&#45;&gt;4 -->\n<g id=\"edge4\" class=\"edge\">\n<title>conv_4&#45;&gt;4</title>\n<path fill=\"none\" stroke=\"#707070\" d=\"M534,-1028.52C534,-983.81 534,-925.11 534,-885.11\"/>\n</g>\n<!-- 5 -->\n<g id=\"node7\" class=\"node\">\n<title>5</title>\n<ellipse fill=\"#8e44ad\" stroke=\"black\" cx=\"534\" cy=\"-621.86\" rx=\"67.76\" ry=\"26.74\"/>\n<text text-anchor=\"middle\" x=\"534\" y=\"-625.66\" font-family=\"Times,serif\" font-size=\"14.00\" fill=\"white\">Max Pooling</text>\n<text text-anchor=\"middle\" x=\"534\" y=\"-610.66\" font-family=\"Times,serif\" font-size=\"14.00\" fill=\"white\">Pool Size: 2x2</text>\n</g>\n<!-- 4&#45;&gt;5 -->\n<g id=\"edge6\" class=\"edge\">\n<title>4&#45;&gt;5</title>\n<path fill=\"none\" stroke=\"#707070\" d=\"M534,-792.69C534,-749.13 534,-684.62 534,-648.95\"/>\n</g>\n<!-- 6 -->\n<g id=\"node8\" class=\"node\">\n<title>6</title>\n<polygon fill=\"#2c3e50\" stroke=\"black\" points=\"534,-404.99 626.08,-439.49 441.92,-439.49 534,-404.99\"/>\n<text text-anchor=\"middle\" x=\"534\" y=\"-424.29\" font-family=\"Times,serif\" font-size=\"14.00\" fill=\"white\">Flattening</text>\n</g>\n<!-- 5&#45;&gt;6 -->\n<g id=\"edge7\" class=\"edge\">\n<title>5&#45;&gt;6</title>\n<path fill=\"none\" stroke=\"#707070\" d=\"M534,-594.99C534,-552.43 534,-469.45 534,-439.82\"/>\n</g>\n<!-- 7 -->\n<g id=\"node9\" class=\"node\">\n<title>7</title>\n<ellipse fill=\"#3498db\" stroke=\"#3498db\" cx=\"588\" cy=\"-241.49\" rx=\"18\" ry=\"18\"/>\n<text text-anchor=\"middle\" x=\"588\" y=\"-237.79\" font-family=\"Times,serif\" font-size=\"14.00\" fill=\"#3498db\">7</text>\n</g>\n<!-- 6&#45;&gt;7 -->\n<g id=\"edge8\" class=\"edge\">\n<title>6&#45;&gt;7</title>\n<path fill=\"none\" stroke=\"#707070\" d=\"M539.88,-406.9C550.62,-370.19 573.23,-292.97 583.15,-259.06\"/>\n</g>\n<!-- 8 -->\n<g id=\"node10\" class=\"node\">\n<title>8</title>\n<ellipse fill=\"#3498db\" stroke=\"#3498db\" cx=\"480\" cy=\"-241.49\" rx=\"18\" ry=\"18\"/>\n<text text-anchor=\"middle\" x=\"480\" y=\"-237.79\" font-family=\"Times,serif\" font-size=\"14.00\" fill=\"#3498db\">8</text>\n</g>\n<!-- 6&#45;&gt;8 -->\n<g id=\"edge9\" class=\"edge\">\n<title>6&#45;&gt;8</title>\n<path fill=\"none\" stroke=\"#707070\" d=\"M528.12,-406.9C517.38,-370.19 494.77,-292.97 484.85,-259.06\"/>\n</g>\n<!-- 9 -->\n<g id=\"node11\" class=\"node\">\n<title>9</title>\n<ellipse fill=\"#3498db\" stroke=\"#3498db\" cx=\"372\" cy=\"-241.49\" rx=\"18\" ry=\"18\"/>\n<text text-anchor=\"middle\" x=\"372\" y=\"-237.79\" font-family=\"Times,serif\" font-size=\"14.00\" fill=\"#3498db\">9</text>\n</g>\n<!-- 6&#45;&gt;9 -->\n<g id=\"edge10\" class=\"edge\">\n<title>6&#45;&gt;9</title>\n<path fill=\"none\" stroke=\"#707070\" d=\"M519.34,-410.29C487.4,-373.93 412.13,-288.2 383.41,-255.49\"/>\n</g>\n<!-- 10 -->\n<g id=\"node12\" class=\"node\">\n<title>10</title>\n<ellipse fill=\"#3498db\" stroke=\"#3498db\" cx=\"263\" cy=\"-241.49\" rx=\"19.5\" ry=\"19.5\"/>\n<text text-anchor=\"middle\" x=\"263\" y=\"-237.79\" font-family=\"Times,serif\" font-size=\"14.00\" fill=\"#3498db\">10</text>\n</g>\n<!-- 6&#45;&gt;10 -->\n<g id=\"edge11\" class=\"edge\">\n<title>6&#45;&gt;10</title>\n<path fill=\"none\" stroke=\"#707070\" d=\"M512.74,-412.52C460.2,-376.75 325.21,-284.85 278.88,-253.31\"/>\n</g>\n<!-- 11 -->\n<g id=\"node13\" class=\"node\">\n<title>11</title>\n<ellipse fill=\"#3498db\" stroke=\"#3498db\" cx=\"152\" cy=\"-241.49\" rx=\"19.5\" ry=\"19.5\"/>\n<text text-anchor=\"middle\" x=\"152\" y=\"-237.79\" font-family=\"Times,serif\" font-size=\"14.00\" fill=\"#3498db\">11</text>\n</g>\n<!-- 6&#45;&gt;11 -->\n<g id=\"edge12\" class=\"edge\">\n<title>6&#45;&gt;11</title>\n<path fill=\"none\" stroke=\"#707070\" d=\"M508.34,-414.6C435.74,-379.54 230.18,-280.26 169.24,-250.82\"/>\n</g>\n<!-- 12 -->\n<g id=\"node14\" class=\"node\">\n<title>12</title>\n<ellipse fill=\"#3498db\" stroke=\"#3498db\" cx=\"41\" cy=\"-241.49\" rx=\"19.5\" ry=\"19.5\"/>\n<text text-anchor=\"middle\" x=\"41\" y=\"-237.79\" font-family=\"Times,serif\" font-size=\"14.00\" fill=\"#3498db\">12</text>\n</g>\n<!-- 6&#45;&gt;12 -->\n<g id=\"edge13\" class=\"edge\">\n<title>6&#45;&gt;12</title>\n<path fill=\"none\" stroke=\"#707070\" d=\"M504.27,-415.87C412.05,-381.35 132.6,-276.77 58.95,-249.21\"/>\n</g>\n<!-- 13 -->\n<g id=\"node15\" class=\"node\">\n<title>13</title>\n<ellipse fill=\"#3498db\" stroke=\"#3498db\" cx=\"1030\" cy=\"-241.49\" rx=\"19.5\" ry=\"19.5\"/>\n<text text-anchor=\"middle\" x=\"1030\" y=\"-237.79\" font-family=\"Times,serif\" font-size=\"14.00\" fill=\"#3498db\">13</text>\n</g>\n<!-- 6&#45;&gt;13 -->\n<g id=\"edge14\" class=\"edge\">\n<title>6&#45;&gt;13</title>\n<path fill=\"none\" stroke=\"#707070\" d=\"M563.54,-416C655.93,-381.64 937.65,-276.85 1011.9,-249.23\"/>\n</g>\n<!-- 14 -->\n<g id=\"node16\" class=\"node\">\n<title>14</title>\n<ellipse fill=\"#3498db\" stroke=\"#3498db\" cx=\"919\" cy=\"-241.49\" rx=\"19.5\" ry=\"19.5\"/>\n<text text-anchor=\"middle\" x=\"919\" y=\"-237.79\" font-family=\"Times,serif\" font-size=\"14.00\" fill=\"#3498db\">14</text>\n</g>\n<!-- 6&#45;&gt;14 -->\n<g id=\"edge15\" class=\"edge\">\n<title>6&#45;&gt;14</title>\n<path fill=\"none\" stroke=\"#707070\" d=\"M559.86,-414.6C633.03,-379.54 840.2,-280.26 901.63,-250.82\"/>\n</g>\n<!-- 15 -->\n<g id=\"node17\" class=\"node\">\n<title>15</title>\n<ellipse fill=\"#3498db\" stroke=\"#3498db\" cx=\"808\" cy=\"-241.49\" rx=\"19.5\" ry=\"19.5\"/>\n<text text-anchor=\"middle\" x=\"808\" y=\"-237.79\" font-family=\"Times,serif\" font-size=\"14.00\" fill=\"#3498db\">15</text>\n</g>\n<!-- 6&#45;&gt;15 -->\n<g id=\"edge16\" class=\"edge\">\n<title>6&#45;&gt;15</title>\n<path fill=\"none\" stroke=\"#707070\" d=\"M555.05,-412.82C607.93,-377.21 745.48,-284.59 792.2,-253.13\"/>\n</g>\n<!-- 16 -->\n<g id=\"node18\" class=\"node\">\n<title>16</title>\n<ellipse fill=\"#3498db\" stroke=\"#3498db\" cx=\"697\" cy=\"-241.49\" rx=\"19.5\" ry=\"19.5\"/>\n<text text-anchor=\"middle\" x=\"697\" y=\"-237.79\" font-family=\"Times,serif\" font-size=\"14.00\" fill=\"#3498db\">16</text>\n</g>\n<!-- 6&#45;&gt;16 -->\n<g id=\"edge17\" class=\"edge\">\n<title>6&#45;&gt;16</title>\n<path fill=\"none\" stroke=\"#707070\" d=\"M548.75,-410.29C580.41,-374.46 654.41,-290.7 684.22,-256.96\"/>\n</g>\n<!-- 17 -->\n<g id=\"node19\" class=\"node\">\n<title>17</title>\n<ellipse fill=\"#e74c3c\" stroke=\"#e74c3c\" cx=\"146\" cy=\"-58.5\" rx=\"19.5\" ry=\"19.5\"/>\n<text text-anchor=\"middle\" x=\"146\" y=\"-54.8\" font-family=\"Times,serif\" font-size=\"14.00\" fill=\"#e74c3c\">17</text>\n</g>\n<!-- 7&#45;&gt;17 -->\n<g id=\"edge18\" class=\"edge\">\n<title>7&#45;&gt;17</title>\n<path fill=\"none\" stroke=\"#707070\" d=\"M571.48,-233.73C502.21,-205.36 235.45,-96.13 163.8,-66.79\"/>\n</g>\n<!-- 18 -->\n<g id=\"node20\" class=\"node\">\n<title>18</title>\n<ellipse fill=\"#e74c3c\" stroke=\"#e74c3c\" cx=\"35\" cy=\"-58.5\" rx=\"19.5\" ry=\"19.5\"/>\n<text text-anchor=\"middle\" x=\"35\" y=\"-54.8\" font-family=\"Times,serif\" font-size=\"14.00\" fill=\"#e74c3c\">18</text>\n</g>\n<!-- 7&#45;&gt;18 -->\n<g id=\"edge28\" class=\"edge\">\n<title>7&#45;&gt;18</title>\n<path fill=\"none\" stroke=\"#707070\" d=\"M571.15,-234.98C489.78,-208.35 138.04,-93.22 53.38,-65.51\"/>\n</g>\n<!-- 19 -->\n<g id=\"node21\" class=\"node\">\n<title>19</title>\n<ellipse fill=\"#e74c3c\" stroke=\"#e74c3c\" cx=\"1034\" cy=\"-58.5\" rx=\"19.5\" ry=\"19.5\"/>\n<text text-anchor=\"middle\" x=\"1034\" y=\"-54.8\" font-family=\"Times,serif\" font-size=\"14.00\" fill=\"#e74c3c\">19</text>\n</g>\n<!-- 7&#45;&gt;19 -->\n<g id=\"edge38\" class=\"edge\">\n<title>7&#45;&gt;19</title>\n<path fill=\"none\" stroke=\"#707070\" d=\"M604.4,-233.84C673.87,-205.65 943.56,-96.2 1016,-66.8\"/>\n</g>\n<!-- 20 -->\n<g id=\"node22\" class=\"node\">\n<title>20</title>\n<ellipse fill=\"#e74c3c\" stroke=\"#e74c3c\" cx=\"923\" cy=\"-58.5\" rx=\"19.5\" ry=\"19.5\"/>\n<text text-anchor=\"middle\" x=\"923\" y=\"-54.8\" font-family=\"Times,serif\" font-size=\"14.00\" fill=\"#e74c3c\">20</text>\n</g>\n<!-- 7&#45;&gt;20 -->\n<g id=\"edge48\" class=\"edge\">\n<title>7&#45;&gt;20</title>\n<path fill=\"none\" stroke=\"#707070\" d=\"M603.71,-232.01C659.59,-201.82 848.48,-99.76 906.14,-68.61\"/>\n</g>\n<!-- 21 -->\n<g id=\"node23\" class=\"node\">\n<title>21</title>\n<ellipse fill=\"#e74c3c\" stroke=\"#e74c3c\" cx=\"812\" cy=\"-58.5\" rx=\"19.5\" ry=\"19.5\"/>\n<text text-anchor=\"middle\" x=\"812\" y=\"-54.8\" font-family=\"Times,serif\" font-size=\"14.00\" fill=\"#e74c3c\">21</text>\n</g>\n<!-- 7&#45;&gt;21 -->\n<g id=\"edge58\" class=\"edge\">\n<title>7&#45;&gt;21</title>\n<path fill=\"none\" stroke=\"#707070\" d=\"M601.68,-229.45C641.28,-197.44 755.89,-104.84 797.06,-71.57\"/>\n</g>\n<!-- 22 -->\n<g id=\"node24\" class=\"node\">\n<title>22</title>\n<ellipse fill=\"#e74c3c\" stroke=\"#e74c3c\" cx=\"701\" cy=\"-58.5\" rx=\"19.5\" ry=\"19.5\"/>\n<text text-anchor=\"middle\" x=\"701\" y=\"-54.8\" font-family=\"Times,serif\" font-size=\"14.00\" fill=\"#e74c3c\">22</text>\n</g>\n<!-- 7&#45;&gt;22 -->\n<g id=\"edge68\" class=\"edge\">\n<title>7&#45;&gt;22</title>\n<path fill=\"none\" stroke=\"#707070\" d=\"M597.25,-225.68C618.23,-192.08 669.28,-110.3 690.98,-75.55\"/>\n</g>\n<!-- 23 -->\n<g id=\"node25\" class=\"node\">\n<title>23</title>\n<ellipse fill=\"#e74c3c\" stroke=\"#e74c3c\" cx=\"590\" cy=\"-58.5\" rx=\"19.5\" ry=\"19.5\"/>\n<text text-anchor=\"middle\" x=\"590\" y=\"-54.8\" font-family=\"Times,serif\" font-size=\"14.00\" fill=\"#e74c3c\">23</text>\n</g>\n<!-- 7&#45;&gt;23 -->\n<g id=\"edge78\" class=\"edge\">\n<title>7&#45;&gt;23</title>\n<path fill=\"none\" stroke=\"#707070\" d=\"M588.19,-223.47C588.56,-189.5 589.4,-113.55 589.79,-78.23\"/>\n</g>\n<!-- 24 -->\n<g id=\"node26\" class=\"node\">\n<title>24</title>\n<ellipse fill=\"#e74c3c\" stroke=\"#e74c3c\" cx=\"479\" cy=\"-58.5\" rx=\"19.5\" ry=\"19.5\"/>\n<text text-anchor=\"middle\" x=\"479\" y=\"-54.8\" font-family=\"Times,serif\" font-size=\"14.00\" fill=\"#e74c3c\">24</text>\n</g>\n<!-- 7&#45;&gt;24 -->\n<g id=\"edge88\" class=\"edge\">\n<title>7&#45;&gt;24</title>\n<path fill=\"none\" stroke=\"#707070\" d=\"M579.08,-225.68C558.84,-192.08 509.59,-110.3 488.67,-75.55\"/>\n</g>\n<!-- 25 -->\n<g id=\"node27\" class=\"node\">\n<title>25</title>\n<ellipse fill=\"#e74c3c\" stroke=\"#e74c3c\" cx=\"368\" cy=\"-58.5\" rx=\"19.5\" ry=\"19.5\"/>\n<text text-anchor=\"middle\" x=\"368\" y=\"-54.8\" font-family=\"Times,serif\" font-size=\"14.00\" fill=\"#e74c3c\">25</text>\n</g>\n<!-- 7&#45;&gt;25 -->\n<g id=\"edge98\" class=\"edge\">\n<title>7&#45;&gt;25</title>\n<path fill=\"none\" stroke=\"#707070\" d=\"M574.57,-229.45C535.67,-197.44 423.11,-104.84 382.68,-71.57\"/>\n</g>\n<!-- 26 -->\n<g id=\"node28\" class=\"node\">\n<title>26</title>\n<ellipse fill=\"#e74c3c\" stroke=\"#e74c3c\" cx=\"257\" cy=\"-58.5\" rx=\"19.5\" ry=\"19.5\"/>\n<text text-anchor=\"middle\" x=\"257\" y=\"-54.8\" font-family=\"Times,serif\" font-size=\"14.00\" fill=\"#e74c3c\">26</text>\n</g>\n<!-- 7&#45;&gt;26 -->\n<g id=\"edge108\" class=\"edge\">\n<title>7&#45;&gt;26</title>\n<path fill=\"none\" stroke=\"#707070\" d=\"M572.48,-232.01C517.39,-201.89 331.49,-100.23 274.05,-68.82\"/>\n</g>\n<!-- 8&#45;&gt;17 -->\n<g id=\"edge19\" class=\"edge\">\n<title>8&#45;&gt;17</title>\n<path fill=\"none\" stroke=\"#707070\" d=\"M464.34,-232.01C408.62,-201.82 220.3,-99.76 162.81,-68.61\"/>\n</g>\n<!-- 8&#45;&gt;18 -->\n<g id=\"edge29\" class=\"edge\">\n<title>8&#45;&gt;18</title>\n<path fill=\"none\" stroke=\"#707070\" d=\"M463.63,-233.84C394.33,-205.65 125.24,-96.2 52.96,-66.8\"/>\n</g>\n<!-- 8&#45;&gt;19 -->\n<g id=\"edge39\" class=\"edge\">\n<title>8&#45;&gt;19</title>\n<path fill=\"none\" stroke=\"#707070\" d=\"M496.88,-234.98C578.39,-208.35 930.77,-93.22 1015.59,-65.51\"/>\n</g>\n<!-- 8&#45;&gt;20 -->\n<g id=\"edge49\" class=\"edge\">\n<title>8&#45;&gt;20</title>\n<path fill=\"none\" stroke=\"#707070\" d=\"M496.29,-233.84C565.29,-205.65 833.16,-96.2 905.12,-66.8\"/>\n</g>\n<!-- 8&#45;&gt;21 -->\n<g id=\"edge59\" class=\"edge\">\n<title>8&#45;&gt;21</title>\n<path fill=\"none\" stroke=\"#707070\" d=\"M495.57,-232.01C550.95,-201.82 738.15,-99.76 795.29,-68.61\"/>\n</g>\n<!-- 8&#45;&gt;22 -->\n<g id=\"edge69\" class=\"edge\">\n<title>8&#45;&gt;22</title>\n<path fill=\"none\" stroke=\"#707070\" d=\"M493.49,-229.45C532.57,-197.44 645.64,-104.84 686.26,-71.57\"/>\n</g>\n<!-- 8&#45;&gt;23 -->\n<g id=\"edge79\" class=\"edge\">\n<title>8&#45;&gt;23</title>\n<path fill=\"none\" stroke=\"#707070\" d=\"M489,-225.68C509.42,-192.08 559.13,-110.3 580.25,-75.55\"/>\n</g>\n<!-- 8&#45;&gt;24 -->\n<g id=\"edge89\" class=\"edge\">\n<title>8&#45;&gt;24</title>\n<path fill=\"none\" stroke=\"#707070\" d=\"M479.91,-223.47C479.72,-189.5 479.3,-113.55 479.1,-78.23\"/>\n</g>\n<!-- 8&#45;&gt;25 -->\n<g id=\"edge99\" class=\"edge\">\n<title>8&#45;&gt;25</title>\n<path fill=\"none\" stroke=\"#707070\" d=\"M470.83,-225.68C450.04,-192.08 399.44,-110.3 377.93,-75.55\"/>\n</g>\n<!-- 8&#45;&gt;26 -->\n<g id=\"edge109\" class=\"edge\">\n<title>8&#45;&gt;26</title>\n<path fill=\"none\" stroke=\"#707070\" d=\"M466.39,-229.45C426.95,-197.44 312.86,-104.84 271.88,-71.57\"/>\n</g>\n<!-- 9&#45;&gt;17 -->\n<g id=\"edge20\" class=\"edge\">\n<title>9&#45;&gt;17</title>\n<path fill=\"none\" stroke=\"#707070\" d=\"M358.2,-229.45C318.14,-197.36 202.06,-104.39 160.78,-71.34\"/>\n</g>\n<!-- 9&#45;&gt;18 -->\n<g id=\"edge30\" class=\"edge\">\n<title>9&#45;&gt;18</title>\n<path fill=\"none\" stroke=\"#707070\" d=\"M356.2,-232.01C299.98,-201.82 109.97,-99.76 51.96,-68.61\"/>\n</g>\n<!-- 9&#45;&gt;19 -->\n<g id=\"edge40\" class=\"edge\">\n<title>9&#45;&gt;19</title>\n<path fill=\"none\" stroke=\"#707070\" d=\"M389.37,-235.75C482.19,-210.37 919.13,-90.91 1015.26,-64.62\"/>\n</g>\n<!-- 9&#45;&gt;20 -->\n<g id=\"edge50\" class=\"edge\">\n<title>9&#45;&gt;20</title>\n<path fill=\"none\" stroke=\"#707070\" d=\"M388.79,-234.98C469.86,-208.35 820.33,-93.22 904.69,-65.51\"/>\n</g>\n<!-- 9&#45;&gt;21 -->\n<g id=\"edge60\" class=\"edge\">\n<title>9&#45;&gt;21</title>\n<path fill=\"none\" stroke=\"#707070\" d=\"M388.45,-233.73C457.4,-205.36 722.96,-96.13 794.28,-66.79\"/>\n</g>\n<!-- 9&#45;&gt;22 -->\n<g id=\"edge70\" class=\"edge\">\n<title>9&#45;&gt;22</title>\n<path fill=\"none\" stroke=\"#707070\" d=\"M387.43,-232.01C442.18,-201.89 626.96,-100.23 684.05,-68.82\"/>\n</g>\n<!-- 9&#45;&gt;23 -->\n<g id=\"edge80\" class=\"edge\">\n<title>9&#45;&gt;23</title>\n<path fill=\"none\" stroke=\"#707070\" d=\"M385.64,-229.17C424.41,-196.98 535.09,-105.09 575.23,-71.76\"/>\n</g>\n<!-- 9&#45;&gt;24 -->\n<g id=\"edge90\" class=\"edge\">\n<title>9&#45;&gt;24</title>\n<path fill=\"none\" stroke=\"#707070\" d=\"M380.76,-225.68C400.62,-192.08 448.97,-110.3 469.51,-75.55\"/>\n</g>\n<!-- 9&#45;&gt;25 -->\n<g id=\"edge100\" class=\"edge\">\n<title>9&#45;&gt;25</title>\n<path fill=\"none\" stroke=\"#707070\" d=\"M371.62,-223.47C370.87,-189.5 369.19,-113.55 368.41,-78.23\"/>\n</g>\n<!-- 9&#45;&gt;26 -->\n<g id=\"edge110\" class=\"edge\">\n<title>9&#45;&gt;26</title>\n<path fill=\"none\" stroke=\"#707070\" d=\"M362.78,-225.99C341.52,-192.52 289.15,-110.1 267.08,-75.36\"/>\n</g>\n<!-- 10&#45;&gt;17 -->\n<g id=\"edge21\" class=\"edge\">\n<title>10&#45;&gt;17</title>\n<path fill=\"none\" stroke=\"#707070\" d=\"M252.82,-224.75C230.69,-190.52 178.42,-109.65 156.24,-75.34\"/>\n</g>\n<!-- 10&#45;&gt;18 -->\n<g id=\"edge31\" class=\"edge\">\n<title>10&#45;&gt;18</title>\n<path fill=\"none\" stroke=\"#707070\" d=\"M248.04,-228.62C206.73,-195.82 91.39,-104.27 50.01,-71.42\"/>\n</g>\n<!-- 10&#45;&gt;19 -->\n<g id=\"edge41\" class=\"edge\">\n<title>10&#45;&gt;19</title>\n<path fill=\"none\" stroke=\"#707070\" d=\"M282.06,-236.02C388.5,-211.03 908.42,-88.98 1014.92,-63.98\"/>\n</g>\n<!-- 10&#45;&gt;20 -->\n<g id=\"edge51\" class=\"edge\">\n<title>10&#45;&gt;20</title>\n<path fill=\"none\" stroke=\"#707070\" d=\"M281.69,-235.37C377.14,-209.19 809.41,-90.65 904.47,-64.58\"/>\n</g>\n<!-- 10&#45;&gt;21 -->\n<g id=\"edge61\" class=\"edge\">\n<title>10&#45;&gt;21</title>\n<path fill=\"none\" stroke=\"#707070\" d=\"M281.27,-234.47C364.8,-206.93 709.98,-93.13 793.67,-65.54\"/>\n</g>\n<!-- 10&#45;&gt;22 -->\n<g id=\"edge71\" class=\"edge\">\n<title>10&#45;&gt;22</title>\n<path fill=\"none\" stroke=\"#707070\" d=\"M280.71,-233.18C351.29,-204.01 612.09,-96.24 683.07,-66.91\"/>\n</g>\n<!-- 10&#45;&gt;23 -->\n<g id=\"edge81\" class=\"edge\">\n<title>10&#45;&gt;23</title>\n<path fill=\"none\" stroke=\"#707070\" d=\"M279.67,-231.27C335.76,-200.22 517.32,-99.72 573.37,-68.7\"/>\n</g>\n<!-- 10&#45;&gt;24 -->\n<g id=\"edge91\" class=\"edge\">\n<title>10&#45;&gt;24</title>\n<path fill=\"none\" stroke=\"#707070\" d=\"M277.51,-228.34C316.86,-195.37 425.28,-104.51 464.56,-71.6\"/>\n</g>\n<!-- 10&#45;&gt;25 -->\n<g id=\"edge101\" class=\"edge\">\n<title>10&#45;&gt;25</title>\n<path fill=\"none\" stroke=\"#707070\" d=\"M272.5,-224.11C292.49,-189.65 338.69,-110.03 358.59,-75.71\"/>\n</g>\n<!-- 10&#45;&gt;26 -->\n<g id=\"edge111\" class=\"edge\">\n<title>10&#45;&gt;26</title>\n<path fill=\"none\" stroke=\"#707070\" d=\"M262.38,-221.81C261.23,-187.03 258.77,-112.78 257.62,-78.08\"/>\n</g>\n<!-- 11&#45;&gt;17 -->\n<g id=\"edge22\" class=\"edge\">\n<title>11&#45;&gt;17</title>\n<path fill=\"none\" stroke=\"#707070\" d=\"M151.38,-221.81C150.23,-187.03 147.77,-112.78 146.62,-78.08\"/>\n</g>\n<!-- 11&#45;&gt;18 -->\n<g id=\"edge32\" class=\"edge\">\n<title>11&#45;&gt;18</title>\n<path fill=\"none\" stroke=\"#707070\" d=\"M141.82,-224.75C119.69,-190.52 67.42,-109.65 45.24,-75.34\"/>\n</g>\n<!-- 11&#45;&gt;19 -->\n<g id=\"edge42\" class=\"edge\">\n<title>11&#45;&gt;19</title>\n<path fill=\"none\" stroke=\"#707070\" d=\"M171.24,-236.55C287.88,-212.61 899.09,-87.18 1015.01,-63.39\"/>\n</g>\n<!-- 11&#45;&gt;20 -->\n<g id=\"edge52\" class=\"edge\">\n<title>11&#45;&gt;20</title>\n<path fill=\"none\" stroke=\"#707070\" d=\"M171.06,-236.02C277.5,-211.03 797.42,-88.98 903.92,-63.98\"/>\n</g>\n<!-- 11&#45;&gt;21 -->\n<g id=\"edge62\" class=\"edge\">\n<title>11&#45;&gt;21</title>\n<path fill=\"none\" stroke=\"#707070\" d=\"M170.69,-235.37C266.14,-209.19 698.41,-90.65 793.47,-64.58\"/>\n</g>\n<!-- 11&#45;&gt;22 -->\n<g id=\"edge72\" class=\"edge\">\n<title>11&#45;&gt;22</title>\n<path fill=\"none\" stroke=\"#707070\" d=\"M170.27,-234.47C253.8,-206.93 598.98,-93.13 682.67,-65.54\"/>\n</g>\n<!-- 11&#45;&gt;23 -->\n<g id=\"edge82\" class=\"edge\">\n<title>11&#45;&gt;23</title>\n<path fill=\"none\" stroke=\"#707070\" d=\"M169.71,-233.18C240.29,-204.01 501.09,-96.24 572.07,-66.91\"/>\n</g>\n<!-- 11&#45;&gt;24 -->\n<g id=\"edge92\" class=\"edge\">\n<title>11&#45;&gt;24</title>\n<path fill=\"none\" stroke=\"#707070\" d=\"M168.67,-231.27C224.76,-200.22 406.32,-99.72 462.37,-68.7\"/>\n</g>\n<!-- 11&#45;&gt;25 -->\n<g id=\"edge102\" class=\"edge\">\n<title>11&#45;&gt;25</title>\n<path fill=\"none\" stroke=\"#707070\" d=\"M166.51,-228.34C205.86,-195.37 314.28,-104.51 353.56,-71.6\"/>\n</g>\n<!-- 11&#45;&gt;26 -->\n<g id=\"edge112\" class=\"edge\">\n<title>11&#45;&gt;26</title>\n<path fill=\"none\" stroke=\"#707070\" d=\"M161.5,-224.11C181.49,-189.65 227.69,-110.03 247.59,-75.71\"/>\n</g>\n<!-- 12&#45;&gt;17 -->\n<g id=\"edge23\" class=\"edge\">\n<title>12&#45;&gt;17</title>\n<path fill=\"none\" stroke=\"#707070\" d=\"M50.5,-224.11C70.49,-189.65 116.69,-110.03 136.59,-75.71\"/>\n</g>\n<!-- 12&#45;&gt;18 -->\n<g id=\"edge33\" class=\"edge\">\n<title>12&#45;&gt;18</title>\n<path fill=\"none\" stroke=\"#707070\" d=\"M40.38,-221.81C39.23,-187.03 36.77,-112.78 35.62,-78.08\"/>\n</g>\n<!-- 12&#45;&gt;19 -->\n<g id=\"edge43\" class=\"edge\">\n<title>12&#45;&gt;19</title>\n<path fill=\"none\" stroke=\"#707070\" d=\"M60.39,-236.96C186.56,-213.96 889.58,-85.82 1014.89,-62.98\"/>\n</g>\n<!-- 12&#45;&gt;20 -->\n<g id=\"edge53\" class=\"edge\">\n<title>12&#45;&gt;20</title>\n<path fill=\"none\" stroke=\"#707070\" d=\"M60.24,-236.55C176.88,-212.61 788.09,-87.18 904.01,-63.39\"/>\n</g>\n<!-- 12&#45;&gt;21 -->\n<g id=\"edge63\" class=\"edge\">\n<title>12&#45;&gt;21</title>\n<path fill=\"none\" stroke=\"#707070\" d=\"M60.06,-236.02C166.5,-211.03 686.42,-88.98 792.92,-63.98\"/>\n</g>\n<!-- 12&#45;&gt;22 -->\n<g id=\"edge73\" class=\"edge\">\n<title>12&#45;&gt;22</title>\n<path fill=\"none\" stroke=\"#707070\" d=\"M59.69,-235.37C155.14,-209.19 587.41,-90.65 682.47,-64.58\"/>\n</g>\n<!-- 12&#45;&gt;23 -->\n<g id=\"edge83\" class=\"edge\">\n<title>12&#45;&gt;23</title>\n<path fill=\"none\" stroke=\"#707070\" d=\"M59.27,-234.47C142.8,-206.93 487.98,-93.13 571.67,-65.54\"/>\n</g>\n<!-- 12&#45;&gt;24 -->\n<g id=\"edge93\" class=\"edge\">\n<title>12&#45;&gt;24</title>\n<path fill=\"none\" stroke=\"#707070\" d=\"M58.71,-233.18C129.29,-204.01 390.09,-96.24 461.07,-66.91\"/>\n</g>\n<!-- 12&#45;&gt;25 -->\n<g id=\"edge103\" class=\"edge\">\n<title>12&#45;&gt;25</title>\n<path fill=\"none\" stroke=\"#707070\" d=\"M57.67,-231.27C113.76,-200.22 295.32,-99.72 351.37,-68.7\"/>\n</g>\n<!-- 12&#45;&gt;26 -->\n<g id=\"edge113\" class=\"edge\">\n<title>12&#45;&gt;26</title>\n<path fill=\"none\" stroke=\"#707070\" d=\"M55.51,-228.34C94.86,-195.37 203.28,-104.51 242.56,-71.6\"/>\n</g>\n<!-- 13&#45;&gt;17 -->\n<g id=\"edge24\" class=\"edge\">\n<title>13&#45;&gt;17</title>\n<path fill=\"none\" stroke=\"#707070\" d=\"M1010.71,-236.55C893.81,-212.61 281.22,-87.18 165.03,-63.39\"/>\n</g>\n<!-- 13&#45;&gt;18 -->\n<g id=\"edge34\" class=\"edge\">\n<title>13&#45;&gt;18</title>\n<path fill=\"none\" stroke=\"#707070\" d=\"M1011.01,-237.04C885.81,-214.27 180,-85.88 54.19,-62.99\"/>\n</g>\n<!-- 13&#45;&gt;19 -->\n<g id=\"edge44\" class=\"edge\">\n<title>13&#45;&gt;19</title>\n<path fill=\"none\" stroke=\"#707070\" d=\"M1030.41,-221.81C1031.18,-187.03 1032.82,-112.78 1033.59,-78.08\"/>\n</g>\n<!-- 13&#45;&gt;20 -->\n<g id=\"edge54\" class=\"edge\">\n<title>13&#45;&gt;20</title>\n<path fill=\"none\" stroke=\"#707070\" d=\"M1020.5,-224.43C1000.25,-190.17 953,-110.24 932.63,-75.78\"/>\n</g>\n<!-- 13&#45;&gt;21 -->\n<g id=\"edge64\" class=\"edge\">\n<title>13&#45;&gt;21</title>\n<path fill=\"none\" stroke=\"#707070\" d=\"M1015.36,-228.34C975.64,-195.37 866.22,-104.51 826.58,-71.6\"/>\n</g>\n<!-- 13&#45;&gt;22 -->\n<g id=\"edge74\" class=\"edge\">\n<title>13&#45;&gt;22</title>\n<path fill=\"none\" stroke=\"#707070\" d=\"M1013.23,-231.27C956.8,-200.22 774.12,-99.72 717.73,-68.7\"/>\n</g>\n<!-- 13&#45;&gt;23 -->\n<g id=\"edge84\" class=\"edge\">\n<title>13&#45;&gt;23</title>\n<path fill=\"none\" stroke=\"#707070\" d=\"M1012.21,-233.18C941.3,-204.01 679.31,-96.24 608.01,-66.91\"/>\n</g>\n<!-- 13&#45;&gt;24 -->\n<g id=\"edge94\" class=\"edge\">\n<title>13&#45;&gt;24</title>\n<path fill=\"none\" stroke=\"#707070\" d=\"M1011.67,-234.47C927.82,-206.93 581.39,-93.13 497.4,-65.54\"/>\n</g>\n<!-- 13&#45;&gt;25 -->\n<g id=\"edge104\" class=\"edge\">\n<title>13&#45;&gt;25</title>\n<path fill=\"none\" stroke=\"#707070\" d=\"M1011.25,-235.37C915.52,-209.19 481.94,-90.65 386.58,-64.58\"/>\n</g>\n<!-- 13&#45;&gt;26 -->\n<g id=\"edge114\" class=\"edge\">\n<title>13&#45;&gt;26</title>\n<path fill=\"none\" stroke=\"#707070\" d=\"M1010.89,-236.02C904.06,-211.01 381.77,-88.71 275.78,-63.9\"/>\n</g>\n<!-- 14&#45;&gt;17 -->\n<g id=\"edge25\" class=\"edge\">\n<title>14&#45;&gt;17</title>\n<path fill=\"none\" stroke=\"#707070\" d=\"M899.89,-236.02C793.06,-211.01 270.77,-88.71 164.78,-63.9\"/>\n</g>\n<!-- 14&#45;&gt;18 -->\n<g id=\"edge35\" class=\"edge\">\n<title>14&#45;&gt;18</title>\n<path fill=\"none\" stroke=\"#707070\" d=\"M899.71,-236.55C782.81,-212.61 170.22,-87.18 54.03,-63.39\"/>\n</g>\n<!-- 14&#45;&gt;19 -->\n<g id=\"edge45\" class=\"edge\">\n<title>14&#45;&gt;19</title>\n<path fill=\"none\" stroke=\"#707070\" d=\"M929,-224.75C950.75,-190.52 1002.13,-109.65 1023.94,-75.34\"/>\n</g>\n<!-- 14&#45;&gt;20 -->\n<g id=\"edge55\" class=\"edge\">\n<title>14&#45;&gt;20</title>\n<path fill=\"none\" stroke=\"#707070\" d=\"M919.41,-221.81C920.18,-187.03 921.82,-112.78 922.59,-78.08\"/>\n</g>\n<!-- 14&#45;&gt;21 -->\n<g id=\"edge65\" class=\"edge\">\n<title>14&#45;&gt;21</title>\n<path fill=\"none\" stroke=\"#707070\" d=\"M909.5,-224.43C889.25,-190.17 842,-110.24 821.63,-75.78\"/>\n</g>\n<!-- 14&#45;&gt;22 -->\n<g id=\"edge75\" class=\"edge\">\n<title>14&#45;&gt;22</title>\n<path fill=\"none\" stroke=\"#707070\" d=\"M904.36,-228.34C864.64,-195.37 755.22,-104.51 715.58,-71.6\"/>\n</g>\n<!-- 14&#45;&gt;23 -->\n<g id=\"edge85\" class=\"edge\">\n<title>14&#45;&gt;23</title>\n<path fill=\"none\" stroke=\"#707070\" d=\"M902.23,-231.27C845.8,-200.22 663.12,-99.72 606.73,-68.7\"/>\n</g>\n<!-- 14&#45;&gt;24 -->\n<g id=\"edge95\" class=\"edge\">\n<title>14&#45;&gt;24</title>\n<path fill=\"none\" stroke=\"#707070\" d=\"M901.21,-233.18C830.3,-204.01 568.31,-96.24 497.01,-66.91\"/>\n</g>\n<!-- 14&#45;&gt;25 -->\n<g id=\"edge105\" class=\"edge\">\n<title>14&#45;&gt;25</title>\n<path fill=\"none\" stroke=\"#707070\" d=\"M900.67,-234.47C816.82,-206.93 470.39,-93.13 386.4,-65.54\"/>\n</g>\n<!-- 14&#45;&gt;26 -->\n<g id=\"edge115\" class=\"edge\">\n<title>14&#45;&gt;26</title>\n<path fill=\"none\" stroke=\"#707070\" d=\"M900.25,-235.37C804.52,-209.19 370.94,-90.65 275.58,-64.58\"/>\n</g>\n<!-- 15&#45;&gt;17 -->\n<g id=\"edge26\" class=\"edge\">\n<title>15&#45;&gt;17</title>\n<path fill=\"none\" stroke=\"#707070\" d=\"M789.25,-235.37C693.52,-209.19 259.94,-90.65 164.58,-64.58\"/>\n</g>\n<!-- 15&#45;&gt;18 -->\n<g id=\"edge36\" class=\"edge\">\n<title>15&#45;&gt;18</title>\n<path fill=\"none\" stroke=\"#707070\" d=\"M788.89,-236.02C682.06,-211.01 159.77,-88.71 53.78,-63.9\"/>\n</g>\n<!-- 15&#45;&gt;19 -->\n<g id=\"edge46\" class=\"edge\">\n<title>15&#45;&gt;19</title>\n<path fill=\"none\" stroke=\"#707070\" d=\"M822.83,-228.62C863.78,-195.82 978.1,-104.27 1019.12,-71.42\"/>\n</g>\n<!-- 15&#45;&gt;20 -->\n<g id=\"edge56\" class=\"edge\">\n<title>15&#45;&gt;20</title>\n<path fill=\"none\" stroke=\"#707070\" d=\"M818,-224.75C839.75,-190.52 891.13,-109.65 912.94,-75.34\"/>\n</g>\n<!-- 15&#45;&gt;21 -->\n<g id=\"edge66\" class=\"edge\">\n<title>15&#45;&gt;21</title>\n<path fill=\"none\" stroke=\"#707070\" d=\"M808.41,-221.81C809.18,-187.03 810.82,-112.78 811.59,-78.08\"/>\n</g>\n<!-- 15&#45;&gt;22 -->\n<g id=\"edge76\" class=\"edge\">\n<title>15&#45;&gt;22</title>\n<path fill=\"none\" stroke=\"#707070\" d=\"M798.5,-224.43C778.25,-190.17 731,-110.24 710.63,-75.78\"/>\n</g>\n<!-- 15&#45;&gt;23 -->\n<g id=\"edge86\" class=\"edge\">\n<title>15&#45;&gt;23</title>\n<path fill=\"none\" stroke=\"#707070\" d=\"M793.36,-228.34C753.64,-195.37 644.22,-104.51 604.58,-71.6\"/>\n</g>\n<!-- 15&#45;&gt;24 -->\n<g id=\"edge96\" class=\"edge\">\n<title>15&#45;&gt;24</title>\n<path fill=\"none\" stroke=\"#707070\" d=\"M791.23,-231.27C734.8,-200.22 552.12,-99.72 495.73,-68.7\"/>\n</g>\n<!-- 15&#45;&gt;25 -->\n<g id=\"edge106\" class=\"edge\">\n<title>15&#45;&gt;25</title>\n<path fill=\"none\" stroke=\"#707070\" d=\"M790.21,-233.18C719.3,-204.01 457.31,-96.24 386.01,-66.91\"/>\n</g>\n<!-- 15&#45;&gt;26 -->\n<g id=\"edge116\" class=\"edge\">\n<title>15&#45;&gt;26</title>\n<path fill=\"none\" stroke=\"#707070\" d=\"M789.67,-234.47C705.82,-206.93 359.39,-93.13 275.4,-65.54\"/>\n</g>\n<!-- 16&#45;&gt;17 -->\n<g id=\"edge27\" class=\"edge\">\n<title>16&#45;&gt;17</title>\n<path fill=\"none\" stroke=\"#707070\" d=\"M678.67,-234.47C594.82,-206.93 248.39,-93.13 164.4,-65.54\"/>\n</g>\n<!-- 16&#45;&gt;18 -->\n<g id=\"edge37\" class=\"edge\">\n<title>16&#45;&gt;18</title>\n<path fill=\"none\" stroke=\"#707070\" d=\"M678.25,-235.37C582.52,-209.19 148.94,-90.65 53.58,-64.58\"/>\n</g>\n<!-- 16&#45;&gt;19 -->\n<g id=\"edge47\" class=\"edge\">\n<title>16&#45;&gt;19</title>\n<path fill=\"none\" stroke=\"#707070\" d=\"M714.18,-231.27C771.98,-200.22 959.1,-99.72 1016.86,-68.7\"/>\n</g>\n<!-- 16&#45;&gt;20 -->\n<g id=\"edge57\" class=\"edge\">\n<title>16&#45;&gt;20</title>\n<path fill=\"none\" stroke=\"#707070\" d=\"M711.83,-228.62C752.78,-195.82 867.1,-104.27 908.12,-71.42\"/>\n</g>\n<!-- 16&#45;&gt;21 -->\n<g id=\"edge67\" class=\"edge\">\n<title>16&#45;&gt;21</title>\n<path fill=\"none\" stroke=\"#707070\" d=\"M707,-224.75C728.75,-190.52 780.13,-109.65 801.94,-75.34\"/>\n</g>\n<!-- 16&#45;&gt;22 -->\n<g id=\"edge77\" class=\"edge\">\n<title>16&#45;&gt;22</title>\n<path fill=\"none\" stroke=\"#707070\" d=\"M697.41,-221.81C698.18,-187.03 699.82,-112.78 700.59,-78.08\"/>\n</g>\n<!-- 16&#45;&gt;23 -->\n<g id=\"edge87\" class=\"edge\">\n<title>16&#45;&gt;23</title>\n<path fill=\"none\" stroke=\"#707070\" d=\"M687.5,-224.43C667.25,-190.17 620,-110.24 599.63,-75.78\"/>\n</g>\n<!-- 16&#45;&gt;24 -->\n<g id=\"edge97\" class=\"edge\">\n<title>16&#45;&gt;24</title>\n<path fill=\"none\" stroke=\"#707070\" d=\"M682.36,-228.34C642.64,-195.37 533.22,-104.51 493.58,-71.6\"/>\n</g>\n<!-- 16&#45;&gt;25 -->\n<g id=\"edge107\" class=\"edge\">\n<title>16&#45;&gt;25</title>\n<path fill=\"none\" stroke=\"#707070\" d=\"M680.23,-231.27C623.8,-200.22 441.12,-99.72 384.73,-68.7\"/>\n</g>\n<!-- 16&#45;&gt;26 -->\n<g id=\"edge117\" class=\"edge\">\n<title>16&#45;&gt;26</title>\n<path fill=\"none\" stroke=\"#707070\" d=\"M679.21,-233.18C608.3,-204.01 346.31,-96.24 275.01,-66.91\"/>\n</g>\n</g>\n</svg>\n",
            "text/plain": [
              "<graphviz.sources.Source at 0x789a909070a0>"
            ]
          },
          "metadata": {},
          "execution_count": 26
        }
      ]
    },
    {
      "cell_type": "code",
      "source": [
        "score = model.evaluate(test_set_x, test_set_y, batch_size=512)"
      ],
      "metadata": {
        "colab": {
          "base_uri": "https://localhost:8080/"
        },
        "id": "ogRFBCxTYA-w",
        "outputId": "b01f9fe0-e77f-4de9-8d7d-88be73ed0d60"
      },
      "execution_count": 27,
      "outputs": [
        {
          "output_type": "stream",
          "name": "stdout",
          "text": [
            "20/20 [==============================] - 36s 2s/step - loss: 0.0302 - accuracy: 0.9904\n"
          ]
        }
      ]
    },
    {
      "cell_type": "code",
      "source": [
        "predictions = model.predict(test_set_x)"
      ],
      "metadata": {
        "colab": {
          "base_uri": "https://localhost:8080/"
        },
        "id": "i_CI_XoKYZqf",
        "outputId": "7cbc0e7d-6db1-40d7-ad1a-4d4353cf5aad"
      },
      "execution_count": 28,
      "outputs": [
        {
          "output_type": "stream",
          "name": "stdout",
          "text": [
            "313/313 [==============================] - 11s 34ms/step\n"
          ]
        }
      ]
    },
    {
      "cell_type": "code",
      "source": [
        "print(np.argmax(predictions[0]))"
      ],
      "metadata": {
        "colab": {
          "base_uri": "https://localhost:8080/"
        },
        "id": "lMUPUArUYqqF",
        "outputId": "83affecf-00cc-4eae-ec22-e13ea438bec0"
      },
      "execution_count": 29,
      "outputs": [
        {
          "output_type": "stream",
          "name": "stdout",
          "text": [
            "7\n"
          ]
        }
      ]
    },
    {
      "cell_type": "code",
      "source": [
        "predictions.shape"
      ],
      "metadata": {
        "colab": {
          "base_uri": "https://localhost:8080/"
        },
        "id": "FHRVR08bZP_T",
        "outputId": "0afd3fbc-204c-4d64-fbc4-2d52184ad1a8"
      },
      "execution_count": 31,
      "outputs": [
        {
          "output_type": "execute_result",
          "data": {
            "text/plain": [
              "(10000, 10)"
            ]
          },
          "metadata": {},
          "execution_count": 31
        }
      ]
    },
    {
      "cell_type": "code",
      "source": [],
      "metadata": {
        "id": "zjIx7BNsZY8A"
      },
      "execution_count": null,
      "outputs": []
    }
  ]
}