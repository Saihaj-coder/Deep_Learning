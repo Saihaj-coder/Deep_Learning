{
  "nbformat": 4,
  "nbformat_minor": 0,
  "metadata": {
    "colab": {
      "provenance": [],
      "authorship_tag": "ABX9TyOt0Kgj4QgHS71TS7avUDfn"
    },
    "kernelspec": {
      "name": "python3",
      "display_name": "Python 3"
    },
    "language_info": {
      "name": "python"
    }
  },
  "cells": [
    {
      "cell_type": "code",
      "source": [
        "# IMDB dataset having 50K movie reviews for natural language processing or Text analytics.\n",
        "# Predict positive and negative reviews using deep learning algorithms."
      ],
      "metadata": {
        "id": "QqZwcdyTNift"
      },
      "execution_count": 1,
      "outputs": []
    },
    {
      "cell_type": "code",
      "execution_count": 2,
      "metadata": {
        "id": "rv5PpVrIL2k-"
      },
      "outputs": [],
      "source": [
        "import tensorflow as tf\n",
        "import numpy as np\n",
        "from keras.datasets import imdb\n",
        "from keras.models import Sequential\n",
        "from keras.layers import Dense\n",
        "from keras.layers import SimpleRNN\n",
        "from keras.layers import Embedding\n",
        "from keras.preprocessing import sequence"
      ]
    },
    {
      "cell_type": "code",
      "source": [
        "(X_train, Y_train), (X_test, Y_test) = imdb.load_data(num_words=5000)"
      ],
      "metadata": {
        "id": "qPQSIrEQNWkP"
      },
      "execution_count": 3,
      "outputs": []
    },
    {
      "cell_type": "code",
      "source": [
        "print(X_train.shape, X_test.shape, Y_train.shape, Y_test.shape)"
      ],
      "metadata": {
        "colab": {
          "base_uri": "https://localhost:8080/"
        },
        "id": "ZSYxwQP1OQXY",
        "outputId": "fe0f67b0-2291-4c04-b0a2-748af9808c57"
      },
      "execution_count": 4,
      "outputs": [
        {
          "output_type": "stream",
          "name": "stdout",
          "text": [
            "(25000,) (25000,) (25000,) (25000,)\n"
          ]
        }
      ]
    },
    {
      "cell_type": "code",
      "source": [
        "len(X_train[100])"
      ],
      "metadata": {
        "colab": {
          "base_uri": "https://localhost:8080/"
        },
        "id": "-n22rzcqOh7q",
        "outputId": "fa0f4c69-db16-4d63-f7a2-613924c60b06"
      },
      "execution_count": 5,
      "outputs": [
        {
          "output_type": "execute_result",
          "data": {
            "text/plain": [
              "158"
            ]
          },
          "metadata": {},
          "execution_count": 5
        }
      ]
    },
    {
      "cell_type": "code",
      "source": [
        "X_train = sequence.pad_sequences(X_train, maxlen=500)\n",
        "X_test = sequence.pad_sequences(X_test, maxlen=500)"
      ],
      "metadata": {
        "id": "EfTkGFEROy2G"
      },
      "execution_count": 6,
      "outputs": []
    },
    {
      "cell_type": "code",
      "source": [
        "print(X_train.shape, X_test.shape)"
      ],
      "metadata": {
        "colab": {
          "base_uri": "https://localhost:8080/"
        },
        "id": "y1yH7ycOQCNM",
        "outputId": "a89aeab5-a0e6-4514-8869-2feebbed9cb7"
      },
      "execution_count": 7,
      "outputs": [
        {
          "output_type": "stream",
          "name": "stdout",
          "text": [
            "(25000, 500) (25000, 500)\n"
          ]
        }
      ]
    },
    {
      "cell_type": "code",
      "source": [
        "embedding_vector_length = 32\n",
        "model = Sequential()"
      ],
      "metadata": {
        "id": "C0km6OU1QL4e"
      },
      "execution_count": 8,
      "outputs": []
    },
    {
      "cell_type": "code",
      "source": [
        "model.add(Embedding(5000, embedding_vector_length, input_length=500))\n",
        "model.add(SimpleRNN(100, dropout=0.2, recurrent_dropout=0.2))\n",
        "model.add(Dense(1, activation='sigmoid'))\n",
        "model.compile(loss = 'binary_crossentropy', optimizer = 'adam', metrics = ['accuracy'])"
      ],
      "metadata": {
        "id": "AbsCylIrRNBy"
      },
      "execution_count": 9,
      "outputs": []
    },
    {
      "cell_type": "code",
      "source": [
        "model.summary()"
      ],
      "metadata": {
        "colab": {
          "base_uri": "https://localhost:8080/"
        },
        "id": "tNDWavQaT_Nk",
        "outputId": "7af684c6-0f49-4453-83c9-7ad43ca52f86"
      },
      "execution_count": 10,
      "outputs": [
        {
          "output_type": "stream",
          "name": "stdout",
          "text": [
            "Model: \"sequential\"\n",
            "_________________________________________________________________\n",
            " Layer (type)                Output Shape              Param #   \n",
            "=================================================================\n",
            " embedding (Embedding)       (None, 500, 32)           160000    \n",
            "                                                                 \n",
            " simple_rnn (SimpleRNN)      (None, 100)               13300     \n",
            "                                                                 \n",
            " dense (Dense)               (None, 1)                 101       \n",
            "                                                                 \n",
            "=================================================================\n",
            "Total params: 173401 (677.35 KB)\n",
            "Trainable params: 173401 (677.35 KB)\n",
            "Non-trainable params: 0 (0.00 Byte)\n",
            "_________________________________________________________________\n"
          ]
        }
      ]
    },
    {
      "cell_type": "code",
      "source": [
        "model.fit(X_train, Y_train, epochs=100, batch_size=64)"
      ],
      "metadata": {
        "colab": {
          "base_uri": "https://localhost:8080/"
        },
        "id": "DunZK15ZUCo0",
        "outputId": "ae0b4eb2-8fef-4598-aa4f-42f6814b47b5"
      },
      "execution_count": 11,
      "outputs": [
        {
          "output_type": "stream",
          "name": "stdout",
          "text": [
            "Epoch 1/100\n",
            "391/391 [==============================] - 124s 311ms/step - loss: 0.7045 - accuracy: 0.5074\n",
            "Epoch 2/100\n",
            "391/391 [==============================] - 121s 308ms/step - loss: 0.6951 - accuracy: 0.5127\n",
            "Epoch 3/100\n",
            "391/391 [==============================] - 120s 306ms/step - loss: 0.6920 - accuracy: 0.5210\n",
            "Epoch 4/100\n",
            "391/391 [==============================] - 122s 312ms/step - loss: 0.6862 - accuracy: 0.5409\n",
            "Epoch 5/100\n",
            "391/391 [==============================] - 126s 323ms/step - loss: 0.6704 - accuracy: 0.5739\n",
            "Epoch 6/100\n",
            "391/391 [==============================] - 121s 310ms/step - loss: 0.5989 - accuracy: 0.6752\n",
            "Epoch 7/100\n",
            "391/391 [==============================] - 120s 308ms/step - loss: 0.6550 - accuracy: 0.6019\n",
            "Epoch 8/100\n",
            "391/391 [==============================] - 121s 309ms/step - loss: 0.6359 - accuracy: 0.6253\n",
            "Epoch 9/100\n",
            "391/391 [==============================] - 120s 307ms/step - loss: 0.5983 - accuracy: 0.6685\n",
            "Epoch 10/100\n",
            "391/391 [==============================] - 119s 305ms/step - loss: 0.5704 - accuracy: 0.6981\n",
            "Epoch 11/100\n",
            "391/391 [==============================] - 120s 306ms/step - loss: 0.6168 - accuracy: 0.6544\n",
            "Epoch 12/100\n",
            "391/391 [==============================] - 120s 307ms/step - loss: 0.6163 - accuracy: 0.6480\n",
            "Epoch 13/100\n",
            "391/391 [==============================] - 124s 318ms/step - loss: 0.5970 - accuracy: 0.6661\n",
            "Epoch 14/100\n",
            "391/391 [==============================] - 125s 320ms/step - loss: 0.5871 - accuracy: 0.6738\n",
            "Epoch 15/100\n",
            "391/391 [==============================] - 120s 307ms/step - loss: 0.5745 - accuracy: 0.6823\n",
            "Epoch 16/100\n",
            "391/391 [==============================] - 123s 315ms/step - loss: 0.5584 - accuracy: 0.6986\n",
            "Epoch 17/100\n",
            "391/391 [==============================] - 123s 314ms/step - loss: 0.5434 - accuracy: 0.7154\n",
            "Epoch 18/100\n",
            "391/391 [==============================] - 122s 313ms/step - loss: 0.5208 - accuracy: 0.7365\n",
            "Epoch 19/100\n",
            "391/391 [==============================] - 122s 312ms/step - loss: 0.5013 - accuracy: 0.7596\n",
            "Epoch 20/100\n",
            "391/391 [==============================] - 121s 309ms/step - loss: 0.4868 - accuracy: 0.7737\n",
            "Epoch 21/100\n",
            "391/391 [==============================] - 120s 307ms/step - loss: 0.4861 - accuracy: 0.7722\n",
            "Epoch 22/100\n",
            "391/391 [==============================] - 120s 307ms/step - loss: 0.4738 - accuracy: 0.7846\n",
            "Epoch 23/100\n",
            "391/391 [==============================] - 119s 304ms/step - loss: 0.4649 - accuracy: 0.7913\n",
            "Epoch 24/100\n",
            "391/391 [==============================] - 120s 307ms/step - loss: 0.4655 - accuracy: 0.7872\n",
            "Epoch 25/100\n",
            "391/391 [==============================] - 118s 302ms/step - loss: 0.4599 - accuracy: 0.7914\n",
            "Epoch 26/100\n",
            "391/391 [==============================] - 120s 308ms/step - loss: 0.4563 - accuracy: 0.7962\n",
            "Epoch 27/100\n",
            "391/391 [==============================] - 120s 306ms/step - loss: 0.4812 - accuracy: 0.7702\n",
            "Epoch 28/100\n",
            "391/391 [==============================] - 120s 308ms/step - loss: 0.4692 - accuracy: 0.7731\n",
            "Epoch 29/100\n",
            "391/391 [==============================] - 121s 310ms/step - loss: 0.4190 - accuracy: 0.8168\n",
            "Epoch 30/100\n",
            "391/391 [==============================] - 123s 314ms/step - loss: 0.4084 - accuracy: 0.8250\n",
            "Epoch 31/100\n",
            "391/391 [==============================] - 122s 311ms/step - loss: 0.4106 - accuracy: 0.8221\n",
            "Epoch 32/100\n",
            "391/391 [==============================] - 121s 308ms/step - loss: 0.3994 - accuracy: 0.8278\n",
            "Epoch 33/100\n",
            "391/391 [==============================] - 121s 309ms/step - loss: 0.3984 - accuracy: 0.8284\n",
            "Epoch 34/100\n",
            "391/391 [==============================] - 119s 305ms/step - loss: 0.3741 - accuracy: 0.8418\n",
            "Epoch 35/100\n",
            "391/391 [==============================] - 119s 305ms/step - loss: 0.3823 - accuracy: 0.8341\n",
            "Epoch 36/100\n",
            "391/391 [==============================] - 120s 305ms/step - loss: 0.4550 - accuracy: 0.7843\n",
            "Epoch 37/100\n",
            "391/391 [==============================] - 121s 308ms/step - loss: 0.4388 - accuracy: 0.8005\n",
            "Epoch 38/100\n",
            "391/391 [==============================] - 124s 318ms/step - loss: 0.3849 - accuracy: 0.8383\n",
            "Epoch 39/100\n",
            "391/391 [==============================] - 123s 314ms/step - loss: 0.3625 - accuracy: 0.8478\n",
            "Epoch 40/100\n",
            "391/391 [==============================] - 124s 318ms/step - loss: 0.3570 - accuracy: 0.8488\n",
            "Epoch 41/100\n",
            "391/391 [==============================] - 126s 322ms/step - loss: 0.4351 - accuracy: 0.7938\n",
            "Epoch 42/100\n",
            "391/391 [==============================] - 122s 312ms/step - loss: 0.4790 - accuracy: 0.7606\n",
            "Epoch 43/100\n",
            "391/391 [==============================] - 119s 305ms/step - loss: 0.4304 - accuracy: 0.8030\n",
            "Epoch 44/100\n",
            "391/391 [==============================] - 118s 301ms/step - loss: 0.3886 - accuracy: 0.8301\n",
            "Epoch 45/100\n",
            "391/391 [==============================] - 120s 306ms/step - loss: 0.3594 - accuracy: 0.8444\n",
            "Epoch 46/100\n",
            "391/391 [==============================] - 118s 303ms/step - loss: 0.3468 - accuracy: 0.8561\n",
            "Epoch 47/100\n",
            "391/391 [==============================] - 121s 311ms/step - loss: 0.3396 - accuracy: 0.8584\n",
            "Epoch 48/100\n",
            "391/391 [==============================] - 120s 307ms/step - loss: 0.4062 - accuracy: 0.8220\n",
            "Epoch 49/100\n",
            "391/391 [==============================] - 118s 301ms/step - loss: 0.3712 - accuracy: 0.8402\n",
            "Epoch 50/100\n",
            "391/391 [==============================] - 118s 303ms/step - loss: 0.3553 - accuracy: 0.8474\n",
            "Epoch 51/100\n",
            "391/391 [==============================] - 118s 301ms/step - loss: 0.3368 - accuracy: 0.8614\n",
            "Epoch 52/100\n",
            "391/391 [==============================] - 118s 303ms/step - loss: 0.3280 - accuracy: 0.8631\n",
            "Epoch 53/100\n",
            "391/391 [==============================] - 118s 301ms/step - loss: 0.3767 - accuracy: 0.8407\n",
            "Epoch 54/100\n",
            "391/391 [==============================] - 120s 308ms/step - loss: 0.3577 - accuracy: 0.8530\n",
            "Epoch 55/100\n",
            "391/391 [==============================] - 121s 310ms/step - loss: 0.3531 - accuracy: 0.8448\n",
            "Epoch 56/100\n",
            "391/391 [==============================] - 120s 307ms/step - loss: 0.4061 - accuracy: 0.8156\n",
            "Epoch 57/100\n",
            "391/391 [==============================] - 120s 305ms/step - loss: 0.4096 - accuracy: 0.8180\n",
            "Epoch 58/100\n",
            "391/391 [==============================] - 119s 304ms/step - loss: 0.4261 - accuracy: 0.8116\n",
            "Epoch 59/100\n",
            "391/391 [==============================] - 119s 305ms/step - loss: 0.4327 - accuracy: 0.7935\n",
            "Epoch 60/100\n",
            "391/391 [==============================] - 119s 305ms/step - loss: 0.3930 - accuracy: 0.8310\n",
            "Epoch 61/100\n",
            "391/391 [==============================] - 119s 303ms/step - loss: 0.4894 - accuracy: 0.7441\n",
            "Epoch 62/100\n",
            "391/391 [==============================] - 120s 307ms/step - loss: 0.3792 - accuracy: 0.8312\n",
            "Epoch 63/100\n",
            "391/391 [==============================] - 120s 307ms/step - loss: 0.3398 - accuracy: 0.8564\n",
            "Epoch 64/100\n",
            "391/391 [==============================] - 118s 300ms/step - loss: 0.4074 - accuracy: 0.8068\n",
            "Epoch 65/100\n",
            "391/391 [==============================] - 119s 305ms/step - loss: 0.4179 - accuracy: 0.8219\n",
            "Epoch 66/100\n",
            "391/391 [==============================] - 119s 303ms/step - loss: 0.4516 - accuracy: 0.7854\n",
            "Epoch 67/100\n",
            "391/391 [==============================] - 119s 305ms/step - loss: 0.3615 - accuracy: 0.8455\n",
            "Epoch 68/100\n",
            "391/391 [==============================] - 127s 326ms/step - loss: 0.3642 - accuracy: 0.8446\n",
            "Epoch 69/100\n",
            "391/391 [==============================] - 122s 312ms/step - loss: 0.3257 - accuracy: 0.8650\n",
            "Epoch 70/100\n",
            "391/391 [==============================] - 123s 314ms/step - loss: 0.4044 - accuracy: 0.8196\n",
            "Epoch 71/100\n",
            "391/391 [==============================] - 124s 317ms/step - loss: 0.4004 - accuracy: 0.8157\n",
            "Epoch 72/100\n",
            "391/391 [==============================] - 118s 302ms/step - loss: 0.3750 - accuracy: 0.8358\n",
            "Epoch 73/100\n",
            "391/391 [==============================] - 118s 303ms/step - loss: 0.3534 - accuracy: 0.8452\n",
            "Epoch 74/100\n",
            "391/391 [==============================] - 118s 302ms/step - loss: 0.3645 - accuracy: 0.8428\n",
            "Epoch 75/100\n",
            "391/391 [==============================] - 119s 304ms/step - loss: 0.3387 - accuracy: 0.8559\n",
            "Epoch 76/100\n",
            "391/391 [==============================] - 118s 301ms/step - loss: 0.3400 - accuracy: 0.8572\n",
            "Epoch 77/100\n",
            "391/391 [==============================] - 118s 302ms/step - loss: 0.3689 - accuracy: 0.8342\n",
            "Epoch 78/100\n",
            "391/391 [==============================] - 119s 304ms/step - loss: 0.3516 - accuracy: 0.8438\n",
            "Epoch 79/100\n",
            "391/391 [==============================] - 119s 303ms/step - loss: 0.3328 - accuracy: 0.8541\n",
            "Epoch 80/100\n",
            "391/391 [==============================] - 118s 303ms/step - loss: 0.3523 - accuracy: 0.8500\n",
            "Epoch 81/100\n",
            "391/391 [==============================] - 119s 303ms/step - loss: 0.3259 - accuracy: 0.8618\n",
            "Epoch 82/100\n",
            "391/391 [==============================] - 122s 312ms/step - loss: 0.3189 - accuracy: 0.8703\n",
            "Epoch 83/100\n",
            "391/391 [==============================] - 120s 306ms/step - loss: 0.3460 - accuracy: 0.8543\n",
            "Epoch 84/100\n",
            "391/391 [==============================] - 119s 305ms/step - loss: 0.3463 - accuracy: 0.8486\n",
            "Epoch 85/100\n",
            "391/391 [==============================] - 122s 311ms/step - loss: 0.4956 - accuracy: 0.7450\n",
            "Epoch 86/100\n",
            "391/391 [==============================] - 119s 305ms/step - loss: 0.4801 - accuracy: 0.7588\n",
            "Epoch 87/100\n",
            "391/391 [==============================] - 121s 309ms/step - loss: 0.4713 - accuracy: 0.7701\n",
            "Epoch 88/100\n",
            "391/391 [==============================] - 121s 308ms/step - loss: 0.4599 - accuracy: 0.7798\n",
            "Epoch 89/100\n",
            "391/391 [==============================] - 118s 302ms/step - loss: 0.4373 - accuracy: 0.8044\n",
            "Epoch 90/100\n",
            "391/391 [==============================] - 122s 312ms/step - loss: 0.4218 - accuracy: 0.8158\n",
            "Epoch 91/100\n",
            "391/391 [==============================] - 120s 306ms/step - loss: 0.4111 - accuracy: 0.8241\n",
            "Epoch 92/100\n",
            "391/391 [==============================] - 119s 303ms/step - loss: 0.4111 - accuracy: 0.8197\n",
            "Epoch 93/100\n",
            "391/391 [==============================] - 120s 307ms/step - loss: 0.4114 - accuracy: 0.8216\n",
            "Epoch 94/100\n",
            "391/391 [==============================] - 120s 307ms/step - loss: 0.4053 - accuracy: 0.8281\n",
            "Epoch 95/100\n",
            "391/391 [==============================] - 120s 307ms/step - loss: 0.4015 - accuracy: 0.8301\n",
            "Epoch 96/100\n",
            "391/391 [==============================] - 121s 310ms/step - loss: 0.3975 - accuracy: 0.8326\n",
            "Epoch 97/100\n",
            "391/391 [==============================] - 122s 313ms/step - loss: 0.3971 - accuracy: 0.8314\n",
            "Epoch 98/100\n",
            "391/391 [==============================] - 120s 306ms/step - loss: 0.3929 - accuracy: 0.8330\n",
            "Epoch 99/100\n",
            "391/391 [==============================] - 120s 306ms/step - loss: 0.3916 - accuracy: 0.8341\n",
            "Epoch 100/100\n",
            "391/391 [==============================] - 122s 311ms/step - loss: 0.3960 - accuracy: 0.8321\n"
          ]
        },
        {
          "output_type": "execute_result",
          "data": {
            "text/plain": [
              "<keras.src.callbacks.History at 0x7ed052c5d7b0>"
            ]
          },
          "metadata": {},
          "execution_count": 11
        }
      ]
    },
    {
      "cell_type": "code",
      "source": [
        "test_results = model.evaluate(X_test, Y_test)"
      ],
      "metadata": {
        "colab": {
          "base_uri": "https://localhost:8080/"
        },
        "id": "jHZ8z4QoVEFz",
        "outputId": "618e8e74-4f51-4ac6-d081-6789410d4018"
      },
      "execution_count": 15,
      "outputs": [
        {
          "output_type": "stream",
          "name": "stdout",
          "text": [
            "782/782 [==============================] - 31s 40ms/step - loss: 0.6342 - accuracy: 0.7212\n"
          ]
        }
      ]
    },
    {
      "cell_type": "code",
      "source": [],
      "metadata": {
        "id": "ZaK1xABjrXrG"
      },
      "execution_count": 13,
      "outputs": []
    },
    {
      "cell_type": "code",
      "source": [
        "print(\"Accuracy: \", (test_results[1]*100))"
      ],
      "metadata": {
        "colab": {
          "base_uri": "https://localhost:8080/"
        },
        "id": "N2rh59rhrjuL",
        "outputId": "f7c152b6-a1d6-46d9-9039-63715197dcde"
      },
      "execution_count": 16,
      "outputs": [
        {
          "output_type": "stream",
          "name": "stdout",
          "text": [
            "Accuracy:  72.11599946022034\n"
          ]
        }
      ]
    },
    {
      "cell_type": "code",
      "source": [],
      "metadata": {
        "id": "e8meP3_Aumat"
      },
      "execution_count": null,
      "outputs": []
    }
  ]
}