{
  "nbformat": 4,
  "nbformat_minor": 0,
  "metadata": {
    "colab": {
      "provenance": [],
      "authorship_tag": "ABX9TyM3Fjy/d+KL9vdOk/T8Dnld"
    },
    "kernelspec": {
      "name": "python3",
      "display_name": "Python 3"
    },
    "language_info": {
      "name": "python"
    }
  },
  "cells": [
    {
      "cell_type": "code",
      "execution_count": 1,
      "metadata": {
        "id": "EJUoG_ObaFr3"
      },
      "outputs": [],
      "source": [
        "import numpy as np\n",
        "import pandas as pd\n",
        "import matplotlib.pyplot as plt"
      ]
    },
    {
      "cell_type": "code",
      "source": [
        "from keras.datasets import boston_housing"
      ],
      "metadata": {
        "id": "FStya3NnabCO"
      },
      "execution_count": 2,
      "outputs": []
    },
    {
      "cell_type": "code",
      "source": [
        "(train_set_x, train_set_y), (test_set_x, test_set_y) = boston_housing.load_data()"
      ],
      "metadata": {
        "id": "jtMzCUkeafw7"
      },
      "execution_count": 3,
      "outputs": []
    },
    {
      "cell_type": "code",
      "source": [
        "train_set_x.shape"
      ],
      "metadata": {
        "colab": {
          "base_uri": "https://localhost:8080/"
        },
        "id": "bmWx9aV9ajg7",
        "outputId": "918f58f7-fe33-4433-a3d1-5bac0803f768"
      },
      "execution_count": 4,
      "outputs": [
        {
          "output_type": "execute_result",
          "data": {
            "text/plain": [
              "(404, 13)"
            ]
          },
          "metadata": {},
          "execution_count": 4
        }
      ]
    },
    {
      "cell_type": "code",
      "source": [
        "from sklearn.preprocessing import MinMaxScaler\n",
        "min_max_scaler = MinMaxScaler()\n",
        "min_max_scaler.fit(train_set_x)"
      ],
      "metadata": {
        "colab": {
          "base_uri": "https://localhost:8080/",
          "height": 74
        },
        "id": "D3VhZ-lvaplq",
        "outputId": "e6b782ad-eae7-4d39-d500-2c20ae4bb1d7"
      },
      "execution_count": 5,
      "outputs": [
        {
          "output_type": "execute_result",
          "data": {
            "text/plain": [
              "MinMaxScaler()"
            ],
            "text/html": [
              "<style>#sk-container-id-1 {color: black;background-color: white;}#sk-container-id-1 pre{padding: 0;}#sk-container-id-1 div.sk-toggleable {background-color: white;}#sk-container-id-1 label.sk-toggleable__label {cursor: pointer;display: block;width: 100%;margin-bottom: 0;padding: 0.3em;box-sizing: border-box;text-align: center;}#sk-container-id-1 label.sk-toggleable__label-arrow:before {content: \"▸\";float: left;margin-right: 0.25em;color: #696969;}#sk-container-id-1 label.sk-toggleable__label-arrow:hover:before {color: black;}#sk-container-id-1 div.sk-estimator:hover label.sk-toggleable__label-arrow:before {color: black;}#sk-container-id-1 div.sk-toggleable__content {max-height: 0;max-width: 0;overflow: hidden;text-align: left;background-color: #f0f8ff;}#sk-container-id-1 div.sk-toggleable__content pre {margin: 0.2em;color: black;border-radius: 0.25em;background-color: #f0f8ff;}#sk-container-id-1 input.sk-toggleable__control:checked~div.sk-toggleable__content {max-height: 200px;max-width: 100%;overflow: auto;}#sk-container-id-1 input.sk-toggleable__control:checked~label.sk-toggleable__label-arrow:before {content: \"▾\";}#sk-container-id-1 div.sk-estimator input.sk-toggleable__control:checked~label.sk-toggleable__label {background-color: #d4ebff;}#sk-container-id-1 div.sk-label input.sk-toggleable__control:checked~label.sk-toggleable__label {background-color: #d4ebff;}#sk-container-id-1 input.sk-hidden--visually {border: 0;clip: rect(1px 1px 1px 1px);clip: rect(1px, 1px, 1px, 1px);height: 1px;margin: -1px;overflow: hidden;padding: 0;position: absolute;width: 1px;}#sk-container-id-1 div.sk-estimator {font-family: monospace;background-color: #f0f8ff;border: 1px dotted black;border-radius: 0.25em;box-sizing: border-box;margin-bottom: 0.5em;}#sk-container-id-1 div.sk-estimator:hover {background-color: #d4ebff;}#sk-container-id-1 div.sk-parallel-item::after {content: \"\";width: 100%;border-bottom: 1px solid gray;flex-grow: 1;}#sk-container-id-1 div.sk-label:hover label.sk-toggleable__label {background-color: #d4ebff;}#sk-container-id-1 div.sk-serial::before {content: \"\";position: absolute;border-left: 1px solid gray;box-sizing: border-box;top: 0;bottom: 0;left: 50%;z-index: 0;}#sk-container-id-1 div.sk-serial {display: flex;flex-direction: column;align-items: center;background-color: white;padding-right: 0.2em;padding-left: 0.2em;position: relative;}#sk-container-id-1 div.sk-item {position: relative;z-index: 1;}#sk-container-id-1 div.sk-parallel {display: flex;align-items: stretch;justify-content: center;background-color: white;position: relative;}#sk-container-id-1 div.sk-item::before, #sk-container-id-1 div.sk-parallel-item::before {content: \"\";position: absolute;border-left: 1px solid gray;box-sizing: border-box;top: 0;bottom: 0;left: 50%;z-index: -1;}#sk-container-id-1 div.sk-parallel-item {display: flex;flex-direction: column;z-index: 1;position: relative;background-color: white;}#sk-container-id-1 div.sk-parallel-item:first-child::after {align-self: flex-end;width: 50%;}#sk-container-id-1 div.sk-parallel-item:last-child::after {align-self: flex-start;width: 50%;}#sk-container-id-1 div.sk-parallel-item:only-child::after {width: 0;}#sk-container-id-1 div.sk-dashed-wrapped {border: 1px dashed gray;margin: 0 0.4em 0.5em 0.4em;box-sizing: border-box;padding-bottom: 0.4em;background-color: white;}#sk-container-id-1 div.sk-label label {font-family: monospace;font-weight: bold;display: inline-block;line-height: 1.2em;}#sk-container-id-1 div.sk-label-container {text-align: center;}#sk-container-id-1 div.sk-container {/* jupyter's `normalize.less` sets `[hidden] { display: none; }` but bootstrap.min.css set `[hidden] { display: none !important; }` so we also need the `!important` here to be able to override the default hidden behavior on the sphinx rendered scikit-learn.org. See: https://github.com/scikit-learn/scikit-learn/issues/21755 */display: inline-block !important;position: relative;}#sk-container-id-1 div.sk-text-repr-fallback {display: none;}</style><div id=\"sk-container-id-1\" class=\"sk-top-container\"><div class=\"sk-text-repr-fallback\"><pre>MinMaxScaler()</pre><b>In a Jupyter environment, please rerun this cell to show the HTML representation or trust the notebook. <br />On GitHub, the HTML representation is unable to render, please try loading this page with nbviewer.org.</b></div><div class=\"sk-container\" hidden><div class=\"sk-item\"><div class=\"sk-estimator sk-toggleable\"><input class=\"sk-toggleable__control sk-hidden--visually\" id=\"sk-estimator-id-1\" type=\"checkbox\" checked><label for=\"sk-estimator-id-1\" class=\"sk-toggleable__label sk-toggleable__label-arrow\">MinMaxScaler</label><div class=\"sk-toggleable__content\"><pre>MinMaxScaler()</pre></div></div></div></div></div>"
            ]
          },
          "metadata": {},
          "execution_count": 5
        }
      ]
    },
    {
      "cell_type": "code",
      "source": [
        "train_set_x = min_max_scaler.fit_transform(train_set_x)\n",
        "test_set_x = min_max_scaler.fit_transform(test_set_x)"
      ],
      "metadata": {
        "id": "XNCKmIRmawPa"
      },
      "execution_count": 6,
      "outputs": []
    },
    {
      "cell_type": "code",
      "source": [
        "from tensorflow.keras.models import Sequential\n",
        "from tensorflow.keras.layers import Dense"
      ],
      "metadata": {
        "id": "uq0otr9ja15J"
      },
      "execution_count": 7,
      "outputs": []
    },
    {
      "cell_type": "code",
      "source": [
        "model = Sequential(name = 'ANN_Boston_Housing_price_pred')\n",
        "model.add(Dense(200, input_dim = train_set_x.shape[1], activation = 'relu', name = 'Input_layer'))\n",
        "model.add(Dense(150, activation = 'relu', name = 'Hidden_layer_1'))\n",
        "model.add(Dense(100, activation = 'relu', name = 'Hidden_layer_2'))\n",
        "model.add(Dense(50, activation = 'relu', name = 'Hidden_layer_3'))\n",
        "model.add(Dense(1, activation = 'linear', name = 'Output_layer'))"
      ],
      "metadata": {
        "id": "A_M2iKepa5__"
      },
      "execution_count": 8,
      "outputs": []
    },
    {
      "cell_type": "code",
      "source": [
        "model.compile(optimizer='Adam', loss = 'mse', metrics=['mae'])"
      ],
      "metadata": {
        "id": "auHPyI9Ka_9K"
      },
      "execution_count": 9,
      "outputs": []
    },
    {
      "cell_type": "code",
      "source": [
        "model.summary()"
      ],
      "metadata": {
        "colab": {
          "base_uri": "https://localhost:8080/"
        },
        "id": "DoGiDqDDbEGA",
        "outputId": "3044bb38-a6e9-4ed1-d758-e58676a4ab84"
      },
      "execution_count": 10,
      "outputs": [
        {
          "output_type": "stream",
          "name": "stdout",
          "text": [
            "Model: \"ANN_Boston_Housing_price_pred\"\n",
            "_________________________________________________________________\n",
            " Layer (type)                Output Shape              Param #   \n",
            "=================================================================\n",
            " Input_layer (Dense)         (None, 200)               2800      \n",
            "                                                                 \n",
            " Hidden_layer_1 (Dense)      (None, 150)               30150     \n",
            "                                                                 \n",
            " Hidden_layer_2 (Dense)      (None, 100)               15100     \n",
            "                                                                 \n",
            " Hidden_layer_3 (Dense)      (None, 50)                5050      \n",
            "                                                                 \n",
            " Output_layer (Dense)        (None, 1)                 51        \n",
            "                                                                 \n",
            "=================================================================\n",
            "Total params: 53,151\n",
            "Trainable params: 53,151\n",
            "Non-trainable params: 0\n",
            "_________________________________________________________________\n"
          ]
        }
      ]
    },
    {
      "cell_type": "code",
      "source": [
        "hist = model.fit(train_set_x, train_set_y, batch_size=40, epochs=100, validation_split=0.2)"
      ],
      "metadata": {
        "colab": {
          "base_uri": "https://localhost:8080/"
        },
        "id": "mjzOHb6RbJI4",
        "outputId": "96772502-54a3-4973-c2e9-fe33ff9e9166"
      },
      "execution_count": 11,
      "outputs": [
        {
          "output_type": "stream",
          "name": "stdout",
          "text": [
            "Epoch 1/100\n",
            "9/9 [==============================] - 1s 21ms/step - loss: 553.7855 - mae: 21.6596 - val_loss: 586.7547 - val_mae: 22.3817\n",
            "Epoch 2/100\n",
            "9/9 [==============================] - 0s 5ms/step - loss: 469.6129 - mae: 19.5031 - val_loss: 414.9258 - val_mae: 17.9932\n",
            "Epoch 3/100\n",
            "9/9 [==============================] - 0s 7ms/step - loss: 252.4326 - mae: 12.7293 - val_loss: 132.9341 - val_mae: 9.2023\n",
            "Epoch 4/100\n",
            "9/9 [==============================] - 0s 8ms/step - loss: 138.6349 - mae: 9.3617 - val_loss: 106.5844 - val_mae: 8.1353\n",
            "Epoch 5/100\n",
            "9/9 [==============================] - 0s 6ms/step - loss: 96.2420 - mae: 7.5183 - val_loss: 94.6317 - val_mae: 7.2228\n",
            "Epoch 6/100\n",
            "9/9 [==============================] - 0s 5ms/step - loss: 76.0451 - mae: 6.2735 - val_loss: 66.6320 - val_mae: 5.9699\n",
            "Epoch 7/100\n",
            "9/9 [==============================] - 0s 7ms/step - loss: 62.0844 - mae: 6.1496 - val_loss: 54.3637 - val_mae: 5.4922\n",
            "Epoch 8/100\n",
            "9/9 [==============================] - 0s 6ms/step - loss: 50.0503 - mae: 5.1221 - val_loss: 53.0100 - val_mae: 4.9953\n",
            "Epoch 9/100\n",
            "9/9 [==============================] - 0s 5ms/step - loss: 45.1286 - mae: 4.5435 - val_loss: 45.2511 - val_mae: 4.7090\n",
            "Epoch 10/100\n",
            "9/9 [==============================] - 0s 7ms/step - loss: 41.6265 - mae: 4.5288 - val_loss: 43.8853 - val_mae: 4.5294\n",
            "Epoch 11/100\n",
            "9/9 [==============================] - 0s 5ms/step - loss: 38.8499 - mae: 4.1872 - val_loss: 38.4768 - val_mae: 4.3631\n",
            "Epoch 12/100\n",
            "9/9 [==============================] - 0s 8ms/step - loss: 36.6449 - mae: 4.3319 - val_loss: 37.5140 - val_mae: 4.1909\n",
            "Epoch 13/100\n",
            "9/9 [==============================] - 0s 7ms/step - loss: 34.6418 - mae: 3.8532 - val_loss: 33.4625 - val_mae: 3.9826\n",
            "Epoch 14/100\n",
            "9/9 [==============================] - 0s 5ms/step - loss: 30.9259 - mae: 3.8476 - val_loss: 30.7368 - val_mae: 3.8151\n",
            "Epoch 15/100\n",
            "9/9 [==============================] - 0s 6ms/step - loss: 29.7272 - mae: 3.6216 - val_loss: 28.5391 - val_mae: 3.6790\n",
            "Epoch 16/100\n",
            "9/9 [==============================] - 0s 7ms/step - loss: 26.8563 - mae: 3.5199 - val_loss: 26.0102 - val_mae: 3.6675\n",
            "Epoch 17/100\n",
            "9/9 [==============================] - 0s 7ms/step - loss: 26.9705 - mae: 3.7351 - val_loss: 25.6953 - val_mae: 3.5119\n",
            "Epoch 18/100\n",
            "9/9 [==============================] - 0s 5ms/step - loss: 24.4131 - mae: 3.3474 - val_loss: 24.4933 - val_mae: 3.4667\n",
            "Epoch 19/100\n",
            "9/9 [==============================] - 0s 5ms/step - loss: 23.0710 - mae: 3.1869 - val_loss: 21.7590 - val_mae: 3.3272\n",
            "Epoch 20/100\n",
            "9/9 [==============================] - 0s 5ms/step - loss: 22.2941 - mae: 3.3113 - val_loss: 20.9074 - val_mae: 3.2171\n",
            "Epoch 21/100\n",
            "9/9 [==============================] - 0s 7ms/step - loss: 21.1995 - mae: 3.1166 - val_loss: 20.5321 - val_mae: 3.2630\n",
            "Epoch 22/100\n",
            "9/9 [==============================] - 0s 5ms/step - loss: 20.5073 - mae: 2.9950 - val_loss: 19.2368 - val_mae: 3.1564\n",
            "Epoch 23/100\n",
            "9/9 [==============================] - 0s 7ms/step - loss: 20.1668 - mae: 2.9390 - val_loss: 17.9274 - val_mae: 2.9836\n",
            "Epoch 24/100\n",
            "9/9 [==============================] - 0s 5ms/step - loss: 18.5592 - mae: 2.8397 - val_loss: 17.7452 - val_mae: 2.9228\n",
            "Epoch 25/100\n",
            "9/9 [==============================] - 0s 5ms/step - loss: 18.8698 - mae: 2.8705 - val_loss: 16.7781 - val_mae: 2.9341\n",
            "Epoch 26/100\n",
            "9/9 [==============================] - 0s 5ms/step - loss: 17.7647 - mae: 2.7848 - val_loss: 17.0358 - val_mae: 2.8902\n",
            "Epoch 27/100\n",
            "9/9 [==============================] - 0s 5ms/step - loss: 17.6213 - mae: 2.7491 - val_loss: 16.3462 - val_mae: 2.9650\n",
            "Epoch 28/100\n",
            "9/9 [==============================] - 0s 7ms/step - loss: 16.9335 - mae: 2.6802 - val_loss: 16.2986 - val_mae: 2.8279\n",
            "Epoch 29/100\n",
            "9/9 [==============================] - 0s 13ms/step - loss: 16.9285 - mae: 2.6919 - val_loss: 15.8360 - val_mae: 2.9207\n",
            "Epoch 30/100\n",
            "9/9 [==============================] - 0s 10ms/step - loss: 16.8833 - mae: 2.7146 - val_loss: 15.1921 - val_mae: 2.7482\n",
            "Epoch 31/100\n",
            "9/9 [==============================] - 0s 10ms/step - loss: 16.6797 - mae: 2.8334 - val_loss: 15.3496 - val_mae: 2.7393\n",
            "Epoch 32/100\n",
            "9/9 [==============================] - 0s 9ms/step - loss: 16.0781 - mae: 2.6971 - val_loss: 15.5728 - val_mae: 2.8567\n",
            "Epoch 33/100\n",
            "9/9 [==============================] - 0s 9ms/step - loss: 17.4586 - mae: 2.6978 - val_loss: 15.6507 - val_mae: 2.9572\n",
            "Epoch 34/100\n",
            "9/9 [==============================] - 0s 8ms/step - loss: 15.8967 - mae: 2.6567 - val_loss: 14.7052 - val_mae: 2.6804\n",
            "Epoch 35/100\n",
            "9/9 [==============================] - 0s 7ms/step - loss: 15.2377 - mae: 2.6602 - val_loss: 14.3213 - val_mae: 2.6595\n",
            "Epoch 36/100\n",
            "9/9 [==============================] - 0s 7ms/step - loss: 14.5733 - mae: 2.5660 - val_loss: 14.1311 - val_mae: 2.6475\n",
            "Epoch 37/100\n",
            "9/9 [==============================] - 0s 12ms/step - loss: 14.1572 - mae: 2.5473 - val_loss: 14.3233 - val_mae: 2.6434\n",
            "Epoch 38/100\n",
            "9/9 [==============================] - 0s 7ms/step - loss: 14.7055 - mae: 2.5016 - val_loss: 16.7245 - val_mae: 3.0203\n",
            "Epoch 39/100\n",
            "9/9 [==============================] - 0s 7ms/step - loss: 15.3041 - mae: 2.7137 - val_loss: 14.2767 - val_mae: 2.6325\n",
            "Epoch 40/100\n",
            "9/9 [==============================] - 0s 8ms/step - loss: 13.3203 - mae: 2.4447 - val_loss: 15.3319 - val_mae: 2.7882\n",
            "Epoch 41/100\n",
            "9/9 [==============================] - 0s 9ms/step - loss: 13.3609 - mae: 2.5134 - val_loss: 13.9595 - val_mae: 2.5978\n",
            "Epoch 42/100\n",
            "9/9 [==============================] - 0s 10ms/step - loss: 12.8703 - mae: 2.4310 - val_loss: 14.3839 - val_mae: 2.7206\n",
            "Epoch 43/100\n",
            "9/9 [==============================] - 0s 12ms/step - loss: 12.7058 - mae: 2.4176 - val_loss: 14.4647 - val_mae: 2.6301\n",
            "Epoch 44/100\n",
            "9/9 [==============================] - 0s 10ms/step - loss: 13.6179 - mae: 2.5218 - val_loss: 13.9601 - val_mae: 2.5596\n",
            "Epoch 45/100\n",
            "9/9 [==============================] - 0s 10ms/step - loss: 13.1995 - mae: 2.3407 - val_loss: 13.7719 - val_mae: 2.6808\n",
            "Epoch 46/100\n",
            "9/9 [==============================] - 0s 10ms/step - loss: 12.9726 - mae: 2.3735 - val_loss: 13.8305 - val_mae: 2.5366\n",
            "Epoch 47/100\n",
            "9/9 [==============================] - 0s 14ms/step - loss: 11.7302 - mae: 2.3033 - val_loss: 14.4765 - val_mae: 2.6444\n",
            "Epoch 48/100\n",
            "9/9 [==============================] - 0s 9ms/step - loss: 12.0276 - mae: 2.4513 - val_loss: 16.2101 - val_mae: 2.8822\n",
            "Epoch 49/100\n",
            "9/9 [==============================] - 0s 6ms/step - loss: 13.4028 - mae: 2.4377 - val_loss: 19.3260 - val_mae: 3.2409\n",
            "Epoch 50/100\n",
            "9/9 [==============================] - 0s 8ms/step - loss: 13.0854 - mae: 2.4903 - val_loss: 14.1485 - val_mae: 2.4753\n",
            "Epoch 51/100\n",
            "9/9 [==============================] - 0s 9ms/step - loss: 11.2713 - mae: 2.3141 - val_loss: 14.2395 - val_mae: 2.4695\n",
            "Epoch 52/100\n",
            "9/9 [==============================] - 0s 16ms/step - loss: 10.7687 - mae: 2.2401 - val_loss: 13.8219 - val_mae: 2.5487\n",
            "Epoch 53/100\n",
            "9/9 [==============================] - 0s 9ms/step - loss: 10.7217 - mae: 2.1572 - val_loss: 15.2646 - val_mae: 2.6936\n",
            "Epoch 54/100\n",
            "9/9 [==============================] - 0s 8ms/step - loss: 11.5062 - mae: 2.4119 - val_loss: 15.8582 - val_mae: 2.6253\n",
            "Epoch 55/100\n",
            "9/9 [==============================] - 0s 13ms/step - loss: 11.1263 - mae: 2.4290 - val_loss: 15.2880 - val_mae: 2.6496\n",
            "Epoch 56/100\n",
            "9/9 [==============================] - 0s 9ms/step - loss: 11.4087 - mae: 2.3181 - val_loss: 17.6329 - val_mae: 2.9353\n",
            "Epoch 57/100\n",
            "9/9 [==============================] - 0s 6ms/step - loss: 11.9881 - mae: 2.2803 - val_loss: 14.6407 - val_mae: 2.6893\n",
            "Epoch 58/100\n",
            "9/9 [==============================] - 0s 9ms/step - loss: 10.6222 - mae: 2.2981 - val_loss: 17.0014 - val_mae: 2.8034\n",
            "Epoch 59/100\n",
            "9/9 [==============================] - 0s 8ms/step - loss: 11.1056 - mae: 2.3786 - val_loss: 18.8458 - val_mae: 2.9270\n",
            "Epoch 60/100\n",
            "9/9 [==============================] - 0s 9ms/step - loss: 10.6821 - mae: 2.3031 - val_loss: 15.2867 - val_mae: 2.5867\n",
            "Epoch 61/100\n",
            "9/9 [==============================] - 0s 17ms/step - loss: 9.7339 - mae: 2.1978 - val_loss: 15.1065 - val_mae: 2.6003\n",
            "Epoch 62/100\n",
            "9/9 [==============================] - 0s 8ms/step - loss: 10.0748 - mae: 2.2387 - val_loss: 15.1882 - val_mae: 2.6146\n",
            "Epoch 63/100\n",
            "9/9 [==============================] - 0s 18ms/step - loss: 9.4955 - mae: 2.0541 - val_loss: 15.2714 - val_mae: 2.6838\n",
            "Epoch 64/100\n",
            "9/9 [==============================] - 0s 18ms/step - loss: 9.1701 - mae: 2.0592 - val_loss: 16.0150 - val_mae: 2.7239\n",
            "Epoch 65/100\n",
            "9/9 [==============================] - 0s 12ms/step - loss: 9.1292 - mae: 2.0871 - val_loss: 15.8988 - val_mae: 2.6258\n",
            "Epoch 66/100\n",
            "9/9 [==============================] - 0s 15ms/step - loss: 8.9888 - mae: 2.1343 - val_loss: 15.8748 - val_mae: 2.6242\n",
            "Epoch 67/100\n",
            "9/9 [==============================] - 0s 18ms/step - loss: 9.0344 - mae: 2.1101 - val_loss: 16.3112 - val_mae: 2.7105\n",
            "Epoch 68/100\n",
            "9/9 [==============================] - 0s 12ms/step - loss: 8.7323 - mae: 2.0618 - val_loss: 14.7624 - val_mae: 2.6793\n",
            "Epoch 69/100\n",
            "9/9 [==============================] - 0s 15ms/step - loss: 8.6244 - mae: 2.0462 - val_loss: 14.6628 - val_mae: 2.5728\n",
            "Epoch 70/100\n",
            "9/9 [==============================] - 0s 17ms/step - loss: 9.0842 - mae: 2.0621 - val_loss: 17.0293 - val_mae: 2.7094\n",
            "Epoch 71/100\n",
            "9/9 [==============================] - 0s 20ms/step - loss: 9.2023 - mae: 2.0702 - val_loss: 14.5905 - val_mae: 2.6516\n",
            "Epoch 72/100\n",
            "9/9 [==============================] - 0s 12ms/step - loss: 8.3828 - mae: 1.9880 - val_loss: 14.6139 - val_mae: 2.5317\n",
            "Epoch 73/100\n",
            "9/9 [==============================] - 0s 15ms/step - loss: 8.4344 - mae: 2.0182 - val_loss: 14.5058 - val_mae: 2.5599\n",
            "Epoch 74/100\n",
            "9/9 [==============================] - 0s 16ms/step - loss: 9.2016 - mae: 2.0474 - val_loss: 16.6393 - val_mae: 2.9128\n",
            "Epoch 75/100\n",
            "9/9 [==============================] - 0s 17ms/step - loss: 9.5546 - mae: 2.2017 - val_loss: 14.9659 - val_mae: 2.5643\n",
            "Epoch 76/100\n",
            "9/9 [==============================] - 0s 17ms/step - loss: 8.4590 - mae: 2.0651 - val_loss: 15.9321 - val_mae: 2.8542\n",
            "Epoch 77/100\n",
            "9/9 [==============================] - 0s 10ms/step - loss: 8.8569 - mae: 2.0967 - val_loss: 14.5817 - val_mae: 2.6270\n",
            "Epoch 78/100\n",
            "9/9 [==============================] - 0s 10ms/step - loss: 8.1998 - mae: 1.9765 - val_loss: 15.1117 - val_mae: 2.6148\n",
            "Epoch 79/100\n",
            "9/9 [==============================] - 0s 12ms/step - loss: 8.1406 - mae: 2.0264 - val_loss: 14.7478 - val_mae: 2.7201\n",
            "Epoch 80/100\n",
            "9/9 [==============================] - 0s 10ms/step - loss: 8.6504 - mae: 2.0916 - val_loss: 15.7412 - val_mae: 2.6758\n",
            "Epoch 81/100\n",
            "9/9 [==============================] - 0s 12ms/step - loss: 8.3669 - mae: 2.0150 - val_loss: 13.4011 - val_mae: 2.4962\n",
            "Epoch 82/100\n",
            "9/9 [==============================] - 0s 11ms/step - loss: 8.2814 - mae: 2.0344 - val_loss: 14.7512 - val_mae: 2.7601\n",
            "Epoch 83/100\n",
            "9/9 [==============================] - 0s 21ms/step - loss: 8.6726 - mae: 2.0536 - val_loss: 14.1091 - val_mae: 2.5924\n",
            "Epoch 84/100\n",
            "9/9 [==============================] - 0s 16ms/step - loss: 7.7658 - mae: 1.9505 - val_loss: 12.7378 - val_mae: 2.5207\n",
            "Epoch 85/100\n",
            "9/9 [==============================] - 0s 15ms/step - loss: 8.5746 - mae: 1.9623 - val_loss: 12.9732 - val_mae: 2.6133\n",
            "Epoch 86/100\n",
            "9/9 [==============================] - 0s 26ms/step - loss: 8.1995 - mae: 2.0130 - val_loss: 13.5150 - val_mae: 2.5147\n",
            "Epoch 87/100\n",
            "9/9 [==============================] - 0s 7ms/step - loss: 8.2486 - mae: 2.0116 - val_loss: 12.1018 - val_mae: 2.5053\n",
            "Epoch 88/100\n",
            "9/9 [==============================] - 0s 9ms/step - loss: 8.1806 - mae: 1.9749 - val_loss: 12.7602 - val_mae: 2.4559\n",
            "Epoch 89/100\n",
            "9/9 [==============================] - 0s 7ms/step - loss: 7.5966 - mae: 1.9071 - val_loss: 12.4062 - val_mae: 2.4440\n",
            "Epoch 90/100\n",
            "9/9 [==============================] - 0s 10ms/step - loss: 8.3132 - mae: 1.9675 - val_loss: 11.8380 - val_mae: 2.4677\n",
            "Epoch 91/100\n",
            "9/9 [==============================] - 0s 10ms/step - loss: 8.2997 - mae: 1.9796 - val_loss: 15.8239 - val_mae: 2.6783\n",
            "Epoch 92/100\n",
            "9/9 [==============================] - 0s 14ms/step - loss: 8.1451 - mae: 2.0336 - val_loss: 12.7779 - val_mae: 2.4207\n",
            "Epoch 93/100\n",
            "9/9 [==============================] - 0s 12ms/step - loss: 7.4236 - mae: 1.8782 - val_loss: 12.2339 - val_mae: 2.4481\n",
            "Epoch 94/100\n",
            "9/9 [==============================] - 0s 13ms/step - loss: 7.2118 - mae: 1.8684 - val_loss: 12.9288 - val_mae: 2.4928\n",
            "Epoch 95/100\n",
            "9/9 [==============================] - 0s 9ms/step - loss: 7.5762 - mae: 1.9700 - val_loss: 12.4042 - val_mae: 2.4967\n",
            "Epoch 96/100\n",
            "9/9 [==============================] - 0s 10ms/step - loss: 7.4067 - mae: 1.8756 - val_loss: 12.1116 - val_mae: 2.4458\n",
            "Epoch 97/100\n",
            "9/9 [==============================] - 0s 9ms/step - loss: 7.4186 - mae: 1.9104 - val_loss: 12.1599 - val_mae: 2.4443\n",
            "Epoch 98/100\n",
            "9/9 [==============================] - 0s 8ms/step - loss: 7.4260 - mae: 1.9030 - val_loss: 11.7743 - val_mae: 2.4240\n",
            "Epoch 99/100\n",
            "9/9 [==============================] - 0s 21ms/step - loss: 7.4236 - mae: 1.9055 - val_loss: 12.3286 - val_mae: 2.5714\n",
            "Epoch 100/100\n",
            "9/9 [==============================] - 0s 7ms/step - loss: 6.9577 - mae: 1.8384 - val_loss: 11.3066 - val_mae: 2.3597\n"
          ]
        }
      ]
    },
    {
      "cell_type": "code",
      "source": [
        "hist.history"
      ],
      "metadata": {
        "colab": {
          "base_uri": "https://localhost:8080/"
        },
        "id": "agpXNbZubkQG",
        "outputId": "5789dbcd-f360-4942-b254-34333d1f4e7f"
      },
      "execution_count": 12,
      "outputs": [
        {
          "output_type": "execute_result",
          "data": {
            "text/plain": [
              "{'loss': [553.7855224609375,\n",
              "  469.61285400390625,\n",
              "  252.43258666992188,\n",
              "  138.6349334716797,\n",
              "  96.24198150634766,\n",
              "  76.04512786865234,\n",
              "  62.084415435791016,\n",
              "  50.05029296875,\n",
              "  45.12859344482422,\n",
              "  41.62647247314453,\n",
              "  38.849910736083984,\n",
              "  36.644866943359375,\n",
              "  34.641754150390625,\n",
              "  30.92591667175293,\n",
              "  29.727245330810547,\n",
              "  26.856332778930664,\n",
              "  26.970495223999023,\n",
              "  24.413137435913086,\n",
              "  23.07102394104004,\n",
              "  22.29412078857422,\n",
              "  21.199478149414062,\n",
              "  20.50734519958496,\n",
              "  20.1667537689209,\n",
              "  18.55924415588379,\n",
              "  18.86983871459961,\n",
              "  17.764671325683594,\n",
              "  17.62134552001953,\n",
              "  16.93352699279785,\n",
              "  16.928491592407227,\n",
              "  16.88331413269043,\n",
              "  16.679731369018555,\n",
              "  16.078081130981445,\n",
              "  17.45855140686035,\n",
              "  15.896709442138672,\n",
              "  15.237663269042969,\n",
              "  14.573291778564453,\n",
              "  14.157175064086914,\n",
              "  14.70545768737793,\n",
              "  15.304121971130371,\n",
              "  13.320255279541016,\n",
              "  13.360860824584961,\n",
              "  12.870349884033203,\n",
              "  12.705804824829102,\n",
              "  13.61787223815918,\n",
              "  13.199533462524414,\n",
              "  12.972576141357422,\n",
              "  11.730169296264648,\n",
              "  12.027607917785645,\n",
              "  13.402765274047852,\n",
              "  13.085369110107422,\n",
              "  11.271267890930176,\n",
              "  10.768702507019043,\n",
              "  10.721684455871582,\n",
              "  11.506221771240234,\n",
              "  11.126312255859375,\n",
              "  11.408693313598633,\n",
              "  11.988114356994629,\n",
              "  10.622166633605957,\n",
              "  11.105568885803223,\n",
              "  10.682068824768066,\n",
              "  9.73386001586914,\n",
              "  10.074756622314453,\n",
              "  9.495527267456055,\n",
              "  9.170133590698242,\n",
              "  9.129172325134277,\n",
              "  8.988775253295898,\n",
              "  9.034357070922852,\n",
              "  8.732295036315918,\n",
              "  8.624380111694336,\n",
              "  9.084160804748535,\n",
              "  9.202319145202637,\n",
              "  8.382796287536621,\n",
              "  8.434422492980957,\n",
              "  9.201552391052246,\n",
              "  9.5546236038208,\n",
              "  8.458950996398926,\n",
              "  8.856935501098633,\n",
              "  8.199809074401855,\n",
              "  8.140600204467773,\n",
              "  8.650404930114746,\n",
              "  8.366877555847168,\n",
              "  8.281444549560547,\n",
              "  8.672576904296875,\n",
              "  7.765789985656738,\n",
              "  8.574631690979004,\n",
              "  8.199544906616211,\n",
              "  8.24864673614502,\n",
              "  8.180622100830078,\n",
              "  7.596612453460693,\n",
              "  8.313186645507812,\n",
              "  8.299712181091309,\n",
              "  8.145136833190918,\n",
              "  7.423620223999023,\n",
              "  7.2118330001831055,\n",
              "  7.576223850250244,\n",
              "  7.40668249130249,\n",
              "  7.418606758117676,\n",
              "  7.42596960067749,\n",
              "  7.423629283905029,\n",
              "  6.957718372344971],\n",
              " 'mae': [21.659576416015625,\n",
              "  19.50309181213379,\n",
              "  12.729334831237793,\n",
              "  9.361716270446777,\n",
              "  7.5183210372924805,\n",
              "  6.273536682128906,\n",
              "  6.1495561599731445,\n",
              "  5.122124195098877,\n",
              "  4.543474197387695,\n",
              "  4.528820991516113,\n",
              "  4.187225341796875,\n",
              "  4.331946849822998,\n",
              "  3.8531765937805176,\n",
              "  3.8475606441497803,\n",
              "  3.621591567993164,\n",
              "  3.5199012756347656,\n",
              "  3.735060214996338,\n",
              "  3.3474199771881104,\n",
              "  3.1869373321533203,\n",
              "  3.311279296875,\n",
              "  3.116603374481201,\n",
              "  2.9950408935546875,\n",
              "  2.9389772415161133,\n",
              "  2.8397271633148193,\n",
              "  2.8704729080200195,\n",
              "  2.7847609519958496,\n",
              "  2.7491488456726074,\n",
              "  2.6802265644073486,\n",
              "  2.6919126510620117,\n",
              "  2.714573860168457,\n",
              "  2.8334274291992188,\n",
              "  2.6970701217651367,\n",
              "  2.697793483734131,\n",
              "  2.6566622257232666,\n",
              "  2.660189390182495,\n",
              "  2.5659971237182617,\n",
              "  2.5473453998565674,\n",
              "  2.501634359359741,\n",
              "  2.7137253284454346,\n",
              "  2.4446816444396973,\n",
              "  2.5134437084198,\n",
              "  2.4309678077697754,\n",
              "  2.417598009109497,\n",
              "  2.5217981338500977,\n",
              "  2.3407132625579834,\n",
              "  2.3735086917877197,\n",
              "  2.303251266479492,\n",
              "  2.4513134956359863,\n",
              "  2.43768310546875,\n",
              "  2.490293264389038,\n",
              "  2.314054250717163,\n",
              "  2.2401301860809326,\n",
              "  2.1571946144104004,\n",
              "  2.4119222164154053,\n",
              "  2.429008722305298,\n",
              "  2.3180902004241943,\n",
              "  2.280325174331665,\n",
              "  2.298133134841919,\n",
              "  2.378631830215454,\n",
              "  2.303144931793213,\n",
              "  2.197758913040161,\n",
              "  2.2387142181396484,\n",
              "  2.054147958755493,\n",
              "  2.0592055320739746,\n",
              "  2.08707857131958,\n",
              "  2.1343233585357666,\n",
              "  2.1100733280181885,\n",
              "  2.061805009841919,\n",
              "  2.0461554527282715,\n",
              "  2.0620760917663574,\n",
              "  2.070228338241577,\n",
              "  1.9879735708236694,\n",
              "  2.0181920528411865,\n",
              "  2.0474166870117188,\n",
              "  2.201664447784424,\n",
              "  2.065136671066284,\n",
              "  2.096747636795044,\n",
              "  1.9764549732208252,\n",
              "  2.026380777359009,\n",
              "  2.0916082859039307,\n",
              "  2.0149667263031006,\n",
              "  2.034372329711914,\n",
              "  2.053596258163452,\n",
              "  1.9505431652069092,\n",
              "  1.9622600078582764,\n",
              "  2.0130388736724854,\n",
              "  2.011608362197876,\n",
              "  1.974865198135376,\n",
              "  1.9071093797683716,\n",
              "  1.9675103425979614,\n",
              "  1.9796032905578613,\n",
              "  2.033621072769165,\n",
              "  1.8781508207321167,\n",
              "  1.8684231042861938,\n",
              "  1.9699872732162476,\n",
              "  1.8755887746810913,\n",
              "  1.9103878736495972,\n",
              "  1.90296471118927,\n",
              "  1.9055066108703613,\n",
              "  1.8384360074996948],\n",
              " 'val_loss': [586.7546997070312,\n",
              "  414.92584228515625,\n",
              "  132.93406677246094,\n",
              "  106.58440399169922,\n",
              "  94.63170623779297,\n",
              "  66.63201141357422,\n",
              "  54.36366271972656,\n",
              "  53.010005950927734,\n",
              "  45.251068115234375,\n",
              "  43.885311126708984,\n",
              "  38.47677230834961,\n",
              "  37.51399612426758,\n",
              "  33.46254348754883,\n",
              "  30.73679542541504,\n",
              "  28.53912925720215,\n",
              "  26.010181427001953,\n",
              "  25.69533920288086,\n",
              "  24.49331283569336,\n",
              "  21.75899314880371,\n",
              "  20.907442092895508,\n",
              "  20.53209114074707,\n",
              "  19.236778259277344,\n",
              "  17.92742919921875,\n",
              "  17.74522590637207,\n",
              "  16.77810287475586,\n",
              "  17.035789489746094,\n",
              "  16.34622573852539,\n",
              "  16.29855728149414,\n",
              "  15.836039543151855,\n",
              "  15.192146301269531,\n",
              "  15.349607467651367,\n",
              "  15.57277774810791,\n",
              "  15.650708198547363,\n",
              "  14.705246925354004,\n",
              "  14.321255683898926,\n",
              "  14.131129264831543,\n",
              "  14.323263168334961,\n",
              "  16.724504470825195,\n",
              "  14.276717185974121,\n",
              "  15.331900596618652,\n",
              "  13.959451675415039,\n",
              "  14.38387680053711,\n",
              "  14.464685440063477,\n",
              "  13.960111618041992,\n",
              "  13.771855354309082,\n",
              "  13.830509185791016,\n",
              "  14.476524353027344,\n",
              "  16.21005630493164,\n",
              "  19.32604217529297,\n",
              "  14.148504257202148,\n",
              "  14.239465713500977,\n",
              "  13.821873664855957,\n",
              "  15.264617919921875,\n",
              "  15.858166694641113,\n",
              "  15.288021087646484,\n",
              "  17.632923126220703,\n",
              "  14.640710830688477,\n",
              "  17.001352310180664,\n",
              "  18.845800399780273,\n",
              "  15.28671932220459,\n",
              "  15.106523513793945,\n",
              "  15.188193321228027,\n",
              "  15.271445274353027,\n",
              "  16.015033721923828,\n",
              "  15.89881706237793,\n",
              "  15.874826431274414,\n",
              "  16.31119728088379,\n",
              "  14.762380599975586,\n",
              "  14.662768363952637,\n",
              "  17.029279708862305,\n",
              "  14.590502738952637,\n",
              "  14.613893508911133,\n",
              "  14.505767822265625,\n",
              "  16.639293670654297,\n",
              "  14.965888023376465,\n",
              "  15.932097434997559,\n",
              "  14.581714630126953,\n",
              "  15.11168098449707,\n",
              "  14.747751235961914,\n",
              "  15.741195678710938,\n",
              "  13.401121139526367,\n",
              "  14.751228332519531,\n",
              "  14.109068870544434,\n",
              "  12.737772941589355,\n",
              "  12.973165512084961,\n",
              "  13.51500415802002,\n",
              "  12.101815223693848,\n",
              "  12.760237693786621,\n",
              "  12.406217575073242,\n",
              "  11.837973594665527,\n",
              "  15.823860168457031,\n",
              "  12.777938842773438,\n",
              "  12.233881950378418,\n",
              "  12.928845405578613,\n",
              "  12.40416431427002,\n",
              "  12.111571311950684,\n",
              "  12.15991497039795,\n",
              "  11.774304389953613,\n",
              "  12.328631401062012,\n",
              "  11.306586265563965],\n",
              " 'val_mae': [22.38166046142578,\n",
              "  17.993247985839844,\n",
              "  9.202305793762207,\n",
              "  8.135327339172363,\n",
              "  7.222848415374756,\n",
              "  5.969944477081299,\n",
              "  5.492176532745361,\n",
              "  4.995297431945801,\n",
              "  4.709039211273193,\n",
              "  4.529428958892822,\n",
              "  4.363121032714844,\n",
              "  4.1908698081970215,\n",
              "  3.9826107025146484,\n",
              "  3.8150763511657715,\n",
              "  3.6790292263031006,\n",
              "  3.667492151260376,\n",
              "  3.511910915374756,\n",
              "  3.4666831493377686,\n",
              "  3.3271946907043457,\n",
              "  3.217059373855591,\n",
              "  3.2629661560058594,\n",
              "  3.1564035415649414,\n",
              "  2.9836313724517822,\n",
              "  2.922764539718628,\n",
              "  2.934087038040161,\n",
              "  2.890162229537964,\n",
              "  2.965010643005371,\n",
              "  2.8279316425323486,\n",
              "  2.920703887939453,\n",
              "  2.748223066329956,\n",
              "  2.7393300533294678,\n",
              "  2.8566646575927734,\n",
              "  2.9571762084960938,\n",
              "  2.680392026901245,\n",
              "  2.6595029830932617,\n",
              "  2.6475155353546143,\n",
              "  2.64337158203125,\n",
              "  3.0202600955963135,\n",
              "  2.6325137615203857,\n",
              "  2.788236379623413,\n",
              "  2.597759485244751,\n",
              "  2.7206127643585205,\n",
              "  2.6301138401031494,\n",
              "  2.5595574378967285,\n",
              "  2.6808369159698486,\n",
              "  2.536606550216675,\n",
              "  2.6444191932678223,\n",
              "  2.882161855697632,\n",
              "  3.2409465312957764,\n",
              "  2.475322961807251,\n",
              "  2.4695236682891846,\n",
              "  2.5487220287323,\n",
              "  2.6935698986053467,\n",
              "  2.625251293182373,\n",
              "  2.649587631225586,\n",
              "  2.9352896213531494,\n",
              "  2.6892542839050293,\n",
              "  2.8034353256225586,\n",
              "  2.927044630050659,\n",
              "  2.586737632751465,\n",
              "  2.6002845764160156,\n",
              "  2.61456036567688,\n",
              "  2.6837971210479736,\n",
              "  2.7238950729370117,\n",
              "  2.6258432865142822,\n",
              "  2.624159097671509,\n",
              "  2.710540294647217,\n",
              "  2.6793220043182373,\n",
              "  2.5728206634521484,\n",
              "  2.709364414215088,\n",
              "  2.651599407196045,\n",
              "  2.5316519737243652,\n",
              "  2.559875965118408,\n",
              "  2.9128336906433105,\n",
              "  2.5642900466918945,\n",
              "  2.854191780090332,\n",
              "  2.626988649368286,\n",
              "  2.614812135696411,\n",
              "  2.7200887203216553,\n",
              "  2.675779342651367,\n",
              "  2.496184825897217,\n",
              "  2.7601046562194824,\n",
              "  2.5923945903778076,\n",
              "  2.520714282989502,\n",
              "  2.61334490776062,\n",
              "  2.5147135257720947,\n",
              "  2.505276679992676,\n",
              "  2.455918073654175,\n",
              "  2.4440457820892334,\n",
              "  2.467719554901123,\n",
              "  2.678252935409546,\n",
              "  2.420687198638916,\n",
              "  2.4481091499328613,\n",
              "  2.4927845001220703,\n",
              "  2.4966683387756348,\n",
              "  2.4458417892456055,\n",
              "  2.444308280944824,\n",
              "  2.424027442932129,\n",
              "  2.571375608444214,\n",
              "  2.359692335128784]}"
            ]
          },
          "metadata": {},
          "execution_count": 12
        }
      ]
    },
    {
      "cell_type": "code",
      "source": [
        "plt.plot(hist.history['loss'])\n",
        "plt.plot(hist.history['val_loss'])"
      ],
      "metadata": {
        "colab": {
          "base_uri": "https://localhost:8080/",
          "height": 447
        },
        "id": "IRmjFg6Jb5ht",
        "outputId": "7fd98b49-bda1-4177-d0ef-3a308552d84d"
      },
      "execution_count": 13,
      "outputs": [
        {
          "output_type": "execute_result",
          "data": {
            "text/plain": [
              "[<matplotlib.lines.Line2D at 0x7b334c98f370>]"
            ]
          },
          "metadata": {},
          "execution_count": 13
        },
        {
          "output_type": "display_data",
          "data": {
            "text/plain": [
              "<Figure size 640x480 with 1 Axes>"
            ],
            "image/png": "[encoded data removed]"
          },
          "metadata": {}
        }
      ]
    },
    {
      "cell_type": "code",
      "source": [
        "plt.plot(hist.history['mae'])\n",
        "plt.plot(hist.history['val_mae'])"
      ],
      "metadata": {
        "colab": {
          "base_uri": "https://localhost:8080/",
          "height": 447
        },
        "id": "31qFJdSPcGEO",
        "outputId": "b57e80be-5b13-408e-8a9f-39b6c217544f"
      },
      "execution_count": 14,
      "outputs": [
        {
          "output_type": "execute_result",
          "data": {
            "text/plain": [
              "[<matplotlib.lines.Line2D at 0x7b334dd33cd0>]"
            ]
          },
          "metadata": {},
          "execution_count": 14
        },
        {
          "output_type": "display_data",
          "data": {
            "text/plain": [
              "<Figure size 640x480 with 1 Axes>"
            ],
            "image/png": "[encoded data removed]"
          },
          "metadata": {}
        }
      ]
    },
    {
      "cell_type": "code",
      "source": [
        "from ann_visualizer.visualize import ann_viz"
      ],
      "metadata": {
        "id": "lHRTAsTVcK78"
      },
      "execution_count": 15,
      "outputs": []
    },
    {
      "cell_type": "code",
      "source": [
        "ann_viz(model, filename='filename.gv')"
      ],
      "metadata": {
        "id": "r2bZBAXfcRga"
      },
      "execution_count": 16,
      "outputs": []
    },
    {
      "cell_type": "code",
      "source": [
        "import graphviz"
      ],
      "metadata": {
        "id": "hau5sFlLc_tA"
      },
      "execution_count": 17,
      "outputs": []
    },
    {
      "cell_type": "code",
      "source": [
        "viz = graphviz.Source.from_file('filename.gv')"
      ],
      "metadata": {
        "id": "-YOb21BKdDJE"
      },
      "execution_count": 18,
      "outputs": []
    },
    {
      "cell_type": "code",
      "source": [
        "viz"
      ],
      "metadata": {
        "colab": {
          "base_uri": "https://localhost:8080/",
          "height": 1000
        },
        "id": "1Umw-0SsdHc1",
        "outputId": "a3d54aeb-91fe-494b-f66a-9abe50f15cb6"
      },
      "execution_count": 19,
      "outputs": [
        {
          "output_type": "execute_result",
          "data": {
            "image/svg+xml": "<?xml version=\"1.0\" encoding=\"UTF-8\" standalone=\"no\"?>\n<!DOCTYPE svg PUBLIC \"-//W3C//DTD SVG 1.1//EN\"\n \"http://www.w3.org/Graphics/SVG/1.1/DTD/svg11.dtd\">\n<!-- Generated by graphviz version 2.43.0 (0)\n -->\n<!-- Title: g Pages: 1 -->\n<svg width=\"1077pt\" height=\"1103pt\"\n viewBox=\"0.00 0.00 1077.00 1102.98\" xmlns=\"http://www.w3.org/2000/svg\" xmlns:xlink=\"http://www.w3.org/1999/xlink\">\n<g id=\"graph0\" class=\"graph\" transform=\"scale(1 1) rotate(0) translate(4 1098.98)\">\n<title>g</title>\n<polygon fill=\"white\" stroke=\"transparent\" points=\"-4,4 -4,-1098.98 1073,-1098.98 1073,4 -4,4\"/>\n<g id=\"clust1\" class=\"cluster\">\n<title>cluster_input</title>\n<polygon fill=\"none\" stroke=\"white\" points=\"22,-945.98 22,-1086.98 1048,-1086.98 1048,-945.98 22,-945.98\"/>\n<text text-anchor=\"middle\" x=\"535\" y=\"-1071.78\" font-family=\"Times,serif\" font-size=\"14.00\">My Neural Network</text>\n<text text-anchor=\"middle\" x=\"535\" y=\"-1008.78\" font-family=\"Times,serif\" font-size=\"14.00\">Input Layer (+3)</text>\n</g>\n<g id=\"clust2\" class=\"cluster\">\n<title>cluster_1</title>\n<polygon fill=\"none\" stroke=\"white\" points=\"8,-739.99 8,-817.98 1061,-817.98 1061,-739.99 8,-739.99\"/>\n<text text-anchor=\"middle\" x=\"1032\" y=\"-747.79\" font-family=\"Times,serif\" font-size=\"14.00\"> (+190)</text>\n</g>\n<g id=\"clust3\" class=\"cluster\">\n<title>cluster_2</title>\n<polygon fill=\"none\" stroke=\"white\" points=\"8,-556.99 8,-634.99 1061,-634.99 1061,-556.99 8,-556.99\"/>\n<text text-anchor=\"middle\" x=\"1032\" y=\"-564.79\" font-family=\"Times,serif\" font-size=\"14.00\"> (+140)</text>\n</g>\n<g id=\"clust4\" class=\"cluster\">\n<title>cluster_3</title>\n<polygon fill=\"none\" stroke=\"white\" points=\"8,-373.99 8,-451.99 1061,-451.99 1061,-373.99 8,-373.99\"/>\n<text text-anchor=\"middle\" x=\"1035.5\" y=\"-381.79\" font-family=\"Times,serif\" font-size=\"14.00\"> (+90)</text>\n</g>\n<g id=\"clust5\" class=\"cluster\">\n<title>cluster_4</title>\n<polygon fill=\"none\" stroke=\"white\" points=\"8,-191 8,-268.99 1061,-268.99 1061,-191 8,-191\"/>\n<text text-anchor=\"middle\" x=\"1035.5\" y=\"-198.8\" font-family=\"Times,serif\" font-size=\"14.00\"> (+40)</text>\n</g>\n<g id=\"clust6\" class=\"cluster\">\n<title>cluster_output</title>\n<polygon fill=\"none\" stroke=\"white\" points=\"490,-8 490,-86 579,-86 579,-8 490,-8\"/>\n<text text-anchor=\"middle\" x=\"534.5\" y=\"-15.8\" font-family=\"Times,serif\" font-size=\"14.00\">Output Layer</text>\n</g>\n<!-- 1 -->\n<g id=\"node1\" class=\"node\">\n<title>1</title>\n<ellipse fill=\"#2ecc71\" stroke=\"#2ecc71\" cx=\"588\" cy=\"-973.48\" rx=\"18\" ry=\"18\"/>\n<text text-anchor=\"middle\" x=\"588\" y=\"-969.78\" font-family=\"Times,serif\" font-size=\"14.00\" fill=\"#2ecc71\">1</text>\n</g>\n<!-- 11 -->\n<g id=\"node11\" class=\"node\">\n<title>11</title>\n<ellipse fill=\"#3498db\" stroke=\"#3498db\" cx=\"146\" cy=\"-790.48\" rx=\"19.5\" ry=\"19.5\"/>\n<text text-anchor=\"middle\" x=\"146\" y=\"-786.78\" font-family=\"Times,serif\" font-size=\"14.00\" fill=\"#3498db\">11</text>\n</g>\n<!-- 1&#45;&gt;11 -->\n<g id=\"edge1\" class=\"edge\">\n<title>1&#45;&gt;11</title>\n<path fill=\"none\" stroke=\"#707070\" d=\"M571.48,-965.72C502.21,-937.35 235.45,-828.11 163.8,-798.77\"/>\n</g>\n<!-- 12 -->\n<g id=\"node12\" class=\"node\">\n<title>12</title>\n<ellipse fill=\"#3498db\" stroke=\"#3498db\" cx=\"35\" cy=\"-790.48\" rx=\"19.5\" ry=\"19.5\"/>\n<text text-anchor=\"middle\" x=\"35\" y=\"-786.78\" font-family=\"Times,serif\" font-size=\"14.00\" fill=\"#3498db\">12</text>\n</g>\n<!-- 1&#45;&gt;12 -->\n<g id=\"edge11\" class=\"edge\">\n<title>1&#45;&gt;12</title>\n<path fill=\"none\" stroke=\"#707070\" d=\"M571.15,-966.97C489.78,-940.33 138.04,-825.21 53.38,-797.5\"/>\n</g>\n<!-- 13 -->\n<g id=\"node13\" class=\"node\">\n<title>13</title>\n<ellipse fill=\"#3498db\" stroke=\"#3498db\" cx=\"1034\" cy=\"-790.48\" rx=\"19.5\" ry=\"19.5\"/>\n<text text-anchor=\"middle\" x=\"1034\" y=\"-786.78\" font-family=\"Times,serif\" font-size=\"14.00\" fill=\"#3498db\">13</text>\n</g>\n<!-- 1&#45;&gt;13 -->\n<g id=\"edge21\" class=\"edge\">\n<title>1&#45;&gt;13</title>\n<path fill=\"none\" stroke=\"#707070\" d=\"M604.4,-965.82C673.87,-937.63 943.56,-828.19 1016,-798.79\"/>\n</g>\n<!-- 14 -->\n<g id=\"node14\" class=\"node\">\n<title>14</title>\n<ellipse fill=\"#3498db\" stroke=\"#3498db\" cx=\"923\" cy=\"-790.48\" rx=\"19.5\" ry=\"19.5\"/>\n<text text-anchor=\"middle\" x=\"923\" y=\"-786.78\" font-family=\"Times,serif\" font-size=\"14.00\" fill=\"#3498db\">14</text>\n</g>\n<!-- 1&#45;&gt;14 -->\n<g id=\"edge31\" class=\"edge\">\n<title>1&#45;&gt;14</title>\n<path fill=\"none\" stroke=\"#707070\" d=\"M603.71,-963.99C659.59,-933.8 848.48,-831.75 906.14,-800.59\"/>\n</g>\n<!-- 15 -->\n<g id=\"node15\" class=\"node\">\n<title>15</title>\n<ellipse fill=\"#3498db\" stroke=\"#3498db\" cx=\"812\" cy=\"-790.48\" rx=\"19.5\" ry=\"19.5\"/>\n<text text-anchor=\"middle\" x=\"812\" y=\"-786.78\" font-family=\"Times,serif\" font-size=\"14.00\" fill=\"#3498db\">15</text>\n</g>\n<!-- 1&#45;&gt;15 -->\n<g id=\"edge41\" class=\"edge\">\n<title>1&#45;&gt;15</title>\n<path fill=\"none\" stroke=\"#707070\" d=\"M601.68,-961.43C641.28,-929.43 755.89,-836.82 797.06,-803.56\"/>\n</g>\n<!-- 16 -->\n<g id=\"node16\" class=\"node\">\n<title>16</title>\n<ellipse fill=\"#3498db\" stroke=\"#3498db\" cx=\"701\" cy=\"-790.48\" rx=\"19.5\" ry=\"19.5\"/>\n<text text-anchor=\"middle\" x=\"701\" y=\"-786.78\" font-family=\"Times,serif\" font-size=\"14.00\" fill=\"#3498db\">16</text>\n</g>\n<!-- 1&#45;&gt;16 -->\n<g id=\"edge51\" class=\"edge\">\n<title>1&#45;&gt;16</title>\n<path fill=\"none\" stroke=\"#707070\" d=\"M597.25,-957.67C618.23,-924.07 669.28,-842.29 690.98,-807.53\"/>\n</g>\n<!-- 17 -->\n<g id=\"node17\" class=\"node\">\n<title>17</title>\n<ellipse fill=\"#3498db\" stroke=\"#3498db\" cx=\"590\" cy=\"-790.48\" rx=\"19.5\" ry=\"19.5\"/>\n<text text-anchor=\"middle\" x=\"590\" y=\"-786.78\" font-family=\"Times,serif\" font-size=\"14.00\" fill=\"#3498db\">17</text>\n</g>\n<!-- 1&#45;&gt;17 -->\n<g id=\"edge61\" class=\"edge\">\n<title>1&#45;&gt;17</title>\n<path fill=\"none\" stroke=\"#707070\" d=\"M588.19,-955.45C588.56,-921.48 589.4,-845.54 589.79,-810.22\"/>\n</g>\n<!-- 18 -->\n<g id=\"node18\" class=\"node\">\n<title>18</title>\n<ellipse fill=\"#3498db\" stroke=\"#3498db\" cx=\"479\" cy=\"-790.48\" rx=\"19.5\" ry=\"19.5\"/>\n<text text-anchor=\"middle\" x=\"479\" y=\"-786.78\" font-family=\"Times,serif\" font-size=\"14.00\" fill=\"#3498db\">18</text>\n</g>\n<!-- 1&#45;&gt;18 -->\n<g id=\"edge71\" class=\"edge\">\n<title>1&#45;&gt;18</title>\n<path fill=\"none\" stroke=\"#707070\" d=\"M579.08,-957.67C558.84,-924.07 509.59,-842.29 488.67,-807.53\"/>\n</g>\n<!-- 19 -->\n<g id=\"node19\" class=\"node\">\n<title>19</title>\n<ellipse fill=\"#3498db\" stroke=\"#3498db\" cx=\"368\" cy=\"-790.48\" rx=\"19.5\" ry=\"19.5\"/>\n<text text-anchor=\"middle\" x=\"368\" y=\"-786.78\" font-family=\"Times,serif\" font-size=\"14.00\" fill=\"#3498db\">19</text>\n</g>\n<!-- 1&#45;&gt;19 -->\n<g id=\"edge81\" class=\"edge\">\n<title>1&#45;&gt;19</title>\n<path fill=\"none\" stroke=\"#707070\" d=\"M574.57,-961.43C535.67,-929.43 423.11,-836.82 382.68,-803.56\"/>\n</g>\n<!-- 20 -->\n<g id=\"node20\" class=\"node\">\n<title>20</title>\n<ellipse fill=\"#3498db\" stroke=\"#3498db\" cx=\"257\" cy=\"-790.48\" rx=\"19.5\" ry=\"19.5\"/>\n<text text-anchor=\"middle\" x=\"257\" y=\"-786.78\" font-family=\"Times,serif\" font-size=\"14.00\" fill=\"#3498db\">20</text>\n</g>\n<!-- 1&#45;&gt;20 -->\n<g id=\"edge91\" class=\"edge\">\n<title>1&#45;&gt;20</title>\n<path fill=\"none\" stroke=\"#707070\" d=\"M572.48,-963.99C517.39,-933.87 331.49,-832.22 274.05,-800.81\"/>\n</g>\n<!-- 2 -->\n<g id=\"node2\" class=\"node\">\n<title>2</title>\n<ellipse fill=\"#2ecc71\" stroke=\"#2ecc71\" cx=\"480\" cy=\"-973.48\" rx=\"18\" ry=\"18\"/>\n<text text-anchor=\"middle\" x=\"480\" y=\"-969.78\" font-family=\"Times,serif\" font-size=\"14.00\" fill=\"#2ecc71\">2</text>\n</g>\n<!-- 2&#45;&gt;11 -->\n<g id=\"edge2\" class=\"edge\">\n<title>2&#45;&gt;11</title>\n<path fill=\"none\" stroke=\"#707070\" d=\"M464.34,-963.99C408.62,-933.8 220.3,-831.75 162.81,-800.59\"/>\n</g>\n<!-- 2&#45;&gt;12 -->\n<g id=\"edge12\" class=\"edge\">\n<title>2&#45;&gt;12</title>\n<path fill=\"none\" stroke=\"#707070\" d=\"M463.63,-965.82C394.33,-937.63 125.24,-828.19 52.96,-798.79\"/>\n</g>\n<!-- 2&#45;&gt;13 -->\n<g id=\"edge22\" class=\"edge\">\n<title>2&#45;&gt;13</title>\n<path fill=\"none\" stroke=\"#707070\" d=\"M496.88,-966.97C578.39,-940.33 930.77,-825.21 1015.59,-797.5\"/>\n</g>\n<!-- 2&#45;&gt;14 -->\n<g id=\"edge32\" class=\"edge\">\n<title>2&#45;&gt;14</title>\n<path fill=\"none\" stroke=\"#707070\" d=\"M496.29,-965.82C565.29,-937.63 833.16,-828.19 905.12,-798.79\"/>\n</g>\n<!-- 2&#45;&gt;15 -->\n<g id=\"edge42\" class=\"edge\">\n<title>2&#45;&gt;15</title>\n<path fill=\"none\" stroke=\"#707070\" d=\"M495.57,-963.99C550.95,-933.8 738.15,-831.75 795.29,-800.59\"/>\n</g>\n<!-- 2&#45;&gt;16 -->\n<g id=\"edge52\" class=\"edge\">\n<title>2&#45;&gt;16</title>\n<path fill=\"none\" stroke=\"#707070\" d=\"M493.49,-961.43C532.57,-929.43 645.64,-836.82 686.26,-803.56\"/>\n</g>\n<!-- 2&#45;&gt;17 -->\n<g id=\"edge62\" class=\"edge\">\n<title>2&#45;&gt;17</title>\n<path fill=\"none\" stroke=\"#707070\" d=\"M489,-957.67C509.42,-924.07 559.13,-842.29 580.25,-807.53\"/>\n</g>\n<!-- 2&#45;&gt;18 -->\n<g id=\"edge72\" class=\"edge\">\n<title>2&#45;&gt;18</title>\n<path fill=\"none\" stroke=\"#707070\" d=\"M479.91,-955.45C479.72,-921.48 479.3,-845.54 479.1,-810.22\"/>\n</g>\n<!-- 2&#45;&gt;19 -->\n<g id=\"edge82\" class=\"edge\">\n<title>2&#45;&gt;19</title>\n<path fill=\"none\" stroke=\"#707070\" d=\"M470.83,-957.67C450.04,-924.07 399.44,-842.29 377.93,-807.53\"/>\n</g>\n<!-- 2&#45;&gt;20 -->\n<g id=\"edge92\" class=\"edge\">\n<title>2&#45;&gt;20</title>\n<path fill=\"none\" stroke=\"#707070\" d=\"M466.39,-961.43C426.95,-929.43 312.86,-836.82 271.88,-803.56\"/>\n</g>\n<!-- 3 -->\n<g id=\"node3\" class=\"node\">\n<title>3</title>\n<ellipse fill=\"#2ecc71\" stroke=\"#2ecc71\" cx=\"372\" cy=\"-973.48\" rx=\"18\" ry=\"18\"/>\n<text text-anchor=\"middle\" x=\"372\" y=\"-969.78\" font-family=\"Times,serif\" font-size=\"14.00\" fill=\"#2ecc71\">3</text>\n</g>\n<!-- 3&#45;&gt;11 -->\n<g id=\"edge3\" class=\"edge\">\n<title>3&#45;&gt;11</title>\n<path fill=\"none\" stroke=\"#707070\" d=\"M358.2,-961.43C318.14,-929.35 202.06,-836.38 160.78,-803.32\"/>\n</g>\n<!-- 3&#45;&gt;12 -->\n<g id=\"edge13\" class=\"edge\">\n<title>3&#45;&gt;12</title>\n<path fill=\"none\" stroke=\"#707070\" d=\"M356.2,-963.99C299.98,-933.8 109.97,-831.75 51.96,-800.59\"/>\n</g>\n<!-- 3&#45;&gt;13 -->\n<g id=\"edge23\" class=\"edge\">\n<title>3&#45;&gt;13</title>\n<path fill=\"none\" stroke=\"#707070\" d=\"M389.37,-967.73C482.19,-942.35 919.13,-822.89 1015.26,-796.61\"/>\n</g>\n<!-- 3&#45;&gt;14 -->\n<g id=\"edge33\" class=\"edge\">\n<title>3&#45;&gt;14</title>\n<path fill=\"none\" stroke=\"#707070\" d=\"M388.79,-966.97C469.86,-940.33 820.33,-825.21 904.69,-797.5\"/>\n</g>\n<!-- 3&#45;&gt;15 -->\n<g id=\"edge43\" class=\"edge\">\n<title>3&#45;&gt;15</title>\n<path fill=\"none\" stroke=\"#707070\" d=\"M388.45,-965.72C457.4,-937.35 722.96,-828.11 794.28,-798.77\"/>\n</g>\n<!-- 3&#45;&gt;16 -->\n<g id=\"edge53\" class=\"edge\">\n<title>3&#45;&gt;16</title>\n<path fill=\"none\" stroke=\"#707070\" d=\"M387.43,-963.99C442.18,-933.87 626.96,-832.22 684.05,-800.81\"/>\n</g>\n<!-- 3&#45;&gt;17 -->\n<g id=\"edge63\" class=\"edge\">\n<title>3&#45;&gt;17</title>\n<path fill=\"none\" stroke=\"#707070\" d=\"M385.64,-961.16C424.41,-928.96 535.09,-837.07 575.23,-803.75\"/>\n</g>\n<!-- 3&#45;&gt;18 -->\n<g id=\"edge73\" class=\"edge\">\n<title>3&#45;&gt;18</title>\n<path fill=\"none\" stroke=\"#707070\" d=\"M380.76,-957.67C400.62,-924.07 448.97,-842.29 469.51,-807.53\"/>\n</g>\n<!-- 3&#45;&gt;19 -->\n<g id=\"edge83\" class=\"edge\">\n<title>3&#45;&gt;19</title>\n<path fill=\"none\" stroke=\"#707070\" d=\"M371.62,-955.45C370.87,-921.48 369.19,-845.54 368.41,-810.22\"/>\n</g>\n<!-- 3&#45;&gt;20 -->\n<g id=\"edge93\" class=\"edge\">\n<title>3&#45;&gt;20</title>\n<path fill=\"none\" stroke=\"#707070\" d=\"M362.78,-957.98C341.52,-924.5 289.15,-842.09 267.08,-807.34\"/>\n</g>\n<!-- 4 -->\n<g id=\"node4\" class=\"node\">\n<title>4</title>\n<ellipse fill=\"#2ecc71\" stroke=\"#2ecc71\" cx=\"264\" cy=\"-973.48\" rx=\"18\" ry=\"18\"/>\n<text text-anchor=\"middle\" x=\"264\" y=\"-969.78\" font-family=\"Times,serif\" font-size=\"14.00\" fill=\"#2ecc71\">4</text>\n</g>\n<!-- 4&#45;&gt;11 -->\n<g id=\"edge4\" class=\"edge\">\n<title>4&#45;&gt;11</title>\n<path fill=\"none\" stroke=\"#707070\" d=\"M254.54,-957.98C232.72,-924.5 178.99,-842.09 156.34,-807.34\"/>\n</g>\n<!-- 4&#45;&gt;12 -->\n<g id=\"edge14\" class=\"edge\">\n<title>4&#45;&gt;12</title>\n<path fill=\"none\" stroke=\"#707070\" d=\"M250.36,-961.7C210.11,-929.89 92.04,-836.57 50.04,-803.37\"/>\n</g>\n<!-- 4&#45;&gt;13 -->\n<g id=\"edge24\" class=\"edge\">\n<title>4&#45;&gt;13</title>\n<path fill=\"none\" stroke=\"#707070\" d=\"M281.53,-968.36C384.39,-944.18 908.69,-820.94 1015.13,-795.92\"/>\n</g>\n<!-- 4&#45;&gt;14 -->\n<g id=\"edge34\" class=\"edge\">\n<title>4&#45;&gt;14</title>\n<path fill=\"none\" stroke=\"#707070\" d=\"M281.29,-967.73C373.69,-942.35 808.65,-822.89 904.35,-796.61\"/>\n</g>\n<!-- 4&#45;&gt;15 -->\n<g id=\"edge44\" class=\"edge\">\n<title>4&#45;&gt;15</title>\n<path fill=\"none\" stroke=\"#707070\" d=\"M281,-966.87C362.12,-940.07 709.33,-825.4 793.54,-797.58\"/>\n</g>\n<!-- 4&#45;&gt;16 -->\n<g id=\"edge54\" class=\"edge\">\n<title>4&#45;&gt;16</title>\n<path fill=\"none\" stroke=\"#707070\" d=\"M280.33,-965.72C348.67,-937.41 611.37,-828.61 682.92,-798.97\"/>\n</g>\n<!-- 4&#45;&gt;17 -->\n<g id=\"edge64\" class=\"edge\">\n<title>4&#45;&gt;17</title>\n<path fill=\"none\" stroke=\"#707070\" d=\"M279.72,-963.75C334.54,-933.32 516.94,-832.05 573.28,-800.77\"/>\n</g>\n<!-- 4&#45;&gt;18 -->\n<g id=\"edge74\" class=\"edge\">\n<title>4&#45;&gt;18</title>\n<path fill=\"none\" stroke=\"#707070\" d=\"M277.45,-961.16C315.69,-928.96 424.85,-837.07 464.43,-803.75\"/>\n</g>\n<!-- 4&#45;&gt;19 -->\n<g id=\"edge84\" class=\"edge\">\n<title>4&#45;&gt;19</title>\n<path fill=\"none\" stroke=\"#707070\" d=\"M272.69,-957.36C292.07,-923.63 338.7,-842.48 358.67,-807.73\"/>\n</g>\n<!-- 4&#45;&gt;20 -->\n<g id=\"edge94\" class=\"edge\">\n<title>4&#45;&gt;20</title>\n<path fill=\"none\" stroke=\"#707070\" d=\"M263.34,-955.45C262.03,-921.48 259.09,-845.54 257.72,-810.22\"/>\n</g>\n<!-- 5 -->\n<g id=\"node5\" class=\"node\">\n<title>5</title>\n<ellipse fill=\"#2ecc71\" stroke=\"#2ecc71\" cx=\"156\" cy=\"-973.48\" rx=\"18\" ry=\"18\"/>\n<text text-anchor=\"middle\" x=\"156\" y=\"-969.78\" font-family=\"Times,serif\" font-size=\"14.00\" fill=\"#2ecc71\">5</text>\n</g>\n<!-- 5&#45;&gt;11 -->\n<g id=\"edge5\" class=\"edge\">\n<title>5&#45;&gt;11</title>\n<path fill=\"none\" stroke=\"#707070\" d=\"M155.06,-955.45C153.18,-921.48 148.99,-845.54 147.03,-810.22\"/>\n</g>\n<!-- 5&#45;&gt;12 -->\n<g id=\"edge15\" class=\"edge\">\n<title>5&#45;&gt;12</title>\n<path fill=\"none\" stroke=\"#707070\" d=\"M146.3,-957.98C123.87,-924.42 68.55,-841.68 45.43,-807.08\"/>\n</g>\n<!-- 5&#45;&gt;13 -->\n<g id=\"edge25\" class=\"edge\">\n<title>5&#45;&gt;13</title>\n<path fill=\"none\" stroke=\"#707070\" d=\"M173.54,-968.87C285.44,-945.8 898.6,-819.4 1014.94,-795.41\"/>\n</g>\n<!-- 5&#45;&gt;14 -->\n<g id=\"edge35\" class=\"edge\">\n<title>5&#45;&gt;14</title>\n<path fill=\"none\" stroke=\"#707070\" d=\"M173.46,-968.36C275.92,-944.18 798.18,-820.94 904.21,-795.92\"/>\n</g>\n<!-- 5&#45;&gt;15 -->\n<g id=\"edge45\" class=\"edge\">\n<title>5&#45;&gt;15</title>\n<path fill=\"none\" stroke=\"#707070\" d=\"M173.21,-967.73C265.19,-942.35 698.17,-822.89 793.43,-796.61\"/>\n</g>\n<!-- 5&#45;&gt;16 -->\n<g id=\"edge55\" class=\"edge\">\n<title>5&#45;&gt;16</title>\n<path fill=\"none\" stroke=\"#707070\" d=\"M172.91,-966.87C253.58,-940.07 598.89,-825.4 682.65,-797.58\"/>\n</g>\n<!-- 5&#45;&gt;17 -->\n<g id=\"edge65\" class=\"edge\">\n<title>5&#45;&gt;17</title>\n<path fill=\"none\" stroke=\"#707070\" d=\"M172.48,-965.61C240.77,-937.13 501.17,-828.53 572.08,-798.96\"/>\n</g>\n<!-- 5&#45;&gt;18 -->\n<g id=\"edge75\" class=\"edge\">\n<title>5&#45;&gt;18</title>\n<path fill=\"none\" stroke=\"#707070\" d=\"M171.58,-963.75C225.89,-933.32 406.61,-832.05 462.43,-800.77\"/>\n</g>\n<!-- 5&#45;&gt;19 -->\n<g id=\"edge85\" class=\"edge\">\n<title>5&#45;&gt;19</title>\n<path fill=\"none\" stroke=\"#707070\" d=\"M169.26,-961.16C206.97,-928.96 314.6,-837.07 353.64,-803.75\"/>\n</g>\n<!-- 5&#45;&gt;20 -->\n<g id=\"edge95\" class=\"edge\">\n<title>5&#45;&gt;20</title>\n<path fill=\"none\" stroke=\"#707070\" d=\"M164.44,-957.36C183.21,-923.72 228.32,-842.89 247.79,-807.99\"/>\n</g>\n<!-- 6 -->\n<g id=\"node6\" class=\"node\">\n<title>6</title>\n<ellipse fill=\"#2ecc71\" stroke=\"#2ecc71\" cx=\"48\" cy=\"-973.48\" rx=\"18\" ry=\"18\"/>\n<text text-anchor=\"middle\" x=\"48\" y=\"-969.78\" font-family=\"Times,serif\" font-size=\"14.00\" fill=\"#2ecc71\">6</text>\n</g>\n<!-- 6&#45;&gt;11 -->\n<g id=\"edge6\" class=\"edge\">\n<title>6&#45;&gt;11</title>\n<path fill=\"none\" stroke=\"#707070\" d=\"M56.19,-957.36C74.4,-923.72 118.17,-842.89 137.06,-807.99\"/>\n</g>\n<!-- 6&#45;&gt;12 -->\n<g id=\"edge16\" class=\"edge\">\n<title>6&#45;&gt;12</title>\n<path fill=\"none\" stroke=\"#707070\" d=\"M46.78,-955.45C44.33,-921.4 38.85,-845.14 36.33,-809.94\"/>\n</g>\n<!-- 6&#45;&gt;13 -->\n<g id=\"edge26\" class=\"edge\">\n<title>6&#45;&gt;13</title>\n<path fill=\"none\" stroke=\"#707070\" d=\"M65.53,-969.26C185.93,-947.16 889.43,-818.02 1014.87,-795\"/>\n</g>\n<!-- 6&#45;&gt;14 -->\n<g id=\"edge36\" class=\"edge\">\n<title>6&#45;&gt;14</title>\n<path fill=\"none\" stroke=\"#707070\" d=\"M65.48,-968.87C177,-945.8 788.06,-819.4 904.01,-795.41\"/>\n</g>\n<!-- 6&#45;&gt;15 -->\n<g id=\"edge46\" class=\"edge\">\n<title>6&#45;&gt;15</title>\n<path fill=\"none\" stroke=\"#707070\" d=\"M65.39,-968.36C167.34,-944.21 686.54,-821.21 792.93,-796\"/>\n</g>\n<!-- 6&#45;&gt;16 -->\n<g id=\"edge56\" class=\"edge\">\n<title>6&#45;&gt;16</title>\n<path fill=\"none\" stroke=\"#707070\" d=\"M65.13,-967.73C156.59,-942.38 586.74,-823.15 682.2,-796.69\"/>\n</g>\n<!-- 6&#45;&gt;17 -->\n<g id=\"edge66\" class=\"edge\">\n<title>6&#45;&gt;17</title>\n<path fill=\"none\" stroke=\"#707070\" d=\"M64.82,-966.87C145.04,-940.07 488.45,-825.4 571.75,-797.58\"/>\n</g>\n<!-- 6&#45;&gt;18 -->\n<g id=\"edge76\" class=\"edge\">\n<title>6&#45;&gt;18</title>\n<path fill=\"none\" stroke=\"#707070\" d=\"M64.37,-965.61C132.18,-937.13 390.78,-828.53 461.2,-798.96\"/>\n</g>\n<!-- 6&#45;&gt;19 -->\n<g id=\"edge86\" class=\"edge\">\n<title>6&#45;&gt;19</title>\n<path fill=\"none\" stroke=\"#707070\" d=\"M63.43,-963.75C117.12,-933.39 295.45,-832.52 351.2,-800.99\"/>\n</g>\n<!-- 6&#45;&gt;20 -->\n<g id=\"edge96\" class=\"edge\">\n<title>6&#45;&gt;20</title>\n<path fill=\"none\" stroke=\"#707070\" d=\"M61.39,-960.88C98.78,-928.5 204.07,-837.32 242.62,-803.93\"/>\n</g>\n<!-- 7 -->\n<g id=\"node7\" class=\"node\">\n<title>7</title>\n<ellipse fill=\"#2ecc71\" stroke=\"#2ecc71\" cx=\"1022\" cy=\"-973.48\" rx=\"18\" ry=\"18\"/>\n<text text-anchor=\"middle\" x=\"1022\" y=\"-969.78\" font-family=\"Times,serif\" font-size=\"14.00\" fill=\"#2ecc71\">7</text>\n</g>\n<!-- 7&#45;&gt;11 -->\n<g id=\"edge7\" class=\"edge\">\n<title>7&#45;&gt;11</title>\n<path fill=\"none\" stroke=\"#707070\" d=\"M1004.5,-968.87C892.85,-945.8 281.09,-819.4 165.02,-795.41\"/>\n</g>\n<!-- 7&#45;&gt;12 -->\n<g id=\"edge17\" class=\"edge\">\n<title>7&#45;&gt;12</title>\n<path fill=\"none\" stroke=\"#707070\" d=\"M1004.45,-969.26C883.93,-947.16 179.72,-818.02 54.15,-795\"/>\n</g>\n<!-- 7&#45;&gt;13 -->\n<g id=\"edge27\" class=\"edge\">\n<title>7&#45;&gt;13</title>\n<path fill=\"none\" stroke=\"#707070\" d=\"M1023.13,-955.45C1025.38,-921.48 1030.42,-845.54 1032.76,-810.22\"/>\n</g>\n<!-- 7&#45;&gt;14 -->\n<g id=\"edge37\" class=\"edge\">\n<title>7&#45;&gt;14</title>\n<path fill=\"none\" stroke=\"#707070\" d=\"M1013.73,-957.36C995.33,-923.72 951.12,-842.89 932.03,-807.99\"/>\n</g>\n<!-- 7&#45;&gt;15 -->\n<g id=\"edge47\" class=\"edge\">\n<title>7&#45;&gt;15</title>\n<path fill=\"none\" stroke=\"#707070\" d=\"M1008.86,-961.16C971.6,-929.04 865.41,-837.52 826.51,-803.99\"/>\n</g>\n<!-- 7&#45;&gt;16 -->\n<g id=\"edge57\" class=\"edge\">\n<title>7&#45;&gt;16</title>\n<path fill=\"none\" stroke=\"#707070\" d=\"M1006.52,-963.75C952.67,-933.39 773.78,-832.52 717.86,-800.99\"/>\n</g>\n<!-- 7&#45;&gt;17 -->\n<g id=\"edge67\" class=\"edge\">\n<title>7&#45;&gt;17</title>\n<path fill=\"none\" stroke=\"#707070\" d=\"M1005.59,-965.61C937.63,-937.13 678.42,-828.53 607.84,-798.96\"/>\n</g>\n<!-- 7&#45;&gt;18 -->\n<g id=\"edge77\" class=\"edge\">\n<title>7&#45;&gt;18</title>\n<path fill=\"none\" stroke=\"#707070\" d=\"M1005.15,-966.87C924.78,-940.07 580.74,-825.4 497.29,-797.58\"/>\n</g>\n<!-- 7&#45;&gt;19 -->\n<g id=\"edge87\" class=\"edge\">\n<title>7&#45;&gt;19</title>\n<path fill=\"none\" stroke=\"#707070\" d=\"M1004.84,-967.73C913.14,-942.35 481.49,-822.89 386.51,-796.61\"/>\n</g>\n<!-- 7&#45;&gt;20 -->\n<g id=\"edge97\" class=\"edge\">\n<title>7&#45;&gt;20</title>\n<path fill=\"none\" stroke=\"#707070\" d=\"M1004.58,-968.36C902.39,-944.18 381.5,-820.94 275.75,-795.92\"/>\n</g>\n<!-- 8 -->\n<g id=\"node8\" class=\"node\">\n<title>8</title>\n<ellipse fill=\"#2ecc71\" stroke=\"#2ecc71\" cx=\"914\" cy=\"-973.48\" rx=\"18\" ry=\"18\"/>\n<text text-anchor=\"middle\" x=\"914\" y=\"-969.78\" font-family=\"Times,serif\" font-size=\"14.00\" fill=\"#2ecc71\">8</text>\n</g>\n<!-- 8&#45;&gt;11 -->\n<g id=\"edge8\" class=\"edge\">\n<title>8&#45;&gt;11</title>\n<path fill=\"none\" stroke=\"#707070\" d=\"M896.52,-968.36C793.92,-944.18 270.98,-820.94 164.82,-795.92\"/>\n</g>\n<!-- 8&#45;&gt;12 -->\n<g id=\"edge18\" class=\"edge\">\n<title>8&#45;&gt;12</title>\n<path fill=\"none\" stroke=\"#707070\" d=\"M896.44,-968.87C784.41,-945.8 170.55,-819.4 54.08,-795.41\"/>\n</g>\n<!-- 8&#45;&gt;13 -->\n<g id=\"edge28\" class=\"edge\">\n<title>8&#45;&gt;13</title>\n<path fill=\"none\" stroke=\"#707070\" d=\"M923.62,-957.98C945.86,-924.42 1000.72,-841.68 1023.66,-807.08\"/>\n</g>\n<!-- 8&#45;&gt;14 -->\n<g id=\"edge38\" class=\"edge\">\n<title>8&#45;&gt;14</title>\n<path fill=\"none\" stroke=\"#707070\" d=\"M914.85,-955.45C916.54,-921.48 920.31,-845.54 922.07,-810.22\"/>\n</g>\n<!-- 8&#45;&gt;15 -->\n<g id=\"edge48\" class=\"edge\">\n<title>8&#45;&gt;15</title>\n<path fill=\"none\" stroke=\"#707070\" d=\"M905.48,-957.36C886.47,-923.63 840.74,-842.48 821.15,-807.73\"/>\n</g>\n<!-- 8&#45;&gt;16 -->\n<g id=\"edge58\" class=\"edge\">\n<title>8&#45;&gt;16</title>\n<path fill=\"none\" stroke=\"#707070\" d=\"M900.68,-961.16C862.79,-928.96 754.65,-837.07 715.43,-803.75\"/>\n</g>\n<!-- 8&#45;&gt;17 -->\n<g id=\"edge68\" class=\"edge\">\n<title>8&#45;&gt;17</title>\n<path fill=\"none\" stroke=\"#707070\" d=\"M898.37,-963.75C843.89,-933.32 662.61,-832.05 606.62,-800.77\"/>\n</g>\n<!-- 8&#45;&gt;18 -->\n<g id=\"edge78\" class=\"edge\">\n<title>8&#45;&gt;18</title>\n<path fill=\"none\" stroke=\"#707070\" d=\"M897.74,-965.72C829.72,-937.41 568.22,-828.61 497,-798.97\"/>\n</g>\n<!-- 8&#45;&gt;19 -->\n<g id=\"edge88\" class=\"edge\">\n<title>8&#45;&gt;19</title>\n<path fill=\"none\" stroke=\"#707070\" d=\"M897.06,-966.87C816.24,-940.07 470.3,-825.4 386.39,-797.58\"/>\n</g>\n<!-- 8&#45;&gt;20 -->\n<g id=\"edge98\" class=\"edge\">\n<title>8&#45;&gt;20</title>\n<path fill=\"none\" stroke=\"#707070\" d=\"M896.76,-967.73C804.64,-942.35 371.01,-822.89 275.6,-796.61\"/>\n</g>\n<!-- 9 -->\n<g id=\"node9\" class=\"node\">\n<title>9</title>\n<ellipse fill=\"#2ecc71\" stroke=\"#2ecc71\" cx=\"806\" cy=\"-973.48\" rx=\"18\" ry=\"18\"/>\n<text text-anchor=\"middle\" x=\"806\" y=\"-969.78\" font-family=\"Times,serif\" font-size=\"14.00\" fill=\"#2ecc71\">9</text>\n</g>\n<!-- 9&#45;&gt;11 -->\n<g id=\"edge9\" class=\"edge\">\n<title>9&#45;&gt;11</title>\n<path fill=\"none\" stroke=\"#707070\" d=\"M788.69,-967.73C696.14,-942.35 260.53,-822.89 164.68,-796.61\"/>\n</g>\n<!-- 9&#45;&gt;12 -->\n<g id=\"edge19\" class=\"edge\">\n<title>9&#45;&gt;12</title>\n<path fill=\"none\" stroke=\"#707070\" d=\"M788.45,-968.36C685.45,-944.18 160.47,-820.94 53.89,-795.92\"/>\n</g>\n<!-- 9&#45;&gt;13 -->\n<g id=\"edge29\" class=\"edge\">\n<title>9&#45;&gt;13</title>\n<path fill=\"none\" stroke=\"#707070\" d=\"M819.92,-961.43C860.33,-929.35 977.45,-836.38 1019.09,-803.32\"/>\n</g>\n<!-- 9&#45;&gt;14 -->\n<g id=\"edge39\" class=\"edge\">\n<title>9&#45;&gt;14</title>\n<path fill=\"none\" stroke=\"#707070\" d=\"M815.38,-957.98C837.01,-924.5 890.29,-842.09 912.75,-807.34\"/>\n</g>\n<!-- 9&#45;&gt;15 -->\n<g id=\"edge49\" class=\"edge\">\n<title>9&#45;&gt;15</title>\n<path fill=\"none\" stroke=\"#707070\" d=\"M806.56,-955.45C807.69,-921.48 810.21,-845.54 811.38,-810.22\"/>\n</g>\n<!-- 9&#45;&gt;16 -->\n<g id=\"edge59\" class=\"edge\">\n<title>9&#45;&gt;16</title>\n<path fill=\"none\" stroke=\"#707070\" d=\"M797.23,-957.36C777.66,-923.63 730.58,-842.48 710.42,-807.73\"/>\n</g>\n<!-- 9&#45;&gt;17 -->\n<g id=\"edge69\" class=\"edge\">\n<title>9&#45;&gt;17</title>\n<path fill=\"none\" stroke=\"#707070\" d=\"M792.49,-961.16C754.07,-928.96 644.41,-837.07 604.63,-803.75\"/>\n</g>\n<!-- 9&#45;&gt;18 -->\n<g id=\"edge79\" class=\"edge\">\n<title>9&#45;&gt;18</title>\n<path fill=\"none\" stroke=\"#707070\" d=\"M790.67,-963.99C736.25,-933.87 552.59,-832.22 495.85,-800.81\"/>\n</g>\n<!-- 9&#45;&gt;19 -->\n<g id=\"edge89\" class=\"edge\">\n<title>9&#45;&gt;19</title>\n<path fill=\"none\" stroke=\"#707070\" d=\"M789.63,-965.72C721.14,-937.41 457.83,-828.61 386.12,-798.97\"/>\n</g>\n<!-- 9&#45;&gt;20 -->\n<g id=\"edge99\" class=\"edge\">\n<title>9&#45;&gt;20</title>\n<path fill=\"none\" stroke=\"#707070\" d=\"M788.97,-966.87C707.61,-940.04 359.09,-825.14 275.21,-797.49\"/>\n</g>\n<!-- 10 -->\n<g id=\"node10\" class=\"node\">\n<title>10</title>\n<ellipse fill=\"#2ecc71\" stroke=\"#2ecc71\" cx=\"697\" cy=\"-973.48\" rx=\"19.5\" ry=\"19.5\"/>\n<text text-anchor=\"middle\" x=\"697\" y=\"-969.78\" font-family=\"Times,serif\" font-size=\"14.00\" fill=\"#2ecc71\">10</text>\n</g>\n<!-- 10&#45;&gt;11 -->\n<g id=\"edge10\" class=\"edge\">\n<title>10&#45;&gt;11</title>\n<path fill=\"none\" stroke=\"#707070\" d=\"M678.67,-966.46C594.82,-938.92 248.39,-825.12 164.4,-797.53\"/>\n</g>\n<!-- 10&#45;&gt;12 -->\n<g id=\"edge20\" class=\"edge\">\n<title>10&#45;&gt;12</title>\n<path fill=\"none\" stroke=\"#707070\" d=\"M678.25,-967.36C582.52,-941.18 148.94,-822.64 53.58,-796.57\"/>\n</g>\n<!-- 10&#45;&gt;13 -->\n<g id=\"edge30\" class=\"edge\">\n<title>10&#45;&gt;13</title>\n<path fill=\"none\" stroke=\"#707070\" d=\"M714.18,-963.26C771.98,-932.21 959.1,-831.71 1016.86,-800.69\"/>\n</g>\n<!-- 10&#45;&gt;14 -->\n<g id=\"edge40\" class=\"edge\">\n<title>10&#45;&gt;14</title>\n<path fill=\"none\" stroke=\"#707070\" d=\"M711.83,-960.61C752.78,-927.81 867.1,-836.25 908.12,-803.4\"/>\n</g>\n<!-- 10&#45;&gt;15 -->\n<g id=\"edge50\" class=\"edge\">\n<title>10&#45;&gt;15</title>\n<path fill=\"none\" stroke=\"#707070\" d=\"M707,-956.74C728.75,-922.5 780.13,-841.64 801.94,-807.32\"/>\n</g>\n<!-- 10&#45;&gt;16 -->\n<g id=\"edge60\" class=\"edge\">\n<title>10&#45;&gt;16</title>\n<path fill=\"none\" stroke=\"#707070\" d=\"M697.41,-953.79C698.18,-919.02 699.82,-844.77 700.59,-810.07\"/>\n</g>\n<!-- 10&#45;&gt;17 -->\n<g id=\"edge70\" class=\"edge\">\n<title>10&#45;&gt;17</title>\n<path fill=\"none\" stroke=\"#707070\" d=\"M687.5,-956.42C667.25,-922.16 620,-842.23 599.63,-807.77\"/>\n</g>\n<!-- 10&#45;&gt;18 -->\n<g id=\"edge80\" class=\"edge\">\n<title>10&#45;&gt;18</title>\n<path fill=\"none\" stroke=\"#707070\" d=\"M682.36,-960.32C642.64,-927.35 533.22,-836.5 493.58,-803.59\"/>\n</g>\n<!-- 10&#45;&gt;19 -->\n<g id=\"edge90\" class=\"edge\">\n<title>10&#45;&gt;19</title>\n<path fill=\"none\" stroke=\"#707070\" d=\"M680.23,-963.26C623.8,-932.21 441.12,-831.71 384.73,-800.69\"/>\n</g>\n<!-- 10&#45;&gt;20 -->\n<g id=\"edge100\" class=\"edge\">\n<title>10&#45;&gt;20</title>\n<path fill=\"none\" stroke=\"#707070\" d=\"M679.21,-965.16C608.3,-936 346.31,-828.22 275.01,-798.89\"/>\n</g>\n<!-- 21 -->\n<g id=\"node21\" class=\"node\">\n<title>21</title>\n<ellipse fill=\"#3498db\" stroke=\"#3498db\" cx=\"146\" cy=\"-607.49\" rx=\"19.5\" ry=\"19.5\"/>\n<text text-anchor=\"middle\" x=\"146\" y=\"-603.79\" font-family=\"Times,serif\" font-size=\"14.00\" fill=\"#3498db\">21</text>\n</g>\n<!-- 11&#45;&gt;21 -->\n<g id=\"edge101\" class=\"edge\">\n<title>11&#45;&gt;21</title>\n<path fill=\"none\" stroke=\"#707070\" d=\"M146,-770.8C146,-736.02 146,-661.77 146,-627.07\"/>\n</g>\n<!-- 22 -->\n<g id=\"node22\" class=\"node\">\n<title>22</title>\n<ellipse fill=\"#3498db\" stroke=\"#3498db\" cx=\"35\" cy=\"-607.49\" rx=\"19.5\" ry=\"19.5\"/>\n<text text-anchor=\"middle\" x=\"35\" y=\"-603.79\" font-family=\"Times,serif\" font-size=\"14.00\" fill=\"#3498db\">22</text>\n</g>\n<!-- 11&#45;&gt;22 -->\n<g id=\"edge111\" class=\"edge\">\n<title>11&#45;&gt;22</title>\n<path fill=\"none\" stroke=\"#707070\" d=\"M136.15,-773.42C115.09,-739.07 65.87,-658.83 44.83,-624.51\"/>\n</g>\n<!-- 23 -->\n<g id=\"node23\" class=\"node\">\n<title>23</title>\n<ellipse fill=\"#3498db\" stroke=\"#3498db\" cx=\"1034\" cy=\"-607.49\" rx=\"19.5\" ry=\"19.5\"/>\n<text text-anchor=\"middle\" x=\"1034\" y=\"-603.79\" font-family=\"Times,serif\" font-size=\"14.00\" fill=\"#3498db\">23</text>\n</g>\n<!-- 11&#45;&gt;23 -->\n<g id=\"edge121\" class=\"edge\">\n<title>11&#45;&gt;23</title>\n<path fill=\"none\" stroke=\"#707070\" d=\"M164.96,-785.62C281.34,-761.9 897.89,-636.23 1014.84,-612.39\"/>\n</g>\n<!-- 24 -->\n<g id=\"node24\" class=\"node\">\n<title>24</title>\n<ellipse fill=\"#3498db\" stroke=\"#3498db\" cx=\"923\" cy=\"-607.49\" rx=\"19.5\" ry=\"19.5\"/>\n<text text-anchor=\"middle\" x=\"923\" y=\"-603.79\" font-family=\"Times,serif\" font-size=\"14.00\" fill=\"#3498db\">24</text>\n</g>\n<!-- 11&#45;&gt;24 -->\n<g id=\"edge131\" class=\"edge\">\n<title>11&#45;&gt;24</title>\n<path fill=\"none\" stroke=\"#707070\" d=\"M164.82,-785.1C271.32,-760.29 797.33,-637.76 904.08,-612.9\"/>\n</g>\n<!-- 25 -->\n<g id=\"node25\" class=\"node\">\n<title>25</title>\n<ellipse fill=\"#3498db\" stroke=\"#3498db\" cx=\"812\" cy=\"-607.49\" rx=\"19.5\" ry=\"19.5\"/>\n<text text-anchor=\"middle\" x=\"812\" y=\"-603.79\" font-family=\"Times,serif\" font-size=\"14.00\" fill=\"#3498db\">25</text>\n</g>\n<!-- 11&#45;&gt;25 -->\n<g id=\"edge141\" class=\"edge\">\n<title>11&#45;&gt;25</title>\n<path fill=\"none\" stroke=\"#707070\" d=\"M164.86,-784.36C261.18,-758.18 697.38,-639.64 793.31,-613.57\"/>\n</g>\n<!-- 26 -->\n<g id=\"node26\" class=\"node\">\n<title>26</title>\n<ellipse fill=\"#3498db\" stroke=\"#3498db\" cx=\"701\" cy=\"-607.49\" rx=\"19.5\" ry=\"19.5\"/>\n<text text-anchor=\"middle\" x=\"701\" y=\"-603.79\" font-family=\"Times,serif\" font-size=\"14.00\" fill=\"#3498db\">26</text>\n</g>\n<!-- 11&#45;&gt;26 -->\n<g id=\"edge151\" class=\"edge\">\n<title>11&#45;&gt;26</title>\n<path fill=\"none\" stroke=\"#707070\" d=\"M164.47,-783.46C249.01,-755.89 598.65,-641.87 682.75,-614.44\"/>\n</g>\n<!-- 27 -->\n<g id=\"node27\" class=\"node\">\n<title>27</title>\n<ellipse fill=\"#3498db\" stroke=\"#3498db\" cx=\"590\" cy=\"-607.49\" rx=\"19.5\" ry=\"19.5\"/>\n<text text-anchor=\"middle\" x=\"590\" y=\"-603.79\" font-family=\"Times,serif\" font-size=\"14.00\" fill=\"#3498db\">27</text>\n</g>\n<!-- 11&#45;&gt;27 -->\n<g id=\"edge161\" class=\"edge\">\n<title>11&#45;&gt;27</title>\n<path fill=\"none\" stroke=\"#707070\" d=\"M163.96,-782.16C235.66,-752.93 501.07,-644.74 572.31,-615.7\"/>\n</g>\n<!-- 28 -->\n<g id=\"node28\" class=\"node\">\n<title>28</title>\n<ellipse fill=\"#3498db\" stroke=\"#3498db\" cx=\"479\" cy=\"-607.49\" rx=\"19.5\" ry=\"19.5\"/>\n<text text-anchor=\"middle\" x=\"479\" y=\"-603.79\" font-family=\"Times,serif\" font-size=\"14.00\" fill=\"#3498db\">28</text>\n</g>\n<!-- 11&#45;&gt;28 -->\n<g id=\"edge171\" class=\"edge\">\n<title>11&#45;&gt;28</title>\n<path fill=\"none\" stroke=\"#707070\" d=\"M162.97,-780.26C220.09,-749.21 404.99,-648.71 462.06,-617.69\"/>\n</g>\n<!-- 29 -->\n<g id=\"node29\" class=\"node\">\n<title>29</title>\n<ellipse fill=\"#3498db\" stroke=\"#3498db\" cx=\"368\" cy=\"-607.49\" rx=\"19.5\" ry=\"19.5\"/>\n<text text-anchor=\"middle\" x=\"368\" y=\"-603.79\" font-family=\"Times,serif\" font-size=\"14.00\" fill=\"#3498db\">29</text>\n</g>\n<!-- 11&#45;&gt;29 -->\n<g id=\"edge181\" class=\"edge\">\n<title>11&#45;&gt;29</title>\n<path fill=\"none\" stroke=\"#707070\" d=\"M160.91,-777.33C201.35,-744.36 312.79,-653.5 353.15,-620.59\"/>\n</g>\n<!-- 30 -->\n<g id=\"node30\" class=\"node\">\n<title>30</title>\n<ellipse fill=\"#3498db\" stroke=\"#3498db\" cx=\"257\" cy=\"-607.49\" rx=\"19.5\" ry=\"19.5\"/>\n<text text-anchor=\"middle\" x=\"257\" y=\"-603.79\" font-family=\"Times,serif\" font-size=\"14.00\" fill=\"#3498db\">30</text>\n</g>\n<!-- 11&#45;&gt;30 -->\n<g id=\"edge191\" class=\"edge\">\n<title>11&#45;&gt;30</title>\n<path fill=\"none\" stroke=\"#707070\" d=\"M155.85,-773.42C176.91,-739.07 226.13,-658.83 247.17,-624.51\"/>\n</g>\n<!-- 12&#45;&gt;21 -->\n<g id=\"edge102\" class=\"edge\">\n<title>12&#45;&gt;21</title>\n<path fill=\"none\" stroke=\"#707070\" d=\"M44.85,-773.42C65.91,-739.07 115.13,-658.83 136.17,-624.51\"/>\n</g>\n<!-- 12&#45;&gt;22 -->\n<g id=\"edge112\" class=\"edge\">\n<title>12&#45;&gt;22</title>\n<path fill=\"none\" stroke=\"#707070\" d=\"M35,-770.8C35,-736.02 35,-661.77 35,-627.07\"/>\n</g>\n<!-- 12&#45;&gt;23 -->\n<g id=\"edge122\" class=\"edge\">\n<title>12&#45;&gt;23</title>\n<path fill=\"none\" stroke=\"#707070\" d=\"M54.06,-786.03C179.77,-763.26 888.42,-634.86 1014.74,-611.98\"/>\n</g>\n<!-- 12&#45;&gt;24 -->\n<g id=\"edge132\" class=\"edge\">\n<title>12&#45;&gt;24</title>\n<path fill=\"none\" stroke=\"#707070\" d=\"M53.96,-785.62C170.34,-761.9 786.89,-636.23 903.84,-612.39\"/>\n</g>\n<!-- 12&#45;&gt;25 -->\n<g id=\"edge142\" class=\"edge\">\n<title>12&#45;&gt;25</title>\n<path fill=\"none\" stroke=\"#707070\" d=\"M53.82,-785.1C160.32,-760.29 686.33,-637.76 793.08,-612.9\"/>\n</g>\n<!-- 12&#45;&gt;26 -->\n<g id=\"edge152\" class=\"edge\">\n<title>12&#45;&gt;26</title>\n<path fill=\"none\" stroke=\"#707070\" d=\"M53.86,-784.36C150.18,-758.18 586.38,-639.64 682.31,-613.57\"/>\n</g>\n<!-- 12&#45;&gt;27 -->\n<g id=\"edge162\" class=\"edge\">\n<title>12&#45;&gt;27</title>\n<path fill=\"none\" stroke=\"#707070\" d=\"M53.47,-783.46C138.01,-755.89 487.65,-641.87 571.75,-614.44\"/>\n</g>\n<!-- 12&#45;&gt;28 -->\n<g id=\"edge172\" class=\"edge\">\n<title>12&#45;&gt;28</title>\n<path fill=\"none\" stroke=\"#707070\" d=\"M52.96,-782.16C124.66,-752.93 390.07,-644.74 461.31,-615.7\"/>\n</g>\n<!-- 12&#45;&gt;29 -->\n<g id=\"edge182\" class=\"edge\">\n<title>12&#45;&gt;29</title>\n<path fill=\"none\" stroke=\"#707070\" d=\"M51.97,-780.26C109.09,-749.21 293.99,-648.71 351.06,-617.69\"/>\n</g>\n<!-- 12&#45;&gt;30 -->\n<g id=\"edge192\" class=\"edge\">\n<title>12&#45;&gt;30</title>\n<path fill=\"none\" stroke=\"#707070\" d=\"M49.91,-777.33C90.35,-744.36 201.79,-653.5 242.15,-620.59\"/>\n</g>\n<!-- 13&#45;&gt;21 -->\n<g id=\"edge103\" class=\"edge\">\n<title>13&#45;&gt;21</title>\n<path fill=\"none\" stroke=\"#707070\" d=\"M1015.04,-785.62C898.66,-761.9 282.11,-636.23 165.16,-612.39\"/>\n</g>\n<!-- 13&#45;&gt;22 -->\n<g id=\"edge113\" class=\"edge\">\n<title>13&#45;&gt;22</title>\n<path fill=\"none\" stroke=\"#707070\" d=\"M1014.94,-786.03C889.23,-763.26 180.58,-634.86 54.26,-611.98\"/>\n</g>\n<!-- 13&#45;&gt;23 -->\n<g id=\"edge123\" class=\"edge\">\n<title>13&#45;&gt;23</title>\n<path fill=\"none\" stroke=\"#707070\" d=\"M1034,-770.8C1034,-736.02 1034,-661.77 1034,-627.07\"/>\n</g>\n<!-- 13&#45;&gt;24 -->\n<g id=\"edge133\" class=\"edge\">\n<title>13&#45;&gt;24</title>\n<path fill=\"none\" stroke=\"#707070\" d=\"M1024.15,-773.42C1003.09,-739.07 953.87,-658.83 932.83,-624.51\"/>\n</g>\n<!-- 13&#45;&gt;25 -->\n<g id=\"edge143\" class=\"edge\">\n<title>13&#45;&gt;25</title>\n<path fill=\"none\" stroke=\"#707070\" d=\"M1019.09,-777.33C978.65,-744.36 867.21,-653.5 826.85,-620.59\"/>\n</g>\n<!-- 13&#45;&gt;26 -->\n<g id=\"edge153\" class=\"edge\">\n<title>13&#45;&gt;26</title>\n<path fill=\"none\" stroke=\"#707070\" d=\"M1017.03,-780.26C959.91,-749.21 775.01,-648.71 717.94,-617.69\"/>\n</g>\n<!-- 13&#45;&gt;27 -->\n<g id=\"edge163\" class=\"edge\">\n<title>13&#45;&gt;27</title>\n<path fill=\"none\" stroke=\"#707070\" d=\"M1016.04,-782.16C944.34,-752.93 678.93,-644.74 607.69,-615.7\"/>\n</g>\n<!-- 13&#45;&gt;28 -->\n<g id=\"edge173\" class=\"edge\">\n<title>13&#45;&gt;28</title>\n<path fill=\"none\" stroke=\"#707070\" d=\"M1015.53,-783.46C930.99,-755.89 581.35,-641.87 497.25,-614.44\"/>\n</g>\n<!-- 13&#45;&gt;29 -->\n<g id=\"edge183\" class=\"edge\">\n<title>13&#45;&gt;29</title>\n<path fill=\"none\" stroke=\"#707070\" d=\"M1015.14,-784.36C918.82,-758.18 482.62,-639.64 386.69,-613.57\"/>\n</g>\n<!-- 13&#45;&gt;30 -->\n<g id=\"edge193\" class=\"edge\">\n<title>13&#45;&gt;30</title>\n<path fill=\"none\" stroke=\"#707070\" d=\"M1015.18,-785.1C908.68,-760.29 382.67,-637.76 275.92,-612.9\"/>\n</g>\n<!-- 14&#45;&gt;21 -->\n<g id=\"edge104\" class=\"edge\">\n<title>14&#45;&gt;21</title>\n<path fill=\"none\" stroke=\"#707070\" d=\"M904.18,-785.1C797.68,-760.29 271.67,-637.76 164.92,-612.9\"/>\n</g>\n<!-- 14&#45;&gt;22 -->\n<g id=\"edge114\" class=\"edge\">\n<title>14&#45;&gt;22</title>\n<path fill=\"none\" stroke=\"#707070\" d=\"M904.04,-785.62C787.66,-761.9 171.11,-636.23 54.16,-612.39\"/>\n</g>\n<!-- 14&#45;&gt;23 -->\n<g id=\"edge124\" class=\"edge\">\n<title>14&#45;&gt;23</title>\n<path fill=\"none\" stroke=\"#707070\" d=\"M932.85,-773.42C953.91,-739.07 1003.13,-658.83 1024.17,-624.51\"/>\n</g>\n<!-- 14&#45;&gt;24 -->\n<g id=\"edge134\" class=\"edge\">\n<title>14&#45;&gt;24</title>\n<path fill=\"none\" stroke=\"#707070\" d=\"M923,-770.8C923,-736.02 923,-661.77 923,-627.07\"/>\n</g>\n<!-- 14&#45;&gt;25 -->\n<g id=\"edge144\" class=\"edge\">\n<title>14&#45;&gt;25</title>\n<path fill=\"none\" stroke=\"#707070\" d=\"M913.15,-773.42C892.09,-739.07 842.87,-658.83 821.83,-624.51\"/>\n</g>\n<!-- 14&#45;&gt;26 -->\n<g id=\"edge154\" class=\"edge\">\n<title>14&#45;&gt;26</title>\n<path fill=\"none\" stroke=\"#707070\" d=\"M908.09,-777.33C867.65,-744.36 756.21,-653.5 715.85,-620.59\"/>\n</g>\n<!-- 14&#45;&gt;27 -->\n<g id=\"edge164\" class=\"edge\">\n<title>14&#45;&gt;27</title>\n<path fill=\"none\" stroke=\"#707070\" d=\"M906.03,-780.26C848.91,-749.21 664.01,-648.71 606.94,-617.69\"/>\n</g>\n<!-- 14&#45;&gt;28 -->\n<g id=\"edge174\" class=\"edge\">\n<title>14&#45;&gt;28</title>\n<path fill=\"none\" stroke=\"#707070\" d=\"M905.04,-782.16C833.34,-752.93 567.93,-644.74 496.69,-615.7\"/>\n</g>\n<!-- 14&#45;&gt;29 -->\n<g id=\"edge184\" class=\"edge\">\n<title>14&#45;&gt;29</title>\n<path fill=\"none\" stroke=\"#707070\" d=\"M904.53,-783.46C819.99,-755.89 470.35,-641.87 386.25,-614.44\"/>\n</g>\n<!-- 14&#45;&gt;30 -->\n<g id=\"edge194\" class=\"edge\">\n<title>14&#45;&gt;30</title>\n<path fill=\"none\" stroke=\"#707070\" d=\"M904.14,-784.36C807.82,-758.18 371.62,-639.64 275.69,-613.57\"/>\n</g>\n<!-- 15&#45;&gt;21 -->\n<g id=\"edge105\" class=\"edge\">\n<title>15&#45;&gt;21</title>\n<path fill=\"none\" stroke=\"#707070\" d=\"M793.14,-784.36C696.82,-758.18 260.62,-639.64 164.69,-613.57\"/>\n</g>\n<!-- 15&#45;&gt;22 -->\n<g id=\"edge115\" class=\"edge\">\n<title>15&#45;&gt;22</title>\n<path fill=\"none\" stroke=\"#707070\" d=\"M793.18,-785.1C686.68,-760.29 160.67,-637.76 53.92,-612.9\"/>\n</g>\n<!-- 15&#45;&gt;23 -->\n<g id=\"edge125\" class=\"edge\">\n<title>15&#45;&gt;23</title>\n<path fill=\"none\" stroke=\"#707070\" d=\"M826.91,-777.33C867.35,-744.36 978.79,-653.5 1019.15,-620.59\"/>\n</g>\n<!-- 15&#45;&gt;24 -->\n<g id=\"edge135\" class=\"edge\">\n<title>15&#45;&gt;24</title>\n<path fill=\"none\" stroke=\"#707070\" d=\"M821.85,-773.42C842.91,-739.07 892.13,-658.83 913.17,-624.51\"/>\n</g>\n<!-- 15&#45;&gt;25 -->\n<g id=\"edge145\" class=\"edge\">\n<title>15&#45;&gt;25</title>\n<path fill=\"none\" stroke=\"#707070\" d=\"M812,-770.8C812,-736.02 812,-661.77 812,-627.07\"/>\n</g>\n<!-- 15&#45;&gt;26 -->\n<g id=\"edge155\" class=\"edge\">\n<title>15&#45;&gt;26</title>\n<path fill=\"none\" stroke=\"#707070\" d=\"M802.15,-773.42C781.09,-739.07 731.87,-658.83 710.83,-624.51\"/>\n</g>\n<!-- 15&#45;&gt;27 -->\n<g id=\"edge165\" class=\"edge\">\n<title>15&#45;&gt;27</title>\n<path fill=\"none\" stroke=\"#707070\" d=\"M797.09,-777.33C756.65,-744.36 645.21,-653.5 604.85,-620.59\"/>\n</g>\n<!-- 15&#45;&gt;28 -->\n<g id=\"edge175\" class=\"edge\">\n<title>15&#45;&gt;28</title>\n<path fill=\"none\" stroke=\"#707070\" d=\"M795.03,-780.26C737.91,-749.21 553.01,-648.71 495.94,-617.69\"/>\n</g>\n<!-- 15&#45;&gt;29 -->\n<g id=\"edge185\" class=\"edge\">\n<title>15&#45;&gt;29</title>\n<path fill=\"none\" stroke=\"#707070\" d=\"M794.04,-782.16C722.34,-752.93 456.93,-644.74 385.69,-615.7\"/>\n</g>\n<!-- 15&#45;&gt;30 -->\n<g id=\"edge195\" class=\"edge\">\n<title>15&#45;&gt;30</title>\n<path fill=\"none\" stroke=\"#707070\" d=\"M793.53,-783.46C708.99,-755.89 359.35,-641.87 275.25,-614.44\"/>\n</g>\n<!-- 16&#45;&gt;21 -->\n<g id=\"edge106\" class=\"edge\">\n<title>16&#45;&gt;21</title>\n<path fill=\"none\" stroke=\"#707070\" d=\"M682.53,-783.46C597.99,-755.89 248.35,-641.87 164.25,-614.44\"/>\n</g>\n<!-- 16&#45;&gt;22 -->\n<g id=\"edge116\" class=\"edge\">\n<title>16&#45;&gt;22</title>\n<path fill=\"none\" stroke=\"#707070\" d=\"M682.14,-784.36C585.82,-758.18 149.62,-639.64 53.69,-613.57\"/>\n</g>\n<!-- 16&#45;&gt;23 -->\n<g id=\"edge126\" class=\"edge\">\n<title>16&#45;&gt;23</title>\n<path fill=\"none\" stroke=\"#707070\" d=\"M717.97,-780.26C775.09,-749.21 959.99,-648.71 1017.06,-617.69\"/>\n</g>\n<!-- 16&#45;&gt;24 -->\n<g id=\"edge136\" class=\"edge\">\n<title>16&#45;&gt;24</title>\n<path fill=\"none\" stroke=\"#707070\" d=\"M715.91,-777.33C756.35,-744.36 867.79,-653.5 908.15,-620.59\"/>\n</g>\n<!-- 16&#45;&gt;25 -->\n<g id=\"edge146\" class=\"edge\">\n<title>16&#45;&gt;25</title>\n<path fill=\"none\" stroke=\"#707070\" d=\"M710.85,-773.42C731.91,-739.07 781.13,-658.83 802.17,-624.51\"/>\n</g>\n<!-- 16&#45;&gt;26 -->\n<g id=\"edge156\" class=\"edge\">\n<title>16&#45;&gt;26</title>\n<path fill=\"none\" stroke=\"#707070\" d=\"M701,-770.8C701,-736.02 701,-661.77 701,-627.07\"/>\n</g>\n<!-- 16&#45;&gt;27 -->\n<g id=\"edge166\" class=\"edge\">\n<title>16&#45;&gt;27</title>\n<path fill=\"none\" stroke=\"#707070\" d=\"M691.15,-773.42C670.09,-739.07 620.87,-658.83 599.83,-624.51\"/>\n</g>\n<!-- 16&#45;&gt;28 -->\n<g id=\"edge176\" class=\"edge\">\n<title>16&#45;&gt;28</title>\n<path fill=\"none\" stroke=\"#707070\" d=\"M686.09,-777.33C645.65,-744.36 534.21,-653.5 493.85,-620.59\"/>\n</g>\n<!-- 16&#45;&gt;29 -->\n<g id=\"edge186\" class=\"edge\">\n<title>16&#45;&gt;29</title>\n<path fill=\"none\" stroke=\"#707070\" d=\"M684.03,-780.26C626.91,-749.21 442.01,-648.71 384.94,-617.69\"/>\n</g>\n<!-- 16&#45;&gt;30 -->\n<g id=\"edge196\" class=\"edge\">\n<title>16&#45;&gt;30</title>\n<path fill=\"none\" stroke=\"#707070\" d=\"M683.04,-782.16C611.34,-752.93 345.93,-644.74 274.69,-615.7\"/>\n</g>\n<!-- 17&#45;&gt;21 -->\n<g id=\"edge107\" class=\"edge\">\n<title>17&#45;&gt;21</title>\n<path fill=\"none\" stroke=\"#707070\" d=\"M572.04,-782.16C500.34,-752.93 234.93,-644.74 163.69,-615.7\"/>\n</g>\n<!-- 17&#45;&gt;22 -->\n<g id=\"edge117\" class=\"edge\">\n<title>17&#45;&gt;22</title>\n<path fill=\"none\" stroke=\"#707070\" d=\"M571.53,-783.46C486.99,-755.89 137.35,-641.87 53.25,-614.44\"/>\n</g>\n<!-- 17&#45;&gt;23 -->\n<g id=\"edge127\" class=\"edge\">\n<title>17&#45;&gt;23</title>\n<path fill=\"none\" stroke=\"#707070\" d=\"M607.96,-782.16C679.66,-752.93 945.07,-644.74 1016.31,-615.7\"/>\n</g>\n<!-- 17&#45;&gt;24 -->\n<g id=\"edge137\" class=\"edge\">\n<title>17&#45;&gt;24</title>\n<path fill=\"none\" stroke=\"#707070\" d=\"M606.97,-780.26C664.09,-749.21 848.99,-648.71 906.06,-617.69\"/>\n</g>\n<!-- 17&#45;&gt;25 -->\n<g id=\"edge147\" class=\"edge\">\n<title>17&#45;&gt;25</title>\n<path fill=\"none\" stroke=\"#707070\" d=\"M604.91,-777.33C645.35,-744.36 756.79,-653.5 797.15,-620.59\"/>\n</g>\n<!-- 17&#45;&gt;26 -->\n<g id=\"edge157\" class=\"edge\">\n<title>17&#45;&gt;26</title>\n<path fill=\"none\" stroke=\"#707070\" d=\"M599.85,-773.42C620.91,-739.07 670.13,-658.83 691.17,-624.51\"/>\n</g>\n<!-- 17&#45;&gt;27 -->\n<g id=\"edge167\" class=\"edge\">\n<title>17&#45;&gt;27</title>\n<path fill=\"none\" stroke=\"#707070\" d=\"M590,-770.8C590,-736.02 590,-661.77 590,-627.07\"/>\n</g>\n<!-- 17&#45;&gt;28 -->\n<g id=\"edge177\" class=\"edge\">\n<title>17&#45;&gt;28</title>\n<path fill=\"none\" stroke=\"#707070\" d=\"M580.15,-773.42C559.09,-739.07 509.87,-658.83 488.83,-624.51\"/>\n</g>\n<!-- 17&#45;&gt;29 -->\n<g id=\"edge187\" class=\"edge\">\n<title>17&#45;&gt;29</title>\n<path fill=\"none\" stroke=\"#707070\" d=\"M575.09,-777.33C534.65,-744.36 423.21,-653.5 382.85,-620.59\"/>\n</g>\n<!-- 17&#45;&gt;30 -->\n<g id=\"edge197\" class=\"edge\">\n<title>17&#45;&gt;30</title>\n<path fill=\"none\" stroke=\"#707070\" d=\"M573.03,-780.26C515.91,-749.21 331.01,-648.71 273.94,-617.69\"/>\n</g>\n<!-- 18&#45;&gt;21 -->\n<g id=\"edge108\" class=\"edge\">\n<title>18&#45;&gt;21</title>\n<path fill=\"none\" stroke=\"#707070\" d=\"M462.03,-780.26C404.91,-749.21 220.01,-648.71 162.94,-617.69\"/>\n</g>\n<!-- 18&#45;&gt;22 -->\n<g id=\"edge118\" class=\"edge\">\n<title>18&#45;&gt;22</title>\n<path fill=\"none\" stroke=\"#707070\" d=\"M461.04,-782.16C389.34,-752.93 123.93,-644.74 52.69,-615.7\"/>\n</g>\n<!-- 18&#45;&gt;23 -->\n<g id=\"edge128\" class=\"edge\">\n<title>18&#45;&gt;23</title>\n<path fill=\"none\" stroke=\"#707070\" d=\"M497.47,-783.46C582.01,-755.89 931.65,-641.87 1015.75,-614.44\"/>\n</g>\n<!-- 18&#45;&gt;24 -->\n<g id=\"edge138\" class=\"edge\">\n<title>18&#45;&gt;24</title>\n<path fill=\"none\" stroke=\"#707070\" d=\"M496.96,-782.16C568.66,-752.93 834.07,-644.74 905.31,-615.7\"/>\n</g>\n<!-- 18&#45;&gt;25 -->\n<g id=\"edge148\" class=\"edge\">\n<title>18&#45;&gt;25</title>\n<path fill=\"none\" stroke=\"#707070\" d=\"M495.97,-780.26C553.09,-749.21 737.99,-648.71 795.06,-617.69\"/>\n</g>\n<!-- 18&#45;&gt;26 -->\n<g id=\"edge158\" class=\"edge\">\n<title>18&#45;&gt;26</title>\n<path fill=\"none\" stroke=\"#707070\" d=\"M493.91,-777.33C534.35,-744.36 645.79,-653.5 686.15,-620.59\"/>\n</g>\n<!-- 18&#45;&gt;27 -->\n<g id=\"edge168\" class=\"edge\">\n<title>18&#45;&gt;27</title>\n<path fill=\"none\" stroke=\"#707070\" d=\"M488.85,-773.42C509.91,-739.07 559.13,-658.83 580.17,-624.51\"/>\n</g>\n<!-- 18&#45;&gt;28 -->\n<g id=\"edge178\" class=\"edge\">\n<title>18&#45;&gt;28</title>\n<path fill=\"none\" stroke=\"#707070\" d=\"M479,-770.8C479,-736.02 479,-661.77 479,-627.07\"/>\n</g>\n<!-- 18&#45;&gt;29 -->\n<g id=\"edge188\" class=\"edge\">\n<title>18&#45;&gt;29</title>\n<path fill=\"none\" stroke=\"#707070\" d=\"M469.15,-773.42C448.09,-739.07 398.87,-658.83 377.83,-624.51\"/>\n</g>\n<!-- 18&#45;&gt;30 -->\n<g id=\"edge198\" class=\"edge\">\n<title>18&#45;&gt;30</title>\n<path fill=\"none\" stroke=\"#707070\" d=\"M464.09,-777.33C423.65,-744.36 312.21,-653.5 271.85,-620.59\"/>\n</g>\n<!-- 19&#45;&gt;21 -->\n<g id=\"edge109\" class=\"edge\">\n<title>19&#45;&gt;21</title>\n<path fill=\"none\" stroke=\"#707070\" d=\"M353.09,-777.33C312.65,-744.36 201.21,-653.5 160.85,-620.59\"/>\n</g>\n<!-- 19&#45;&gt;22 -->\n<g id=\"edge119\" class=\"edge\">\n<title>19&#45;&gt;22</title>\n<path fill=\"none\" stroke=\"#707070\" d=\"M351.03,-780.26C293.91,-749.21 109.01,-648.71 51.94,-617.69\"/>\n</g>\n<!-- 19&#45;&gt;23 -->\n<g id=\"edge129\" class=\"edge\">\n<title>19&#45;&gt;23</title>\n<path fill=\"none\" stroke=\"#707070\" d=\"M386.86,-784.36C483.18,-758.18 919.38,-639.64 1015.31,-613.57\"/>\n</g>\n<!-- 19&#45;&gt;24 -->\n<g id=\"edge139\" class=\"edge\">\n<title>19&#45;&gt;24</title>\n<path fill=\"none\" stroke=\"#707070\" d=\"M386.47,-783.46C471.01,-755.89 820.65,-641.87 904.75,-614.44\"/>\n</g>\n<!-- 19&#45;&gt;25 -->\n<g id=\"edge149\" class=\"edge\">\n<title>19&#45;&gt;25</title>\n<path fill=\"none\" stroke=\"#707070\" d=\"M385.96,-782.16C457.66,-752.93 723.07,-644.74 794.31,-615.7\"/>\n</g>\n<!-- 19&#45;&gt;26 -->\n<g id=\"edge159\" class=\"edge\">\n<title>19&#45;&gt;26</title>\n<path fill=\"none\" stroke=\"#707070\" d=\"M384.97,-780.26C442.09,-749.21 626.99,-648.71 684.06,-617.69\"/>\n</g>\n<!-- 19&#45;&gt;27 -->\n<g id=\"edge169\" class=\"edge\">\n<title>19&#45;&gt;27</title>\n<path fill=\"none\" stroke=\"#707070\" d=\"M382.91,-777.33C423.35,-744.36 534.79,-653.5 575.15,-620.59\"/>\n</g>\n<!-- 19&#45;&gt;28 -->\n<g id=\"edge179\" class=\"edge\">\n<title>19&#45;&gt;28</title>\n<path fill=\"none\" stroke=\"#707070\" d=\"M377.85,-773.42C398.91,-739.07 448.13,-658.83 469.17,-624.51\"/>\n</g>\n<!-- 19&#45;&gt;29 -->\n<g id=\"edge189\" class=\"edge\">\n<title>19&#45;&gt;29</title>\n<path fill=\"none\" stroke=\"#707070\" d=\"M368,-770.8C368,-736.02 368,-661.77 368,-627.07\"/>\n</g>\n<!-- 19&#45;&gt;30 -->\n<g id=\"edge199\" class=\"edge\">\n<title>19&#45;&gt;30</title>\n<path fill=\"none\" stroke=\"#707070\" d=\"M358.15,-773.42C337.09,-739.07 287.87,-658.83 266.83,-624.51\"/>\n</g>\n<!-- 20&#45;&gt;21 -->\n<g id=\"edge110\" class=\"edge\">\n<title>20&#45;&gt;21</title>\n<path fill=\"none\" stroke=\"#707070\" d=\"M247.15,-773.42C226.09,-739.07 176.87,-658.83 155.83,-624.51\"/>\n</g>\n<!-- 20&#45;&gt;22 -->\n<g id=\"edge120\" class=\"edge\">\n<title>20&#45;&gt;22</title>\n<path fill=\"none\" stroke=\"#707070\" d=\"M242.09,-777.33C201.65,-744.36 90.21,-653.5 49.85,-620.59\"/>\n</g>\n<!-- 20&#45;&gt;23 -->\n<g id=\"edge130\" class=\"edge\">\n<title>20&#45;&gt;23</title>\n<path fill=\"none\" stroke=\"#707070\" d=\"M275.82,-785.1C382.32,-760.29 908.33,-637.76 1015.08,-612.9\"/>\n</g>\n<!-- 20&#45;&gt;24 -->\n<g id=\"edge140\" class=\"edge\">\n<title>20&#45;&gt;24</title>\n<path fill=\"none\" stroke=\"#707070\" d=\"M275.86,-784.36C372.18,-758.18 808.38,-639.64 904.31,-613.57\"/>\n</g>\n<!-- 20&#45;&gt;25 -->\n<g id=\"edge150\" class=\"edge\">\n<title>20&#45;&gt;25</title>\n<path fill=\"none\" stroke=\"#707070\" d=\"M275.47,-783.46C360.01,-755.89 709.65,-641.87 793.75,-614.44\"/>\n</g>\n<!-- 20&#45;&gt;26 -->\n<g id=\"edge160\" class=\"edge\">\n<title>20&#45;&gt;26</title>\n<path fill=\"none\" stroke=\"#707070\" d=\"M274.96,-782.16C346.66,-752.93 612.07,-644.74 683.31,-615.7\"/>\n</g>\n<!-- 20&#45;&gt;27 -->\n<g id=\"edge170\" class=\"edge\">\n<title>20&#45;&gt;27</title>\n<path fill=\"none\" stroke=\"#707070\" d=\"M273.97,-780.26C331.09,-749.21 515.99,-648.71 573.06,-617.69\"/>\n</g>\n<!-- 20&#45;&gt;28 -->\n<g id=\"edge180\" class=\"edge\">\n<title>20&#45;&gt;28</title>\n<path fill=\"none\" stroke=\"#707070\" d=\"M271.91,-777.33C312.35,-744.36 423.79,-653.5 464.15,-620.59\"/>\n</g>\n<!-- 20&#45;&gt;29 -->\n<g id=\"edge190\" class=\"edge\">\n<title>20&#45;&gt;29</title>\n<path fill=\"none\" stroke=\"#707070\" d=\"M266.85,-773.42C287.91,-739.07 337.13,-658.83 358.17,-624.51\"/>\n</g>\n<!-- 20&#45;&gt;30 -->\n<g id=\"edge200\" class=\"edge\">\n<title>20&#45;&gt;30</title>\n<path fill=\"none\" stroke=\"#707070\" d=\"M257,-770.8C257,-736.02 257,-661.77 257,-627.07\"/>\n</g>\n<!-- 31 -->\n<g id=\"node31\" class=\"node\">\n<title>31</title>\n<ellipse fill=\"#3498db\" stroke=\"#3498db\" cx=\"146\" cy=\"-424.49\" rx=\"19.5\" ry=\"19.5\"/>\n<text text-anchor=\"middle\" x=\"146\" y=\"-420.79\" font-family=\"Times,serif\" font-size=\"14.00\" fill=\"#3498db\">31</text>\n</g>\n<!-- 21&#45;&gt;31 -->\n<g id=\"edge201\" class=\"edge\">\n<title>21&#45;&gt;31</title>\n<path fill=\"none\" stroke=\"#707070\" d=\"M146,-587.8C146,-553.03 146,-478.77 146,-444.08\"/>\n</g>\n<!-- 32 -->\n<g id=\"node32\" class=\"node\">\n<title>32</title>\n<ellipse fill=\"#3498db\" stroke=\"#3498db\" cx=\"35\" cy=\"-424.49\" rx=\"19.5\" ry=\"19.5\"/>\n<text text-anchor=\"middle\" x=\"35\" y=\"-420.79\" font-family=\"Times,serif\" font-size=\"14.00\" fill=\"#3498db\">32</text>\n</g>\n<!-- 21&#45;&gt;32 -->\n<g id=\"edge211\" class=\"edge\">\n<title>21&#45;&gt;32</title>\n<path fill=\"none\" stroke=\"#707070\" d=\"M136.15,-590.43C115.09,-556.08 65.87,-475.83 44.83,-441.52\"/>\n</g>\n<!-- 33 -->\n<g id=\"node33\" class=\"node\">\n<title>33</title>\n<ellipse fill=\"#3498db\" stroke=\"#3498db\" cx=\"1034\" cy=\"-424.49\" rx=\"19.5\" ry=\"19.5\"/>\n<text text-anchor=\"middle\" x=\"1034\" y=\"-420.79\" font-family=\"Times,serif\" font-size=\"14.00\" fill=\"#3498db\">33</text>\n</g>\n<!-- 21&#45;&gt;33 -->\n<g id=\"edge221\" class=\"edge\">\n<title>21&#45;&gt;33</title>\n<path fill=\"none\" stroke=\"#707070\" d=\"M164.96,-602.62C281.34,-578.9 897.89,-453.23 1014.84,-429.4\"/>\n</g>\n<!-- 34 -->\n<g id=\"node34\" class=\"node\">\n<title>34</title>\n<ellipse fill=\"#3498db\" stroke=\"#3498db\" cx=\"923\" cy=\"-424.49\" rx=\"19.5\" ry=\"19.5\"/>\n<text text-anchor=\"middle\" x=\"923\" y=\"-420.79\" font-family=\"Times,serif\" font-size=\"14.00\" fill=\"#3498db\">34</text>\n</g>\n<!-- 21&#45;&gt;34 -->\n<g id=\"edge231\" class=\"edge\">\n<title>21&#45;&gt;34</title>\n<path fill=\"none\" stroke=\"#707070\" d=\"M164.82,-602.1C271.32,-577.3 797.33,-454.77 904.08,-429.9\"/>\n</g>\n<!-- 35 -->\n<g id=\"node35\" class=\"node\">\n<title>35</title>\n<ellipse fill=\"#3498db\" stroke=\"#3498db\" cx=\"812\" cy=\"-424.49\" rx=\"19.5\" ry=\"19.5\"/>\n<text text-anchor=\"middle\" x=\"812\" y=\"-420.79\" font-family=\"Times,serif\" font-size=\"14.00\" fill=\"#3498db\">35</text>\n</g>\n<!-- 21&#45;&gt;35 -->\n<g id=\"edge241\" class=\"edge\">\n<title>21&#45;&gt;35</title>\n<path fill=\"none\" stroke=\"#707070\" d=\"M164.86,-601.36C261.18,-575.19 697.38,-456.64 793.31,-430.57\"/>\n</g>\n<!-- 36 -->\n<g id=\"node36\" class=\"node\">\n<title>36</title>\n<ellipse fill=\"#3498db\" stroke=\"#3498db\" cx=\"701\" cy=\"-424.49\" rx=\"19.5\" ry=\"19.5\"/>\n<text text-anchor=\"middle\" x=\"701\" y=\"-420.79\" font-family=\"Times,serif\" font-size=\"14.00\" fill=\"#3498db\">36</text>\n</g>\n<!-- 21&#45;&gt;36 -->\n<g id=\"edge251\" class=\"edge\">\n<title>21&#45;&gt;36</title>\n<path fill=\"none\" stroke=\"#707070\" d=\"M164.47,-600.47C249.01,-572.89 598.65,-458.87 682.75,-431.44\"/>\n</g>\n<!-- 37 -->\n<g id=\"node37\" class=\"node\">\n<title>37</title>\n<ellipse fill=\"#3498db\" stroke=\"#3498db\" cx=\"590\" cy=\"-424.49\" rx=\"19.5\" ry=\"19.5\"/>\n<text text-anchor=\"middle\" x=\"590\" y=\"-420.79\" font-family=\"Times,serif\" font-size=\"14.00\" fill=\"#3498db\">37</text>\n</g>\n<!-- 21&#45;&gt;37 -->\n<g id=\"edge261\" class=\"edge\">\n<title>21&#45;&gt;37</title>\n<path fill=\"none\" stroke=\"#707070\" d=\"M163.96,-599.17C235.66,-569.94 501.07,-461.74 572.31,-432.7\"/>\n</g>\n<!-- 38 -->\n<g id=\"node38\" class=\"node\">\n<title>38</title>\n<ellipse fill=\"#3498db\" stroke=\"#3498db\" cx=\"479\" cy=\"-424.49\" rx=\"19.5\" ry=\"19.5\"/>\n<text text-anchor=\"middle\" x=\"479\" y=\"-420.79\" font-family=\"Times,serif\" font-size=\"14.00\" fill=\"#3498db\">38</text>\n</g>\n<!-- 21&#45;&gt;38 -->\n<g id=\"edge271\" class=\"edge\">\n<title>21&#45;&gt;38</title>\n<path fill=\"none\" stroke=\"#707070\" d=\"M162.97,-597.26C220.09,-566.21 404.99,-465.72 462.06,-434.7\"/>\n</g>\n<!-- 39 -->\n<g id=\"node39\" class=\"node\">\n<title>39</title>\n<ellipse fill=\"#3498db\" stroke=\"#3498db\" cx=\"368\" cy=\"-424.49\" rx=\"19.5\" ry=\"19.5\"/>\n<text text-anchor=\"middle\" x=\"368\" y=\"-420.79\" font-family=\"Times,serif\" font-size=\"14.00\" fill=\"#3498db\">39</text>\n</g>\n<!-- 21&#45;&gt;39 -->\n<g id=\"edge281\" class=\"edge\">\n<title>21&#45;&gt;39</title>\n<path fill=\"none\" stroke=\"#707070\" d=\"M160.91,-594.33C201.35,-561.36 312.79,-470.51 353.15,-437.6\"/>\n</g>\n<!-- 40 -->\n<g id=\"node40\" class=\"node\">\n<title>40</title>\n<ellipse fill=\"#3498db\" stroke=\"#3498db\" cx=\"257\" cy=\"-424.49\" rx=\"19.5\" ry=\"19.5\"/>\n<text text-anchor=\"middle\" x=\"257\" y=\"-420.79\" font-family=\"Times,serif\" font-size=\"14.00\" fill=\"#3498db\">40</text>\n</g>\n<!-- 21&#45;&gt;40 -->\n<g id=\"edge291\" class=\"edge\">\n<title>21&#45;&gt;40</title>\n<path fill=\"none\" stroke=\"#707070\" d=\"M155.85,-590.43C176.91,-556.08 226.13,-475.83 247.17,-441.52\"/>\n</g>\n<!-- 22&#45;&gt;31 -->\n<g id=\"edge202\" class=\"edge\">\n<title>22&#45;&gt;31</title>\n<path fill=\"none\" stroke=\"#707070\" d=\"M44.85,-590.43C65.91,-556.08 115.13,-475.83 136.17,-441.52\"/>\n</g>\n<!-- 22&#45;&gt;32 -->\n<g id=\"edge212\" class=\"edge\">\n<title>22&#45;&gt;32</title>\n<path fill=\"none\" stroke=\"#707070\" d=\"M35,-587.8C35,-553.03 35,-478.77 35,-444.08\"/>\n</g>\n<!-- 22&#45;&gt;33 -->\n<g id=\"edge222\" class=\"edge\">\n<title>22&#45;&gt;33</title>\n<path fill=\"none\" stroke=\"#707070\" d=\"M54.06,-603.03C179.77,-580.26 888.42,-451.87 1014.74,-428.98\"/>\n</g>\n<!-- 22&#45;&gt;34 -->\n<g id=\"edge232\" class=\"edge\">\n<title>22&#45;&gt;34</title>\n<path fill=\"none\" stroke=\"#707070\" d=\"M53.96,-602.62C170.34,-578.9 786.89,-453.23 903.84,-429.4\"/>\n</g>\n<!-- 22&#45;&gt;35 -->\n<g id=\"edge242\" class=\"edge\">\n<title>22&#45;&gt;35</title>\n<path fill=\"none\" stroke=\"#707070\" d=\"M53.82,-602.1C160.32,-577.3 686.33,-454.77 793.08,-429.9\"/>\n</g>\n<!-- 22&#45;&gt;36 -->\n<g id=\"edge252\" class=\"edge\">\n<title>22&#45;&gt;36</title>\n<path fill=\"none\" stroke=\"#707070\" d=\"M53.86,-601.36C150.18,-575.19 586.38,-456.64 682.31,-430.57\"/>\n</g>\n<!-- 22&#45;&gt;37 -->\n<g id=\"edge262\" class=\"edge\">\n<title>22&#45;&gt;37</title>\n<path fill=\"none\" stroke=\"#707070\" d=\"M53.47,-600.47C138.01,-572.89 487.65,-458.87 571.75,-431.44\"/>\n</g>\n<!-- 22&#45;&gt;38 -->\n<g id=\"edge272\" class=\"edge\">\n<title>22&#45;&gt;38</title>\n<path fill=\"none\" stroke=\"#707070\" d=\"M52.96,-599.17C124.66,-569.94 390.07,-461.74 461.31,-432.7\"/>\n</g>\n<!-- 22&#45;&gt;39 -->\n<g id=\"edge282\" class=\"edge\">\n<title>22&#45;&gt;39</title>\n<path fill=\"none\" stroke=\"#707070\" d=\"M51.97,-597.26C109.09,-566.21 293.99,-465.72 351.06,-434.7\"/>\n</g>\n<!-- 22&#45;&gt;40 -->\n<g id=\"edge292\" class=\"edge\">\n<title>22&#45;&gt;40</title>\n<path fill=\"none\" stroke=\"#707070\" d=\"M49.91,-594.33C90.35,-561.36 201.79,-470.51 242.15,-437.6\"/>\n</g>\n<!-- 23&#45;&gt;31 -->\n<g id=\"edge203\" class=\"edge\">\n<title>23&#45;&gt;31</title>\n<path fill=\"none\" stroke=\"#707070\" d=\"M1015.04,-602.62C898.66,-578.9 282.11,-453.23 165.16,-429.4\"/>\n</g>\n<!-- 23&#45;&gt;32 -->\n<g id=\"edge213\" class=\"edge\">\n<title>23&#45;&gt;32</title>\n<path fill=\"none\" stroke=\"#707070\" d=\"M1014.94,-603.03C889.23,-580.26 180.58,-451.87 54.26,-428.98\"/>\n</g>\n<!-- 23&#45;&gt;33 -->\n<g id=\"edge223\" class=\"edge\">\n<title>23&#45;&gt;33</title>\n<path fill=\"none\" stroke=\"#707070\" d=\"M1034,-587.8C1034,-553.03 1034,-478.77 1034,-444.08\"/>\n</g>\n<!-- 23&#45;&gt;34 -->\n<g id=\"edge233\" class=\"edge\">\n<title>23&#45;&gt;34</title>\n<path fill=\"none\" stroke=\"#707070\" d=\"M1024.15,-590.43C1003.09,-556.08 953.87,-475.83 932.83,-441.52\"/>\n</g>\n<!-- 23&#45;&gt;35 -->\n<g id=\"edge243\" class=\"edge\">\n<title>23&#45;&gt;35</title>\n<path fill=\"none\" stroke=\"#707070\" d=\"M1019.09,-594.33C978.65,-561.36 867.21,-470.51 826.85,-437.6\"/>\n</g>\n<!-- 23&#45;&gt;36 -->\n<g id=\"edge253\" class=\"edge\">\n<title>23&#45;&gt;36</title>\n<path fill=\"none\" stroke=\"#707070\" d=\"M1017.03,-597.26C959.91,-566.21 775.01,-465.72 717.94,-434.7\"/>\n</g>\n<!-- 23&#45;&gt;37 -->\n<g id=\"edge263\" class=\"edge\">\n<title>23&#45;&gt;37</title>\n<path fill=\"none\" stroke=\"#707070\" d=\"M1016.04,-599.17C944.34,-569.94 678.93,-461.74 607.69,-432.7\"/>\n</g>\n<!-- 23&#45;&gt;38 -->\n<g id=\"edge273\" class=\"edge\">\n<title>23&#45;&gt;38</title>\n<path fill=\"none\" stroke=\"#707070\" d=\"M1015.53,-600.47C930.99,-572.89 581.35,-458.87 497.25,-431.44\"/>\n</g>\n<!-- 23&#45;&gt;39 -->\n<g id=\"edge283\" class=\"edge\">\n<title>23&#45;&gt;39</title>\n<path fill=\"none\" stroke=\"#707070\" d=\"M1015.14,-601.36C918.82,-575.19 482.62,-456.64 386.69,-430.57\"/>\n</g>\n<!-- 23&#45;&gt;40 -->\n<g id=\"edge293\" class=\"edge\">\n<title>23&#45;&gt;40</title>\n<path fill=\"none\" stroke=\"#707070\" d=\"M1015.18,-602.1C908.68,-577.3 382.67,-454.77 275.92,-429.9\"/>\n</g>\n<!-- 24&#45;&gt;31 -->\n<g id=\"edge204\" class=\"edge\">\n<title>24&#45;&gt;31</title>\n<path fill=\"none\" stroke=\"#707070\" d=\"M904.18,-602.1C797.68,-577.3 271.67,-454.77 164.92,-429.9\"/>\n</g>\n<!-- 24&#45;&gt;32 -->\n<g id=\"edge214\" class=\"edge\">\n<title>24&#45;&gt;32</title>\n<path fill=\"none\" stroke=\"#707070\" d=\"M904.04,-602.62C787.66,-578.9 171.11,-453.23 54.16,-429.4\"/>\n</g>\n<!-- 24&#45;&gt;33 -->\n<g id=\"edge224\" class=\"edge\">\n<title>24&#45;&gt;33</title>\n<path fill=\"none\" stroke=\"#707070\" d=\"M932.85,-590.43C953.91,-556.08 1003.13,-475.83 1024.17,-441.52\"/>\n</g>\n<!-- 24&#45;&gt;34 -->\n<g id=\"edge234\" class=\"edge\">\n<title>24&#45;&gt;34</title>\n<path fill=\"none\" stroke=\"#707070\" d=\"M923,-587.8C923,-553.03 923,-478.77 923,-444.08\"/>\n</g>\n<!-- 24&#45;&gt;35 -->\n<g id=\"edge244\" class=\"edge\">\n<title>24&#45;&gt;35</title>\n<path fill=\"none\" stroke=\"#707070\" d=\"M913.15,-590.43C892.09,-556.08 842.87,-475.83 821.83,-441.52\"/>\n</g>\n<!-- 24&#45;&gt;36 -->\n<g id=\"edge254\" class=\"edge\">\n<title>24&#45;&gt;36</title>\n<path fill=\"none\" stroke=\"#707070\" d=\"M908.09,-594.33C867.65,-561.36 756.21,-470.51 715.85,-437.6\"/>\n</g>\n<!-- 24&#45;&gt;37 -->\n<g id=\"edge264\" class=\"edge\">\n<title>24&#45;&gt;37</title>\n<path fill=\"none\" stroke=\"#707070\" d=\"M906.03,-597.26C848.91,-566.21 664.01,-465.72 606.94,-434.7\"/>\n</g>\n<!-- 24&#45;&gt;38 -->\n<g id=\"edge274\" class=\"edge\">\n<title>24&#45;&gt;38</title>\n<path fill=\"none\" stroke=\"#707070\" d=\"M905.04,-599.17C833.34,-569.94 567.93,-461.74 496.69,-432.7\"/>\n</g>\n<!-- 24&#45;&gt;39 -->\n<g id=\"edge284\" class=\"edge\">\n<title>24&#45;&gt;39</title>\n<path fill=\"none\" stroke=\"#707070\" d=\"M904.53,-600.47C819.99,-572.89 470.35,-458.87 386.25,-431.44\"/>\n</g>\n<!-- 24&#45;&gt;40 -->\n<g id=\"edge294\" class=\"edge\">\n<title>24&#45;&gt;40</title>\n<path fill=\"none\" stroke=\"#707070\" d=\"M904.14,-601.36C807.82,-575.19 371.62,-456.64 275.69,-430.57\"/>\n</g>\n<!-- 25&#45;&gt;31 -->\n<g id=\"edge205\" class=\"edge\">\n<title>25&#45;&gt;31</title>\n<path fill=\"none\" stroke=\"#707070\" d=\"M793.14,-601.36C696.82,-575.19 260.62,-456.64 164.69,-430.57\"/>\n</g>\n<!-- 25&#45;&gt;32 -->\n<g id=\"edge215\" class=\"edge\">\n<title>25&#45;&gt;32</title>\n<path fill=\"none\" stroke=\"#707070\" d=\"M793.18,-602.1C686.68,-577.3 160.67,-454.77 53.92,-429.9\"/>\n</g>\n<!-- 25&#45;&gt;33 -->\n<g id=\"edge225\" class=\"edge\">\n<title>25&#45;&gt;33</title>\n<path fill=\"none\" stroke=\"#707070\" d=\"M826.91,-594.33C867.35,-561.36 978.79,-470.51 1019.15,-437.6\"/>\n</g>\n<!-- 25&#45;&gt;34 -->\n<g id=\"edge235\" class=\"edge\">\n<title>25&#45;&gt;34</title>\n<path fill=\"none\" stroke=\"#707070\" d=\"M821.85,-590.43C842.91,-556.08 892.13,-475.83 913.17,-441.52\"/>\n</g>\n<!-- 25&#45;&gt;35 -->\n<g id=\"edge245\" class=\"edge\">\n<title>25&#45;&gt;35</title>\n<path fill=\"none\" stroke=\"#707070\" d=\"M812,-587.8C812,-553.03 812,-478.77 812,-444.08\"/>\n</g>\n<!-- 25&#45;&gt;36 -->\n<g id=\"edge255\" class=\"edge\">\n<title>25&#45;&gt;36</title>\n<path fill=\"none\" stroke=\"#707070\" d=\"M802.15,-590.43C781.09,-556.08 731.87,-475.83 710.83,-441.52\"/>\n</g>\n<!-- 25&#45;&gt;37 -->\n<g id=\"edge265\" class=\"edge\">\n<title>25&#45;&gt;37</title>\n<path fill=\"none\" stroke=\"#707070\" d=\"M797.09,-594.33C756.65,-561.36 645.21,-470.51 604.85,-437.6\"/>\n</g>\n<!-- 25&#45;&gt;38 -->\n<g id=\"edge275\" class=\"edge\">\n<title>25&#45;&gt;38</title>\n<path fill=\"none\" stroke=\"#707070\" d=\"M795.03,-597.26C737.91,-566.21 553.01,-465.72 495.94,-434.7\"/>\n</g>\n<!-- 25&#45;&gt;39 -->\n<g id=\"edge285\" class=\"edge\">\n<title>25&#45;&gt;39</title>\n<path fill=\"none\" stroke=\"#707070\" d=\"M794.04,-599.17C722.34,-569.94 456.93,-461.74 385.69,-432.7\"/>\n</g>\n<!-- 25&#45;&gt;40 -->\n<g id=\"edge295\" class=\"edge\">\n<title>25&#45;&gt;40</title>\n<path fill=\"none\" stroke=\"#707070\" d=\"M793.53,-600.47C708.99,-572.89 359.35,-458.87 275.25,-431.44\"/>\n</g>\n<!-- 26&#45;&gt;31 -->\n<g id=\"edge206\" class=\"edge\">\n<title>26&#45;&gt;31</title>\n<path fill=\"none\" stroke=\"#707070\" d=\"M682.53,-600.47C597.99,-572.89 248.35,-458.87 164.25,-431.44\"/>\n</g>\n<!-- 26&#45;&gt;32 -->\n<g id=\"edge216\" class=\"edge\">\n<title>26&#45;&gt;32</title>\n<path fill=\"none\" stroke=\"#707070\" d=\"M682.14,-601.36C585.82,-575.19 149.62,-456.64 53.69,-430.57\"/>\n</g>\n<!-- 26&#45;&gt;33 -->\n<g id=\"edge226\" class=\"edge\">\n<title>26&#45;&gt;33</title>\n<path fill=\"none\" stroke=\"#707070\" d=\"M717.97,-597.26C775.09,-566.21 959.99,-465.72 1017.06,-434.7\"/>\n</g>\n<!-- 26&#45;&gt;34 -->\n<g id=\"edge236\" class=\"edge\">\n<title>26&#45;&gt;34</title>\n<path fill=\"none\" stroke=\"#707070\" d=\"M715.91,-594.33C756.35,-561.36 867.79,-470.51 908.15,-437.6\"/>\n</g>\n<!-- 26&#45;&gt;35 -->\n<g id=\"edge246\" class=\"edge\">\n<title>26&#45;&gt;35</title>\n<path fill=\"none\" stroke=\"#707070\" d=\"M710.85,-590.43C731.91,-556.08 781.13,-475.83 802.17,-441.52\"/>\n</g>\n<!-- 26&#45;&gt;36 -->\n<g id=\"edge256\" class=\"edge\">\n<title>26&#45;&gt;36</title>\n<path fill=\"none\" stroke=\"#707070\" d=\"M701,-587.8C701,-553.03 701,-478.77 701,-444.08\"/>\n</g>\n<!-- 26&#45;&gt;37 -->\n<g id=\"edge266\" class=\"edge\">\n<title>26&#45;&gt;37</title>\n<path fill=\"none\" stroke=\"#707070\" d=\"M691.15,-590.43C670.09,-556.08 620.87,-475.83 599.83,-441.52\"/>\n</g>\n<!-- 26&#45;&gt;38 -->\n<g id=\"edge276\" class=\"edge\">\n<title>26&#45;&gt;38</title>\n<path fill=\"none\" stroke=\"#707070\" d=\"M686.09,-594.33C645.65,-561.36 534.21,-470.51 493.85,-437.6\"/>\n</g>\n<!-- 26&#45;&gt;39 -->\n<g id=\"edge286\" class=\"edge\">\n<title>26&#45;&gt;39</title>\n<path fill=\"none\" stroke=\"#707070\" d=\"M684.03,-597.26C626.91,-566.21 442.01,-465.72 384.94,-434.7\"/>\n</g>\n<!-- 26&#45;&gt;40 -->\n<g id=\"edge296\" class=\"edge\">\n<title>26&#45;&gt;40</title>\n<path fill=\"none\" stroke=\"#707070\" d=\"M683.04,-599.17C611.34,-569.94 345.93,-461.74 274.69,-432.7\"/>\n</g>\n<!-- 27&#45;&gt;31 -->\n<g id=\"edge207\" class=\"edge\">\n<title>27&#45;&gt;31</title>\n<path fill=\"none\" stroke=\"#707070\" d=\"M572.04,-599.17C500.34,-569.94 234.93,-461.74 163.69,-432.7\"/>\n</g>\n<!-- 27&#45;&gt;32 -->\n<g id=\"edge217\" class=\"edge\">\n<title>27&#45;&gt;32</title>\n<path fill=\"none\" stroke=\"#707070\" d=\"M571.53,-600.47C486.99,-572.89 137.35,-458.87 53.25,-431.44\"/>\n</g>\n<!-- 27&#45;&gt;33 -->\n<g id=\"edge227\" class=\"edge\">\n<title>27&#45;&gt;33</title>\n<path fill=\"none\" stroke=\"#707070\" d=\"M607.96,-599.17C679.66,-569.94 945.07,-461.74 1016.31,-432.7\"/>\n</g>\n<!-- 27&#45;&gt;34 -->\n<g id=\"edge237\" class=\"edge\">\n<title>27&#45;&gt;34</title>\n<path fill=\"none\" stroke=\"#707070\" d=\"M606.97,-597.26C664.09,-566.21 848.99,-465.72 906.06,-434.7\"/>\n</g>\n<!-- 27&#45;&gt;35 -->\n<g id=\"edge247\" class=\"edge\">\n<title>27&#45;&gt;35</title>\n<path fill=\"none\" stroke=\"#707070\" d=\"M604.91,-594.33C645.35,-561.36 756.79,-470.51 797.15,-437.6\"/>\n</g>\n<!-- 27&#45;&gt;36 -->\n<g id=\"edge257\" class=\"edge\">\n<title>27&#45;&gt;36</title>\n<path fill=\"none\" stroke=\"#707070\" d=\"M599.85,-590.43C620.91,-556.08 670.13,-475.83 691.17,-441.52\"/>\n</g>\n<!-- 27&#45;&gt;37 -->\n<g id=\"edge267\" class=\"edge\">\n<title>27&#45;&gt;37</title>\n<path fill=\"none\" stroke=\"#707070\" d=\"M590,-587.8C590,-553.03 590,-478.77 590,-444.08\"/>\n</g>\n<!-- 27&#45;&gt;38 -->\n<g id=\"edge277\" class=\"edge\">\n<title>27&#45;&gt;38</title>\n<path fill=\"none\" stroke=\"#707070\" d=\"M580.15,-590.43C559.09,-556.08 509.87,-475.83 488.83,-441.52\"/>\n</g>\n<!-- 27&#45;&gt;39 -->\n<g id=\"edge287\" class=\"edge\">\n<title>27&#45;&gt;39</title>\n<path fill=\"none\" stroke=\"#707070\" d=\"M575.09,-594.33C534.65,-561.36 423.21,-470.51 382.85,-437.6\"/>\n</g>\n<!-- 27&#45;&gt;40 -->\n<g id=\"edge297\" class=\"edge\">\n<title>27&#45;&gt;40</title>\n<path fill=\"none\" stroke=\"#707070\" d=\"M573.03,-597.26C515.91,-566.21 331.01,-465.72 273.94,-434.7\"/>\n</g>\n<!-- 28&#45;&gt;31 -->\n<g id=\"edge208\" class=\"edge\">\n<title>28&#45;&gt;31</title>\n<path fill=\"none\" stroke=\"#707070\" d=\"M462.03,-597.26C404.91,-566.21 220.01,-465.72 162.94,-434.7\"/>\n</g>\n<!-- 28&#45;&gt;32 -->\n<g id=\"edge218\" class=\"edge\">\n<title>28&#45;&gt;32</title>\n<path fill=\"none\" stroke=\"#707070\" d=\"M461.04,-599.17C389.34,-569.94 123.93,-461.74 52.69,-432.7\"/>\n</g>\n<!-- 28&#45;&gt;33 -->\n<g id=\"edge228\" class=\"edge\">\n<title>28&#45;&gt;33</title>\n<path fill=\"none\" stroke=\"#707070\" d=\"M497.47,-600.47C582.01,-572.89 931.65,-458.87 1015.75,-431.44\"/>\n</g>\n<!-- 28&#45;&gt;34 -->\n<g id=\"edge238\" class=\"edge\">\n<title>28&#45;&gt;34</title>\n<path fill=\"none\" stroke=\"#707070\" d=\"M496.96,-599.17C568.66,-569.94 834.07,-461.74 905.31,-432.7\"/>\n</g>\n<!-- 28&#45;&gt;35 -->\n<g id=\"edge248\" class=\"edge\">\n<title>28&#45;&gt;35</title>\n<path fill=\"none\" stroke=\"#707070\" d=\"M495.97,-597.26C553.09,-566.21 737.99,-465.72 795.06,-434.7\"/>\n</g>\n<!-- 28&#45;&gt;36 -->\n<g id=\"edge258\" class=\"edge\">\n<title>28&#45;&gt;36</title>\n<path fill=\"none\" stroke=\"#707070\" d=\"M493.91,-594.33C534.35,-561.36 645.79,-470.51 686.15,-437.6\"/>\n</g>\n<!-- 28&#45;&gt;37 -->\n<g id=\"edge268\" class=\"edge\">\n<title>28&#45;&gt;37</title>\n<path fill=\"none\" stroke=\"#707070\" d=\"M488.85,-590.43C509.91,-556.08 559.13,-475.83 580.17,-441.52\"/>\n</g>\n<!-- 28&#45;&gt;38 -->\n<g id=\"edge278\" class=\"edge\">\n<title>28&#45;&gt;38</title>\n<path fill=\"none\" stroke=\"#707070\" d=\"M479,-587.8C479,-553.03 479,-478.77 479,-444.08\"/>\n</g>\n<!-- 28&#45;&gt;39 -->\n<g id=\"edge288\" class=\"edge\">\n<title>28&#45;&gt;39</title>\n<path fill=\"none\" stroke=\"#707070\" d=\"M469.15,-590.43C448.09,-556.08 398.87,-475.83 377.83,-441.52\"/>\n</g>\n<!-- 28&#45;&gt;40 -->\n<g id=\"edge298\" class=\"edge\">\n<title>28&#45;&gt;40</title>\n<path fill=\"none\" stroke=\"#707070\" d=\"M464.09,-594.33C423.65,-561.36 312.21,-470.51 271.85,-437.6\"/>\n</g>\n<!-- 29&#45;&gt;31 -->\n<g id=\"edge209\" class=\"edge\">\n<title>29&#45;&gt;31</title>\n<path fill=\"none\" stroke=\"#707070\" d=\"M353.09,-594.33C312.65,-561.36 201.21,-470.51 160.85,-437.6\"/>\n</g>\n<!-- 29&#45;&gt;32 -->\n<g id=\"edge219\" class=\"edge\">\n<title>29&#45;&gt;32</title>\n<path fill=\"none\" stroke=\"#707070\" d=\"M351.03,-597.26C293.91,-566.21 109.01,-465.72 51.94,-434.7\"/>\n</g>\n<!-- 29&#45;&gt;33 -->\n<g id=\"edge229\" class=\"edge\">\n<title>29&#45;&gt;33</title>\n<path fill=\"none\" stroke=\"#707070\" d=\"M386.86,-601.36C483.18,-575.19 919.38,-456.64 1015.31,-430.57\"/>\n</g>\n<!-- 29&#45;&gt;34 -->\n<g id=\"edge239\" class=\"edge\">\n<title>29&#45;&gt;34</title>\n<path fill=\"none\" stroke=\"#707070\" d=\"M386.47,-600.47C471.01,-572.89 820.65,-458.87 904.75,-431.44\"/>\n</g>\n<!-- 29&#45;&gt;35 -->\n<g id=\"edge249\" class=\"edge\">\n<title>29&#45;&gt;35</title>\n<path fill=\"none\" stroke=\"#707070\" d=\"M385.96,-599.17C457.66,-569.94 723.07,-461.74 794.31,-432.7\"/>\n</g>\n<!-- 29&#45;&gt;36 -->\n<g id=\"edge259\" class=\"edge\">\n<title>29&#45;&gt;36</title>\n<path fill=\"none\" stroke=\"#707070\" d=\"M384.97,-597.26C442.09,-566.21 626.99,-465.72 684.06,-434.7\"/>\n</g>\n<!-- 29&#45;&gt;37 -->\n<g id=\"edge269\" class=\"edge\">\n<title>29&#45;&gt;37</title>\n<path fill=\"none\" stroke=\"#707070\" d=\"M382.91,-594.33C423.35,-561.36 534.79,-470.51 575.15,-437.6\"/>\n</g>\n<!-- 29&#45;&gt;38 -->\n<g id=\"edge279\" class=\"edge\">\n<title>29&#45;&gt;38</title>\n<path fill=\"none\" stroke=\"#707070\" d=\"M377.85,-590.43C398.91,-556.08 448.13,-475.83 469.17,-441.52\"/>\n</g>\n<!-- 29&#45;&gt;39 -->\n<g id=\"edge289\" class=\"edge\">\n<title>29&#45;&gt;39</title>\n<path fill=\"none\" stroke=\"#707070\" d=\"M368,-587.8C368,-553.03 368,-478.77 368,-444.08\"/>\n</g>\n<!-- 29&#45;&gt;40 -->\n<g id=\"edge299\" class=\"edge\">\n<title>29&#45;&gt;40</title>\n<path fill=\"none\" stroke=\"#707070\" d=\"M358.15,-590.43C337.09,-556.08 287.87,-475.83 266.83,-441.52\"/>\n</g>\n<!-- 30&#45;&gt;31 -->\n<g id=\"edge210\" class=\"edge\">\n<title>30&#45;&gt;31</title>\n<path fill=\"none\" stroke=\"#707070\" d=\"M247.15,-590.43C226.09,-556.08 176.87,-475.83 155.83,-441.52\"/>\n</g>\n<!-- 30&#45;&gt;32 -->\n<g id=\"edge220\" class=\"edge\">\n<title>30&#45;&gt;32</title>\n<path fill=\"none\" stroke=\"#707070\" d=\"M242.09,-594.33C201.65,-561.36 90.21,-470.51 49.85,-437.6\"/>\n</g>\n<!-- 30&#45;&gt;33 -->\n<g id=\"edge230\" class=\"edge\">\n<title>30&#45;&gt;33</title>\n<path fill=\"none\" stroke=\"#707070\" d=\"M275.82,-602.1C382.32,-577.3 908.33,-454.77 1015.08,-429.9\"/>\n</g>\n<!-- 30&#45;&gt;34 -->\n<g id=\"edge240\" class=\"edge\">\n<title>30&#45;&gt;34</title>\n<path fill=\"none\" stroke=\"#707070\" d=\"M275.86,-601.36C372.18,-575.19 808.38,-456.64 904.31,-430.57\"/>\n</g>\n<!-- 30&#45;&gt;35 -->\n<g id=\"edge250\" class=\"edge\">\n<title>30&#45;&gt;35</title>\n<path fill=\"none\" stroke=\"#707070\" d=\"M275.47,-600.47C360.01,-572.89 709.65,-458.87 793.75,-431.44\"/>\n</g>\n<!-- 30&#45;&gt;36 -->\n<g id=\"edge260\" class=\"edge\">\n<title>30&#45;&gt;36</title>\n<path fill=\"none\" stroke=\"#707070\" d=\"M274.96,-599.17C346.66,-569.94 612.07,-461.74 683.31,-432.7\"/>\n</g>\n<!-- 30&#45;&gt;37 -->\n<g id=\"edge270\" class=\"edge\">\n<title>30&#45;&gt;37</title>\n<path fill=\"none\" stroke=\"#707070\" d=\"M273.97,-597.26C331.09,-566.21 515.99,-465.72 573.06,-434.7\"/>\n</g>\n<!-- 30&#45;&gt;38 -->\n<g id=\"edge280\" class=\"edge\">\n<title>30&#45;&gt;38</title>\n<path fill=\"none\" stroke=\"#707070\" d=\"M271.91,-594.33C312.35,-561.36 423.79,-470.51 464.15,-437.6\"/>\n</g>\n<!-- 30&#45;&gt;39 -->\n<g id=\"edge290\" class=\"edge\">\n<title>30&#45;&gt;39</title>\n<path fill=\"none\" stroke=\"#707070\" d=\"M266.85,-590.43C287.91,-556.08 337.13,-475.83 358.17,-441.52\"/>\n</g>\n<!-- 30&#45;&gt;40 -->\n<g id=\"edge300\" class=\"edge\">\n<title>30&#45;&gt;40</title>\n<path fill=\"none\" stroke=\"#707070\" d=\"M257,-587.8C257,-553.03 257,-478.77 257,-444.08\"/>\n</g>\n<!-- 41 -->\n<g id=\"node41\" class=\"node\">\n<title>41</title>\n<ellipse fill=\"#3498db\" stroke=\"#3498db\" cx=\"146\" cy=\"-241.49\" rx=\"19.5\" ry=\"19.5\"/>\n<text text-anchor=\"middle\" x=\"146\" y=\"-237.79\" font-family=\"Times,serif\" font-size=\"14.00\" fill=\"#3498db\">41</text>\n</g>\n<!-- 31&#45;&gt;41 -->\n<g id=\"edge301\" class=\"edge\">\n<title>31&#45;&gt;41</title>\n<path fill=\"none\" stroke=\"#707070\" d=\"M146,-404.8C146,-370.03 146,-295.78 146,-261.08\"/>\n</g>\n<!-- 42 -->\n<g id=\"node42\" class=\"node\">\n<title>42</title>\n<ellipse fill=\"#3498db\" stroke=\"#3498db\" cx=\"35\" cy=\"-241.49\" rx=\"19.5\" ry=\"19.5\"/>\n<text text-anchor=\"middle\" x=\"35\" y=\"-237.79\" font-family=\"Times,serif\" font-size=\"14.00\" fill=\"#3498db\">42</text>\n</g>\n<!-- 31&#45;&gt;42 -->\n<g id=\"edge311\" class=\"edge\">\n<title>31&#45;&gt;42</title>\n<path fill=\"none\" stroke=\"#707070\" d=\"M136.15,-407.43C115.09,-373.08 65.87,-292.84 44.83,-258.52\"/>\n</g>\n<!-- 43 -->\n<g id=\"node43\" class=\"node\">\n<title>43</title>\n<ellipse fill=\"#3498db\" stroke=\"#3498db\" cx=\"1034\" cy=\"-241.49\" rx=\"19.5\" ry=\"19.5\"/>\n<text text-anchor=\"middle\" x=\"1034\" y=\"-237.79\" font-family=\"Times,serif\" font-size=\"14.00\" fill=\"#3498db\">43</text>\n</g>\n<!-- 31&#45;&gt;43 -->\n<g id=\"edge321\" class=\"edge\">\n<title>31&#45;&gt;43</title>\n<path fill=\"none\" stroke=\"#707070\" d=\"M164.96,-419.63C281.34,-395.91 897.89,-270.24 1014.84,-246.4\"/>\n</g>\n<!-- 44 -->\n<g id=\"node44\" class=\"node\">\n<title>44</title>\n<ellipse fill=\"#3498db\" stroke=\"#3498db\" cx=\"923\" cy=\"-241.49\" rx=\"19.5\" ry=\"19.5\"/>\n<text text-anchor=\"middle\" x=\"923\" y=\"-237.79\" font-family=\"Times,serif\" font-size=\"14.00\" fill=\"#3498db\">44</text>\n</g>\n<!-- 31&#45;&gt;44 -->\n<g id=\"edge331\" class=\"edge\">\n<title>31&#45;&gt;44</title>\n<path fill=\"none\" stroke=\"#707070\" d=\"M164.82,-419.11C271.32,-394.3 797.33,-271.77 904.08,-246.9\"/>\n</g>\n<!-- 45 -->\n<g id=\"node45\" class=\"node\">\n<title>45</title>\n<ellipse fill=\"#3498db\" stroke=\"#3498db\" cx=\"812\" cy=\"-241.49\" rx=\"19.5\" ry=\"19.5\"/>\n<text text-anchor=\"middle\" x=\"812\" y=\"-237.79\" font-family=\"Times,serif\" font-size=\"14.00\" fill=\"#3498db\">45</text>\n</g>\n<!-- 31&#45;&gt;45 -->\n<g id=\"edge341\" class=\"edge\">\n<title>31&#45;&gt;45</title>\n<path fill=\"none\" stroke=\"#707070\" d=\"M164.86,-418.37C261.18,-392.19 697.38,-273.65 793.31,-247.58\"/>\n</g>\n<!-- 46 -->\n<g id=\"node46\" class=\"node\">\n<title>46</title>\n<ellipse fill=\"#3498db\" stroke=\"#3498db\" cx=\"701\" cy=\"-241.49\" rx=\"19.5\" ry=\"19.5\"/>\n<text text-anchor=\"middle\" x=\"701\" y=\"-237.79\" font-family=\"Times,serif\" font-size=\"14.00\" fill=\"#3498db\">46</text>\n</g>\n<!-- 31&#45;&gt;46 -->\n<g id=\"edge351\" class=\"edge\">\n<title>31&#45;&gt;46</title>\n<path fill=\"none\" stroke=\"#707070\" d=\"M164.47,-417.47C249.01,-389.9 598.65,-275.87 682.75,-248.45\"/>\n</g>\n<!-- 47 -->\n<g id=\"node47\" class=\"node\">\n<title>47</title>\n<ellipse fill=\"#3498db\" stroke=\"#3498db\" cx=\"590\" cy=\"-241.49\" rx=\"19.5\" ry=\"19.5\"/>\n<text text-anchor=\"middle\" x=\"590\" y=\"-237.79\" font-family=\"Times,serif\" font-size=\"14.00\" fill=\"#3498db\">47</text>\n</g>\n<!-- 31&#45;&gt;47 -->\n<g id=\"edge361\" class=\"edge\">\n<title>31&#45;&gt;47</title>\n<path fill=\"none\" stroke=\"#707070\" d=\"M163.96,-416.17C235.66,-386.94 501.07,-278.75 572.31,-249.71\"/>\n</g>\n<!-- 48 -->\n<g id=\"node48\" class=\"node\">\n<title>48</title>\n<ellipse fill=\"#3498db\" stroke=\"#3498db\" cx=\"479\" cy=\"-241.49\" rx=\"19.5\" ry=\"19.5\"/>\n<text text-anchor=\"middle\" x=\"479\" y=\"-237.79\" font-family=\"Times,serif\" font-size=\"14.00\" fill=\"#3498db\">48</text>\n</g>\n<!-- 31&#45;&gt;48 -->\n<g id=\"edge371\" class=\"edge\">\n<title>31&#45;&gt;48</title>\n<path fill=\"none\" stroke=\"#707070\" d=\"M162.97,-414.27C220.09,-383.22 404.99,-282.72 462.06,-251.7\"/>\n</g>\n<!-- 49 -->\n<g id=\"node49\" class=\"node\">\n<title>49</title>\n<ellipse fill=\"#3498db\" stroke=\"#3498db\" cx=\"368\" cy=\"-241.49\" rx=\"19.5\" ry=\"19.5\"/>\n<text text-anchor=\"middle\" x=\"368\" y=\"-237.79\" font-family=\"Times,serif\" font-size=\"14.00\" fill=\"#3498db\">49</text>\n</g>\n<!-- 31&#45;&gt;49 -->\n<g id=\"edge381\" class=\"edge\">\n<title>31&#45;&gt;49</title>\n<path fill=\"none\" stroke=\"#707070\" d=\"M160.91,-411.33C201.35,-378.36 312.79,-287.51 353.15,-254.6\"/>\n</g>\n<!-- 50 -->\n<g id=\"node50\" class=\"node\">\n<title>50</title>\n<ellipse fill=\"#3498db\" stroke=\"#3498db\" cx=\"257\" cy=\"-241.49\" rx=\"19.5\" ry=\"19.5\"/>\n<text text-anchor=\"middle\" x=\"257\" y=\"-237.79\" font-family=\"Times,serif\" font-size=\"14.00\" fill=\"#3498db\">50</text>\n</g>\n<!-- 31&#45;&gt;50 -->\n<g id=\"edge391\" class=\"edge\">\n<title>31&#45;&gt;50</title>\n<path fill=\"none\" stroke=\"#707070\" d=\"M155.85,-407.43C176.91,-373.08 226.13,-292.84 247.17,-258.52\"/>\n</g>\n<!-- 32&#45;&gt;41 -->\n<g id=\"edge302\" class=\"edge\">\n<title>32&#45;&gt;41</title>\n<path fill=\"none\" stroke=\"#707070\" d=\"M44.85,-407.43C65.91,-373.08 115.13,-292.84 136.17,-258.52\"/>\n</g>\n<!-- 32&#45;&gt;42 -->\n<g id=\"edge312\" class=\"edge\">\n<title>32&#45;&gt;42</title>\n<path fill=\"none\" stroke=\"#707070\" d=\"M35,-404.8C35,-370.03 35,-295.78 35,-261.08\"/>\n</g>\n<!-- 32&#45;&gt;43 -->\n<g id=\"edge322\" class=\"edge\">\n<title>32&#45;&gt;43</title>\n<path fill=\"none\" stroke=\"#707070\" d=\"M54.06,-420.04C179.77,-397.26 888.42,-268.87 1014.74,-245.99\"/>\n</g>\n<!-- 32&#45;&gt;44 -->\n<g id=\"edge332\" class=\"edge\">\n<title>32&#45;&gt;44</title>\n<path fill=\"none\" stroke=\"#707070\" d=\"M53.96,-419.63C170.34,-395.91 786.89,-270.24 903.84,-246.4\"/>\n</g>\n<!-- 32&#45;&gt;45 -->\n<g id=\"edge342\" class=\"edge\">\n<title>32&#45;&gt;45</title>\n<path fill=\"none\" stroke=\"#707070\" d=\"M53.82,-419.11C160.32,-394.3 686.33,-271.77 793.08,-246.9\"/>\n</g>\n<!-- 32&#45;&gt;46 -->\n<g id=\"edge352\" class=\"edge\">\n<title>32&#45;&gt;46</title>\n<path fill=\"none\" stroke=\"#707070\" d=\"M53.86,-418.37C150.18,-392.19 586.38,-273.65 682.31,-247.58\"/>\n</g>\n<!-- 32&#45;&gt;47 -->\n<g id=\"edge362\" class=\"edge\">\n<title>32&#45;&gt;47</title>\n<path fill=\"none\" stroke=\"#707070\" d=\"M53.47,-417.47C138.01,-389.9 487.65,-275.87 571.75,-248.45\"/>\n</g>\n<!-- 32&#45;&gt;48 -->\n<g id=\"edge372\" class=\"edge\">\n<title>32&#45;&gt;48</title>\n<path fill=\"none\" stroke=\"#707070\" d=\"M52.96,-416.17C124.66,-386.94 390.07,-278.75 461.31,-249.71\"/>\n</g>\n<!-- 32&#45;&gt;49 -->\n<g id=\"edge382\" class=\"edge\">\n<title>32&#45;&gt;49</title>\n<path fill=\"none\" stroke=\"#707070\" d=\"M51.97,-414.27C109.09,-383.22 293.99,-282.72 351.06,-251.7\"/>\n</g>\n<!-- 32&#45;&gt;50 -->\n<g id=\"edge392\" class=\"edge\">\n<title>32&#45;&gt;50</title>\n<path fill=\"none\" stroke=\"#707070\" d=\"M49.91,-411.33C90.35,-378.36 201.79,-287.51 242.15,-254.6\"/>\n</g>\n<!-- 33&#45;&gt;41 -->\n<g id=\"edge303\" class=\"edge\">\n<title>33&#45;&gt;41</title>\n<path fill=\"none\" stroke=\"#707070\" d=\"M1015.04,-419.63C898.66,-395.91 282.11,-270.24 165.16,-246.4\"/>\n</g>\n<!-- 33&#45;&gt;42 -->\n<g id=\"edge313\" class=\"edge\">\n<title>33&#45;&gt;42</title>\n<path fill=\"none\" stroke=\"#707070\" d=\"M1014.94,-420.04C889.23,-397.26 180.58,-268.87 54.26,-245.99\"/>\n</g>\n<!-- 33&#45;&gt;43 -->\n<g id=\"edge323\" class=\"edge\">\n<title>33&#45;&gt;43</title>\n<path fill=\"none\" stroke=\"#707070\" d=\"M1034,-404.8C1034,-370.03 1034,-295.78 1034,-261.08\"/>\n</g>\n<!-- 33&#45;&gt;44 -->\n<g id=\"edge333\" class=\"edge\">\n<title>33&#45;&gt;44</title>\n<path fill=\"none\" stroke=\"#707070\" d=\"M1024.15,-407.43C1003.09,-373.08 953.87,-292.84 932.83,-258.52\"/>\n</g>\n<!-- 33&#45;&gt;45 -->\n<g id=\"edge343\" class=\"edge\">\n<title>33&#45;&gt;45</title>\n<path fill=\"none\" stroke=\"#707070\" d=\"M1019.09,-411.33C978.65,-378.36 867.21,-287.51 826.85,-254.6\"/>\n</g>\n<!-- 33&#45;&gt;46 -->\n<g id=\"edge353\" class=\"edge\">\n<title>33&#45;&gt;46</title>\n<path fill=\"none\" stroke=\"#707070\" d=\"M1017.03,-414.27C959.91,-383.22 775.01,-282.72 717.94,-251.7\"/>\n</g>\n<!-- 33&#45;&gt;47 -->\n<g id=\"edge363\" class=\"edge\">\n<title>33&#45;&gt;47</title>\n<path fill=\"none\" stroke=\"#707070\" d=\"M1016.04,-416.17C944.34,-386.94 678.93,-278.75 607.69,-249.71\"/>\n</g>\n<!-- 33&#45;&gt;48 -->\n<g id=\"edge373\" class=\"edge\">\n<title>33&#45;&gt;48</title>\n<path fill=\"none\" stroke=\"#707070\" d=\"M1015.53,-417.47C930.99,-389.9 581.35,-275.87 497.25,-248.45\"/>\n</g>\n<!-- 33&#45;&gt;49 -->\n<g id=\"edge383\" class=\"edge\">\n<title>33&#45;&gt;49</title>\n<path fill=\"none\" stroke=\"#707070\" d=\"M1015.14,-418.37C918.82,-392.19 482.62,-273.65 386.69,-247.58\"/>\n</g>\n<!-- 33&#45;&gt;50 -->\n<g id=\"edge393\" class=\"edge\">\n<title>33&#45;&gt;50</title>\n<path fill=\"none\" stroke=\"#707070\" d=\"M1015.18,-419.11C908.68,-394.3 382.67,-271.77 275.92,-246.9\"/>\n</g>\n<!-- 34&#45;&gt;41 -->\n<g id=\"edge304\" class=\"edge\">\n<title>34&#45;&gt;41</title>\n<path fill=\"none\" stroke=\"#707070\" d=\"M904.18,-419.11C797.68,-394.3 271.67,-271.77 164.92,-246.9\"/>\n</g>\n<!-- 34&#45;&gt;42 -->\n<g id=\"edge314\" class=\"edge\">\n<title>34&#45;&gt;42</title>\n<path fill=\"none\" stroke=\"#707070\" d=\"M904.04,-419.63C787.66,-395.91 171.11,-270.24 54.16,-246.4\"/>\n</g>\n<!-- 34&#45;&gt;43 -->\n<g id=\"edge324\" class=\"edge\">\n<title>34&#45;&gt;43</title>\n<path fill=\"none\" stroke=\"#707070\" d=\"M932.85,-407.43C953.91,-373.08 1003.13,-292.84 1024.17,-258.52\"/>\n</g>\n<!-- 34&#45;&gt;44 -->\n<g id=\"edge334\" class=\"edge\">\n<title>34&#45;&gt;44</title>\n<path fill=\"none\" stroke=\"#707070\" d=\"M923,-404.8C923,-370.03 923,-295.78 923,-261.08\"/>\n</g>\n<!-- 34&#45;&gt;45 -->\n<g id=\"edge344\" class=\"edge\">\n<title>34&#45;&gt;45</title>\n<path fill=\"none\" stroke=\"#707070\" d=\"M913.15,-407.43C892.09,-373.08 842.87,-292.84 821.83,-258.52\"/>\n</g>\n<!-- 34&#45;&gt;46 -->\n<g id=\"edge354\" class=\"edge\">\n<title>34&#45;&gt;46</title>\n<path fill=\"none\" stroke=\"#707070\" d=\"M908.09,-411.33C867.65,-378.36 756.21,-287.51 715.85,-254.6\"/>\n</g>\n<!-- 34&#45;&gt;47 -->\n<g id=\"edge364\" class=\"edge\">\n<title>34&#45;&gt;47</title>\n<path fill=\"none\" stroke=\"#707070\" d=\"M906.03,-414.27C848.91,-383.22 664.01,-282.72 606.94,-251.7\"/>\n</g>\n<!-- 34&#45;&gt;48 -->\n<g id=\"edge374\" class=\"edge\">\n<title>34&#45;&gt;48</title>\n<path fill=\"none\" stroke=\"#707070\" d=\"M905.04,-416.17C833.34,-386.94 567.93,-278.75 496.69,-249.71\"/>\n</g>\n<!-- 34&#45;&gt;49 -->\n<g id=\"edge384\" class=\"edge\">\n<title>34&#45;&gt;49</title>\n<path fill=\"none\" stroke=\"#707070\" d=\"M904.53,-417.47C819.99,-389.9 470.35,-275.87 386.25,-248.45\"/>\n</g>\n<!-- 34&#45;&gt;50 -->\n<g id=\"edge394\" class=\"edge\">\n<title>34&#45;&gt;50</title>\n<path fill=\"none\" stroke=\"#707070\" d=\"M904.14,-418.37C807.82,-392.19 371.62,-273.65 275.69,-247.58\"/>\n</g>\n<!-- 35&#45;&gt;41 -->\n<g id=\"edge305\" class=\"edge\">\n<title>35&#45;&gt;41</title>\n<path fill=\"none\" stroke=\"#707070\" d=\"M793.14,-418.37C696.82,-392.19 260.62,-273.65 164.69,-247.58\"/>\n</g>\n<!-- 35&#45;&gt;42 -->\n<g id=\"edge315\" class=\"edge\">\n<title>35&#45;&gt;42</title>\n<path fill=\"none\" stroke=\"#707070\" d=\"M793.18,-419.11C686.68,-394.3 160.67,-271.77 53.92,-246.9\"/>\n</g>\n<!-- 35&#45;&gt;43 -->\n<g id=\"edge325\" class=\"edge\">\n<title>35&#45;&gt;43</title>\n<path fill=\"none\" stroke=\"#707070\" d=\"M826.91,-411.33C867.35,-378.36 978.79,-287.51 1019.15,-254.6\"/>\n</g>\n<!-- 35&#45;&gt;44 -->\n<g id=\"edge335\" class=\"edge\">\n<title>35&#45;&gt;44</title>\n<path fill=\"none\" stroke=\"#707070\" d=\"M821.85,-407.43C842.91,-373.08 892.13,-292.84 913.17,-258.52\"/>\n</g>\n<!-- 35&#45;&gt;45 -->\n<g id=\"edge345\" class=\"edge\">\n<title>35&#45;&gt;45</title>\n<path fill=\"none\" stroke=\"#707070\" d=\"M812,-404.8C812,-370.03 812,-295.78 812,-261.08\"/>\n</g>\n<!-- 35&#45;&gt;46 -->\n<g id=\"edge355\" class=\"edge\">\n<title>35&#45;&gt;46</title>\n<path fill=\"none\" stroke=\"#707070\" d=\"M802.15,-407.43C781.09,-373.08 731.87,-292.84 710.83,-258.52\"/>\n</g>\n<!-- 35&#45;&gt;47 -->\n<g id=\"edge365\" class=\"edge\">\n<title>35&#45;&gt;47</title>\n<path fill=\"none\" stroke=\"#707070\" d=\"M797.09,-411.33C756.65,-378.36 645.21,-287.51 604.85,-254.6\"/>\n</g>\n<!-- 35&#45;&gt;48 -->\n<g id=\"edge375\" class=\"edge\">\n<title>35&#45;&gt;48</title>\n<path fill=\"none\" stroke=\"#707070\" d=\"M795.03,-414.27C737.91,-383.22 553.01,-282.72 495.94,-251.7\"/>\n</g>\n<!-- 35&#45;&gt;49 -->\n<g id=\"edge385\" class=\"edge\">\n<title>35&#45;&gt;49</title>\n<path fill=\"none\" stroke=\"#707070\" d=\"M794.04,-416.17C722.34,-386.94 456.93,-278.75 385.69,-249.71\"/>\n</g>\n<!-- 35&#45;&gt;50 -->\n<g id=\"edge395\" class=\"edge\">\n<title>35&#45;&gt;50</title>\n<path fill=\"none\" stroke=\"#707070\" d=\"M793.53,-417.47C708.99,-389.9 359.35,-275.87 275.25,-248.45\"/>\n</g>\n<!-- 36&#45;&gt;41 -->\n<g id=\"edge306\" class=\"edge\">\n<title>36&#45;&gt;41</title>\n<path fill=\"none\" stroke=\"#707070\" d=\"M682.53,-417.47C597.99,-389.9 248.35,-275.87 164.25,-248.45\"/>\n</g>\n<!-- 36&#45;&gt;42 -->\n<g id=\"edge316\" class=\"edge\">\n<title>36&#45;&gt;42</title>\n<path fill=\"none\" stroke=\"#707070\" d=\"M682.14,-418.37C585.82,-392.19 149.62,-273.65 53.69,-247.58\"/>\n</g>\n<!-- 36&#45;&gt;43 -->\n<g id=\"edge326\" class=\"edge\">\n<title>36&#45;&gt;43</title>\n<path fill=\"none\" stroke=\"#707070\" d=\"M717.97,-414.27C775.09,-383.22 959.99,-282.72 1017.06,-251.7\"/>\n</g>\n<!-- 36&#45;&gt;44 -->\n<g id=\"edge336\" class=\"edge\">\n<title>36&#45;&gt;44</title>\n<path fill=\"none\" stroke=\"#707070\" d=\"M715.91,-411.33C756.35,-378.36 867.79,-287.51 908.15,-254.6\"/>\n</g>\n<!-- 36&#45;&gt;45 -->\n<g id=\"edge346\" class=\"edge\">\n<title>36&#45;&gt;45</title>\n<path fill=\"none\" stroke=\"#707070\" d=\"M710.85,-407.43C731.91,-373.08 781.13,-292.84 802.17,-258.52\"/>\n</g>\n<!-- 36&#45;&gt;46 -->\n<g id=\"edge356\" class=\"edge\">\n<title>36&#45;&gt;46</title>\n<path fill=\"none\" stroke=\"#707070\" d=\"M701,-404.8C701,-370.03 701,-295.78 701,-261.08\"/>\n</g>\n<!-- 36&#45;&gt;47 -->\n<g id=\"edge366\" class=\"edge\">\n<title>36&#45;&gt;47</title>\n<path fill=\"none\" stroke=\"#707070\" d=\"M691.15,-407.43C670.09,-373.08 620.87,-292.84 599.83,-258.52\"/>\n</g>\n<!-- 36&#45;&gt;48 -->\n<g id=\"edge376\" class=\"edge\">\n<title>36&#45;&gt;48</title>\n<path fill=\"none\" stroke=\"#707070\" d=\"M686.09,-411.33C645.65,-378.36 534.21,-287.51 493.85,-254.6\"/>\n</g>\n<!-- 36&#45;&gt;49 -->\n<g id=\"edge386\" class=\"edge\">\n<title>36&#45;&gt;49</title>\n<path fill=\"none\" stroke=\"#707070\" d=\"M684.03,-414.27C626.91,-383.22 442.01,-282.72 384.94,-251.7\"/>\n</g>\n<!-- 36&#45;&gt;50 -->\n<g id=\"edge396\" class=\"edge\">\n<title>36&#45;&gt;50</title>\n<path fill=\"none\" stroke=\"#707070\" d=\"M683.04,-416.17C611.34,-386.94 345.93,-278.75 274.69,-249.71\"/>\n</g>\n<!-- 37&#45;&gt;41 -->\n<g id=\"edge307\" class=\"edge\">\n<title>37&#45;&gt;41</title>\n<path fill=\"none\" stroke=\"#707070\" d=\"M572.04,-416.17C500.34,-386.94 234.93,-278.75 163.69,-249.71\"/>\n</g>\n<!-- 37&#45;&gt;42 -->\n<g id=\"edge317\" class=\"edge\">\n<title>37&#45;&gt;42</title>\n<path fill=\"none\" stroke=\"#707070\" d=\"M571.53,-417.47C486.99,-389.9 137.35,-275.87 53.25,-248.45\"/>\n</g>\n<!-- 37&#45;&gt;43 -->\n<g id=\"edge327\" class=\"edge\">\n<title>37&#45;&gt;43</title>\n<path fill=\"none\" stroke=\"#707070\" d=\"M607.96,-416.17C679.66,-386.94 945.07,-278.75 1016.31,-249.71\"/>\n</g>\n<!-- 37&#45;&gt;44 -->\n<g id=\"edge337\" class=\"edge\">\n<title>37&#45;&gt;44</title>\n<path fill=\"none\" stroke=\"#707070\" d=\"M606.97,-414.27C664.09,-383.22 848.99,-282.72 906.06,-251.7\"/>\n</g>\n<!-- 37&#45;&gt;45 -->\n<g id=\"edge347\" class=\"edge\">\n<title>37&#45;&gt;45</title>\n<path fill=\"none\" stroke=\"#707070\" d=\"M604.91,-411.33C645.35,-378.36 756.79,-287.51 797.15,-254.6\"/>\n</g>\n<!-- 37&#45;&gt;46 -->\n<g id=\"edge357\" class=\"edge\">\n<title>37&#45;&gt;46</title>\n<path fill=\"none\" stroke=\"#707070\" d=\"M599.85,-407.43C620.91,-373.08 670.13,-292.84 691.17,-258.52\"/>\n</g>\n<!-- 37&#45;&gt;47 -->\n<g id=\"edge367\" class=\"edge\">\n<title>37&#45;&gt;47</title>\n<path fill=\"none\" stroke=\"#707070\" d=\"M590,-404.8C590,-370.03 590,-295.78 590,-261.08\"/>\n</g>\n<!-- 37&#45;&gt;48 -->\n<g id=\"edge377\" class=\"edge\">\n<title>37&#45;&gt;48</title>\n<path fill=\"none\" stroke=\"#707070\" d=\"M580.15,-407.43C559.09,-373.08 509.87,-292.84 488.83,-258.52\"/>\n</g>\n<!-- 37&#45;&gt;49 -->\n<g id=\"edge387\" class=\"edge\">\n<title>37&#45;&gt;49</title>\n<path fill=\"none\" stroke=\"#707070\" d=\"M575.09,-411.33C534.65,-378.36 423.21,-287.51 382.85,-254.6\"/>\n</g>\n<!-- 37&#45;&gt;50 -->\n<g id=\"edge397\" class=\"edge\">\n<title>37&#45;&gt;50</title>\n<path fill=\"none\" stroke=\"#707070\" d=\"M573.03,-414.27C515.91,-383.22 331.01,-282.72 273.94,-251.7\"/>\n</g>\n<!-- 38&#45;&gt;41 -->\n<g id=\"edge308\" class=\"edge\">\n<title>38&#45;&gt;41</title>\n<path fill=\"none\" stroke=\"#707070\" d=\"M462.03,-414.27C404.91,-383.22 220.01,-282.72 162.94,-251.7\"/>\n</g>\n<!-- 38&#45;&gt;42 -->\n<g id=\"edge318\" class=\"edge\">\n<title>38&#45;&gt;42</title>\n<path fill=\"none\" stroke=\"#707070\" d=\"M461.04,-416.17C389.34,-386.94 123.93,-278.75 52.69,-249.71\"/>\n</g>\n<!-- 38&#45;&gt;43 -->\n<g id=\"edge328\" class=\"edge\">\n<title>38&#45;&gt;43</title>\n<path fill=\"none\" stroke=\"#707070\" d=\"M497.47,-417.47C582.01,-389.9 931.65,-275.87 1015.75,-248.45\"/>\n</g>\n<!-- 38&#45;&gt;44 -->\n<g id=\"edge338\" class=\"edge\">\n<title>38&#45;&gt;44</title>\n<path fill=\"none\" stroke=\"#707070\" d=\"M496.96,-416.17C568.66,-386.94 834.07,-278.75 905.31,-249.71\"/>\n</g>\n<!-- 38&#45;&gt;45 -->\n<g id=\"edge348\" class=\"edge\">\n<title>38&#45;&gt;45</title>\n<path fill=\"none\" stroke=\"#707070\" d=\"M495.97,-414.27C553.09,-383.22 737.99,-282.72 795.06,-251.7\"/>\n</g>\n<!-- 38&#45;&gt;46 -->\n<g id=\"edge358\" class=\"edge\">\n<title>38&#45;&gt;46</title>\n<path fill=\"none\" stroke=\"#707070\" d=\"M493.91,-411.33C534.35,-378.36 645.79,-287.51 686.15,-254.6\"/>\n</g>\n<!-- 38&#45;&gt;47 -->\n<g id=\"edge368\" class=\"edge\">\n<title>38&#45;&gt;47</title>\n<path fill=\"none\" stroke=\"#707070\" d=\"M488.85,-407.43C509.91,-373.08 559.13,-292.84 580.17,-258.52\"/>\n</g>\n<!-- 38&#45;&gt;48 -->\n<g id=\"edge378\" class=\"edge\">\n<title>38&#45;&gt;48</title>\n<path fill=\"none\" stroke=\"#707070\" d=\"M479,-404.8C479,-370.03 479,-295.78 479,-261.08\"/>\n</g>\n<!-- 38&#45;&gt;49 -->\n<g id=\"edge388\" class=\"edge\">\n<title>38&#45;&gt;49</title>\n<path fill=\"none\" stroke=\"#707070\" d=\"M469.15,-407.43C448.09,-373.08 398.87,-292.84 377.83,-258.52\"/>\n</g>\n<!-- 38&#45;&gt;50 -->\n<g id=\"edge398\" class=\"edge\">\n<title>38&#45;&gt;50</title>\n<path fill=\"none\" stroke=\"#707070\" d=\"M464.09,-411.33C423.65,-378.36 312.21,-287.51 271.85,-254.6\"/>\n</g>\n<!-- 39&#45;&gt;41 -->\n<g id=\"edge309\" class=\"edge\">\n<title>39&#45;&gt;41</title>\n<path fill=\"none\" stroke=\"#707070\" d=\"M353.09,-411.33C312.65,-378.36 201.21,-287.51 160.85,-254.6\"/>\n</g>\n<!-- 39&#45;&gt;42 -->\n<g id=\"edge319\" class=\"edge\">\n<title>39&#45;&gt;42</title>\n<path fill=\"none\" stroke=\"#707070\" d=\"M351.03,-414.27C293.91,-383.22 109.01,-282.72 51.94,-251.7\"/>\n</g>\n<!-- 39&#45;&gt;43 -->\n<g id=\"edge329\" class=\"edge\">\n<title>39&#45;&gt;43</title>\n<path fill=\"none\" stroke=\"#707070\" d=\"M386.86,-418.37C483.18,-392.19 919.38,-273.65 1015.31,-247.58\"/>\n</g>\n<!-- 39&#45;&gt;44 -->\n<g id=\"edge339\" class=\"edge\">\n<title>39&#45;&gt;44</title>\n<path fill=\"none\" stroke=\"#707070\" d=\"M386.47,-417.47C471.01,-389.9 820.65,-275.87 904.75,-248.45\"/>\n</g>\n<!-- 39&#45;&gt;45 -->\n<g id=\"edge349\" class=\"edge\">\n<title>39&#45;&gt;45</title>\n<path fill=\"none\" stroke=\"#707070\" d=\"M385.96,-416.17C457.66,-386.94 723.07,-278.75 794.31,-249.71\"/>\n</g>\n<!-- 39&#45;&gt;46 -->\n<g id=\"edge359\" class=\"edge\">\n<title>39&#45;&gt;46</title>\n<path fill=\"none\" stroke=\"#707070\" d=\"M384.97,-414.27C442.09,-383.22 626.99,-282.72 684.06,-251.7\"/>\n</g>\n<!-- 39&#45;&gt;47 -->\n<g id=\"edge369\" class=\"edge\">\n<title>39&#45;&gt;47</title>\n<path fill=\"none\" stroke=\"#707070\" d=\"M382.91,-411.33C423.35,-378.36 534.79,-287.51 575.15,-254.6\"/>\n</g>\n<!-- 39&#45;&gt;48 -->\n<g id=\"edge379\" class=\"edge\">\n<title>39&#45;&gt;48</title>\n<path fill=\"none\" stroke=\"#707070\" d=\"M377.85,-407.43C398.91,-373.08 448.13,-292.84 469.17,-258.52\"/>\n</g>\n<!-- 39&#45;&gt;49 -->\n<g id=\"edge389\" class=\"edge\">\n<title>39&#45;&gt;49</title>\n<path fill=\"none\" stroke=\"#707070\" d=\"M368,-404.8C368,-370.03 368,-295.78 368,-261.08\"/>\n</g>\n<!-- 39&#45;&gt;50 -->\n<g id=\"edge399\" class=\"edge\">\n<title>39&#45;&gt;50</title>\n<path fill=\"none\" stroke=\"#707070\" d=\"M358.15,-407.43C337.09,-373.08 287.87,-292.84 266.83,-258.52\"/>\n</g>\n<!-- 40&#45;&gt;41 -->\n<g id=\"edge310\" class=\"edge\">\n<title>40&#45;&gt;41</title>\n<path fill=\"none\" stroke=\"#707070\" d=\"M247.15,-407.43C226.09,-373.08 176.87,-292.84 155.83,-258.52\"/>\n</g>\n<!-- 40&#45;&gt;42 -->\n<g id=\"edge320\" class=\"edge\">\n<title>40&#45;&gt;42</title>\n<path fill=\"none\" stroke=\"#707070\" d=\"M242.09,-411.33C201.65,-378.36 90.21,-287.51 49.85,-254.6\"/>\n</g>\n<!-- 40&#45;&gt;43 -->\n<g id=\"edge330\" class=\"edge\">\n<title>40&#45;&gt;43</title>\n<path fill=\"none\" stroke=\"#707070\" d=\"M275.82,-419.11C382.32,-394.3 908.33,-271.77 1015.08,-246.9\"/>\n</g>\n<!-- 40&#45;&gt;44 -->\n<g id=\"edge340\" class=\"edge\">\n<title>40&#45;&gt;44</title>\n<path fill=\"none\" stroke=\"#707070\" d=\"M275.86,-418.37C372.18,-392.19 808.38,-273.65 904.31,-247.58\"/>\n</g>\n<!-- 40&#45;&gt;45 -->\n<g id=\"edge350\" class=\"edge\">\n<title>40&#45;&gt;45</title>\n<path fill=\"none\" stroke=\"#707070\" d=\"M275.47,-417.47C360.01,-389.9 709.65,-275.87 793.75,-248.45\"/>\n</g>\n<!-- 40&#45;&gt;46 -->\n<g id=\"edge360\" class=\"edge\">\n<title>40&#45;&gt;46</title>\n<path fill=\"none\" stroke=\"#707070\" d=\"M274.96,-416.17C346.66,-386.94 612.07,-278.75 683.31,-249.71\"/>\n</g>\n<!-- 40&#45;&gt;47 -->\n<g id=\"edge370\" class=\"edge\">\n<title>40&#45;&gt;47</title>\n<path fill=\"none\" stroke=\"#707070\" d=\"M273.97,-414.27C331.09,-383.22 515.99,-282.72 573.06,-251.7\"/>\n</g>\n<!-- 40&#45;&gt;48 -->\n<g id=\"edge380\" class=\"edge\">\n<title>40&#45;&gt;48</title>\n<path fill=\"none\" stroke=\"#707070\" d=\"M271.91,-411.33C312.35,-378.36 423.79,-287.51 464.15,-254.6\"/>\n</g>\n<!-- 40&#45;&gt;49 -->\n<g id=\"edge390\" class=\"edge\">\n<title>40&#45;&gt;49</title>\n<path fill=\"none\" stroke=\"#707070\" d=\"M266.85,-407.43C287.91,-373.08 337.13,-292.84 358.17,-258.52\"/>\n</g>\n<!-- 40&#45;&gt;50 -->\n<g id=\"edge400\" class=\"edge\">\n<title>40&#45;&gt;50</title>\n<path fill=\"none\" stroke=\"#707070\" d=\"M257,-404.8C257,-370.03 257,-295.78 257,-261.08\"/>\n</g>\n<!-- 51 -->\n<g id=\"node51\" class=\"node\">\n<title>51</title>\n<ellipse fill=\"#e74c3c\" stroke=\"#e74c3c\" cx=\"534\" cy=\"-58.5\" rx=\"19.5\" ry=\"19.5\"/>\n<text text-anchor=\"middle\" x=\"534\" y=\"-54.8\" font-family=\"Times,serif\" font-size=\"14.00\" fill=\"#e74c3c\">51</text>\n</g>\n<!-- 41&#45;&gt;51 -->\n<g id=\"edge401\" class=\"edge\">\n<title>41&#45;&gt;51</title>\n<path fill=\"none\" stroke=\"#707070\" d=\"M163.43,-232.37C227.86,-202.31 452.26,-97.63 516.62,-67.6\"/>\n</g>\n<!-- 42&#45;&gt;51 -->\n<g id=\"edge402\" class=\"edge\">\n<title>42&#45;&gt;51</title>\n<path fill=\"none\" stroke=\"#707070\" d=\"M53.05,-233.95C130.98,-205.68 438.09,-94.29 515.97,-66.04\"/>\n</g>\n<!-- 43&#45;&gt;51 -->\n<g id=\"edge403\" class=\"edge\">\n<title>43&#45;&gt;51</title>\n<path fill=\"none\" stroke=\"#707070\" d=\"M1015.91,-233.95C937.82,-205.68 630.1,-94.29 552.07,-66.04\"/>\n</g>\n<!-- 44&#45;&gt;51 -->\n<g id=\"edge404\" class=\"edge\">\n<title>44&#45;&gt;51</title>\n<path fill=\"none\" stroke=\"#707070\" d=\"M905.53,-232.37C840.92,-202.31 615.95,-97.63 551.42,-67.6\"/>\n</g>\n<!-- 45&#45;&gt;51 -->\n<g id=\"edge405\" class=\"edge\">\n<title>45&#45;&gt;51</title>\n<path fill=\"none\" stroke=\"#707070\" d=\"M795.85,-229.98C746.72,-197.99 599.39,-102.07 550.19,-70.04\"/>\n</g>\n<!-- 46&#45;&gt;51 -->\n<g id=\"edge406\" class=\"edge\">\n<title>46&#45;&gt;51</title>\n<path fill=\"none\" stroke=\"#707070\" d=\"M688.17,-226.59C657.09,-192.9 578,-107.19 546.87,-73.45\"/>\n</g>\n<!-- 47&#45;&gt;51 -->\n<g id=\"edge407\" class=\"edge\">\n<title>47&#45;&gt;51</title>\n<path fill=\"none\" stroke=\"#707070\" d=\"M584.43,-222.48C573.69,-187.79 550.27,-112.08 539.55,-77.44\"/>\n</g>\n<!-- 48&#45;&gt;51 -->\n<g id=\"edge408\" class=\"edge\">\n<title>48&#45;&gt;51</title>\n<path fill=\"none\" stroke=\"#707070\" d=\"M484.47,-222.48C495.02,-187.79 518.02,-112.08 528.55,-77.44\"/>\n</g>\n<!-- 49&#45;&gt;51 -->\n<g id=\"edge409\" class=\"edge\">\n<title>49&#45;&gt;51</title>\n<path fill=\"none\" stroke=\"#707070\" d=\"M380.75,-226.59C411.65,-192.9 490.26,-107.19 521.21,-73.45\"/>\n</g>\n<!-- 50&#45;&gt;51 -->\n<g id=\"edge410\" class=\"edge\">\n<title>50&#45;&gt;51</title>\n<path fill=\"none\" stroke=\"#707070\" d=\"M273.09,-229.98C322.05,-197.99 468.85,-102.07 517.87,-70.04\"/>\n</g>\n</g>\n</svg>\n",
            "text/plain": [
              "<graphviz.sources.Source at 0x7b334dbf8670>"
            ]
          },
          "metadata": {},
          "execution_count": 19
        }
      ]
    },
    {
      "cell_type": "code",
      "source": [
        "test_results = model.evaluate(test_set_x, test_set_y)"
      ],
      "metadata": {
        "colab": {
          "base_uri": "https://localhost:8080/"
        },
        "id": "6fGqOke0dLAQ",
        "outputId": "82496cf6-0a53-45fb-8c33-a4539b162d31"
      },
      "execution_count": 20,
      "outputs": [
        {
          "output_type": "stream",
          "name": "stdout",
          "text": [
            "4/4 [==============================] - 0s 3ms/step - loss: 39.4155 - mae: 4.9049\n"
          ]
        }
      ]
    },
    {
      "cell_type": "code",
      "source": [
        "predicted_results = model.predict(test_set_x)"
      ],
      "metadata": {
        "colab": {
          "base_uri": "https://localhost:8080/"
        },
        "id": "KlmkjjG5dVns",
        "outputId": "8b4668c5-4602-40b5-bcda-3225b572ed93"
      },
      "execution_count": 21,
      "outputs": [
        {
          "output_type": "stream",
          "name": "stdout",
          "text": [
            "4/4 [==============================] - 0s 3ms/step\n"
          ]
        }
      ]
    },
    {
      "cell_type": "code",
      "source": [
        "for i in range(len(predicted_results)):\n",
        "  print(f\"Predicted: {predicted_results[i]}, Actual: {test_set_y[i]}\")"
      ],
      "metadata": {
        "colab": {
          "base_uri": "https://localhost:8080/"
        },
        "id": "hXhI4Ey7daat",
        "outputId": "235e3d55-39cd-4ca7-e513-dbd00db360fd"
      },
      "execution_count": 22,
      "outputs": [
        {
          "output_type": "stream",
          "name": "stdout",
          "text": [
            "Predicted: [6.1958203], Actual: 7.2\n",
            "Predicted: [15.8490505], Actual: 18.8\n",
            "Predicted: [17.944332], Actual: 19.0\n",
            "Predicted: [27.053726], Actual: 27.0\n",
            "Predicted: [20.152061], Actual: 22.2\n",
            "Predicted: [16.819794], Actual: 24.5\n",
            "Predicted: [24.371775], Actual: 31.2\n",
            "Predicted: [18.588459], Actual: 22.9\n",
            "Predicted: [16.19031], Actual: 20.5\n",
            "Predicted: [16.594704], Actual: 23.2\n",
            "Predicted: [10.97484], Actual: 18.6\n",
            "Predicted: [14.140938], Actual: 14.5\n",
            "Predicted: [14.600967], Actual: 17.8\n",
            "Predicted: [37.72186], Actual: 50.0\n",
            "Predicted: [12.382934], Actual: 20.8\n",
            "Predicted: [16.53486], Actual: 24.3\n",
            "Predicted: [22.544737], Actual: 24.2\n",
            "Predicted: [17.964333], Actual: 19.8\n",
            "Predicted: [13.584579], Actual: 19.1\n",
            "Predicted: [28.39877], Actual: 22.7\n",
            "Predicted: [7.6143723], Actual: 12.0\n",
            "Predicted: [9.819311], Actual: 10.2\n",
            "Predicted: [16.814577], Actual: 20.0\n",
            "Predicted: [12.638902], Actual: 18.5\n",
            "Predicted: [16.231184], Actual: 20.9\n",
            "Predicted: [18.135096], Actual: 23.0\n",
            "Predicted: [27.22124], Actual: 27.5\n",
            "Predicted: [21.973299], Actual: 30.1\n",
            "Predicted: [8.812968], Actual: 9.5\n",
            "Predicted: [18.272417], Actual: 22.0\n",
            "Predicted: [17.487795], Actual: 21.2\n",
            "Predicted: [9.839938], Actual: 14.1\n",
            "Predicted: [28.555763], Actual: 33.1\n",
            "Predicted: [21.19274], Actual: 23.4\n",
            "Predicted: [9.588279], Actual: 20.1\n",
            "Predicted: [4.4612346], Actual: 7.4\n",
            "Predicted: [12.145613], Actual: 15.4\n",
            "Predicted: [12.107709], Actual: 23.8\n",
            "Predicted: [17.559845], Actual: 20.1\n",
            "Predicted: [21.998865], Actual: 24.5\n",
            "Predicted: [22.321756], Actual: 33.0\n",
            "Predicted: [22.254194], Actual: 28.4\n",
            "Predicted: [9.725853], Actual: 14.1\n",
            "Predicted: [37.706882], Actual: 46.7\n",
            "Predicted: [24.775475], Actual: 32.5\n",
            "Predicted: [19.47241], Actual: 29.6\n",
            "Predicted: [22.701311], Actual: 28.4\n",
            "Predicted: [14.560259], Actual: 19.8\n",
            "Predicted: [17.284424], Actual: 20.2\n",
            "Predicted: [19.161713], Actual: 25.0\n",
            "Predicted: [29.321356], Actual: 35.4\n",
            "Predicted: [15.766617], Actual: 20.3\n",
            "Predicted: [8.888669], Actual: 9.7\n",
            "Predicted: [13.833786], Actual: 14.5\n",
            "Predicted: [30.974215], Actual: 34.9\n",
            "Predicted: [22.746906], Actual: 26.6\n",
            "Predicted: [7.5921545], Actual: 7.2\n",
            "Predicted: [45.3979], Actual: 50.0\n",
            "Predicted: [29.957304], Actual: 32.4\n",
            "Predicted: [19.348667], Actual: 21.6\n",
            "Predicted: [17.67108], Actual: 29.8\n",
            "Predicted: [10.95643], Actual: 13.1\n",
            "Predicted: [8.928382], Actual: 27.5\n",
            "Predicted: [16.614346], Actual: 21.2\n",
            "Predicted: [20.107141], Actual: 23.1\n",
            "Predicted: [17.916054], Actual: 21.9\n",
            "Predicted: [9.801323], Actual: 13.0\n",
            "Predicted: [18.619085], Actual: 23.2\n",
            "Predicted: [11.26461], Actual: 8.1\n",
            "Predicted: [5.1834054], Actual: 5.6\n",
            "Predicted: [28.408747], Actual: 21.7\n",
            "Predicted: [24.566198], Actual: 29.6\n",
            "Predicted: [19.39004], Actual: 19.6\n",
            "Predicted: [12.218245], Actual: 7.0\n",
            "Predicted: [21.234499], Actual: 26.4\n",
            "Predicted: [14.5446825], Actual: 18.9\n",
            "Predicted: [17.47305], Actual: 20.9\n",
            "Predicted: [20.30467], Actual: 28.1\n",
            "Predicted: [31.345345], Actual: 35.4\n",
            "Predicted: [7.247854], Actual: 10.2\n",
            "Predicted: [16.89474], Actual: 24.3\n",
            "Predicted: [35.387222], Actual: 43.1\n",
            "Predicted: [12.304054], Actual: 17.6\n",
            "Predicted: [8.948439], Actual: 15.4\n",
            "Predicted: [14.914685], Actual: 16.2\n",
            "Predicted: [15.115061], Actual: 27.1\n",
            "Predicted: [11.605092], Actual: 21.4\n",
            "Predicted: [18.321188], Actual: 21.5\n",
            "Predicted: [18.641302], Actual: 22.4\n",
            "Predicted: [24.966381], Actual: 25.0\n",
            "Predicted: [16.164188], Actual: 16.6\n",
            "Predicted: [15.646631], Actual: 18.6\n",
            "Predicted: [21.189434], Actual: 22.0\n",
            "Predicted: [35.52521], Actual: 42.8\n",
            "Predicted: [31.858227], Actual: 35.1\n",
            "Predicted: [16.744976], Actual: 21.5\n",
            "Predicted: [32.89079], Actual: 36.0\n",
            "Predicted: [48.156967], Actual: 21.9\n",
            "Predicted: [22.437742], Actual: 24.1\n",
            "Predicted: [43.745174], Actual: 50.0\n",
            "Predicted: [28.897272], Actual: 26.7\n",
            "Predicted: [14.062171], Actual: 25.0\n"
          ]
        }
      ]
    },
    {
      "cell_type": "code",
      "source": [],
      "metadata": {
        "id": "oUXrTmsddegz"
      },
      "execution_count": 22,
      "outputs": []
    }
  ]
}